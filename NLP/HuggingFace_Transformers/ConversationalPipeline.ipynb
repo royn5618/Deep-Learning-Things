{
 "cells": [
  {
   "cell_type": "code",
   "execution_count": 1,
   "metadata": {
    "ExecuteTime": {
     "end_time": "2022-04-02T19:31:54.422179Z",
     "start_time": "2022-04-02T19:31:38.543704Z"
    }
   },
   "outputs": [
    {
     "name": "stderr",
     "output_type": "stream",
     "text": [
      "C:\\Users\\nroy0\\anaconda3\\lib\\site-packages\\torchaudio\\extension\\extension.py:13: UserWarning: torchaudio C++ extension is not available.\n",
      "  warnings.warn('torchaudio C++ extension is not available.')\n"
     ]
    }
   ],
   "source": [
    "from transformers import pipeline, Conversation"
   ]
  },
  {
   "cell_type": "code",
   "execution_count": 2,
   "metadata": {
    "ExecuteTime": {
     "end_time": "2022-04-02T19:32:03.723068Z",
     "start_time": "2022-04-02T19:31:54.502512Z"
    }
   },
   "outputs": [],
   "source": [
    "conversational_pipeline = pipeline(\"conversational\")"
   ]
  },
  {
   "cell_type": "code",
   "execution_count": 3,
   "metadata": {
    "ExecuteTime": {
     "end_time": "2022-04-02T19:32:03.832916Z",
     "start_time": "2022-04-02T19:32:03.822340Z"
    }
   },
   "outputs": [],
   "source": [
    "conv1_start = \"Is the ice caps melting?\"\n",
    "conv1 = Conversation(conv1_start)"
   ]
  },
  {
   "cell_type": "code",
   "execution_count": 4,
   "metadata": {
    "ExecuteTime": {
     "end_time": "2022-04-02T19:32:04.808222Z",
     "start_time": "2022-04-02T19:32:03.915420Z"
    }
   },
   "outputs": [
    {
     "name": "stderr",
     "output_type": "stream",
     "text": [
      "Setting `pad_token_id` to `eos_token_id`:50256 for open-end generation.\n"
     ]
    },
    {
     "data": {
      "text/plain": [
       "Conversation id: 0c4b10d7-d2f6-48bb-96a9-eaeec6bc393e \n",
       "user >> Is the ice caps melting? \n",
       "bot >> I think it's just the wind. "
      ]
     },
     "execution_count": 4,
     "metadata": {},
     "output_type": "execute_result"
    }
   ],
   "source": [
    "conversational_pipeline(conv1)"
   ]
  },
  {
   "cell_type": "code",
   "execution_count": 5,
   "metadata": {
    "ExecuteTime": {
     "end_time": "2022-04-02T19:32:04.902716Z",
     "start_time": "2022-04-02T19:32:04.890542Z"
    }
   },
   "outputs": [],
   "source": [
    "conv1.add_user_input(\"The temparatures are soaring\")"
   ]
  },
  {
   "cell_type": "code",
   "execution_count": 6,
   "metadata": {
    "ExecuteTime": {
     "end_time": "2022-04-02T19:32:05.545552Z",
     "start_time": "2022-04-02T19:32:04.983905Z"
    }
   },
   "outputs": [
    {
     "name": "stderr",
     "output_type": "stream",
     "text": [
      "Setting `pad_token_id` to `eos_token_id`:50256 for open-end generation.\n"
     ]
    },
    {
     "data": {
      "text/plain": [
       "Conversation id: 0c4b10d7-d2f6-48bb-96a9-eaeec6bc393e \n",
       "user >> Is the ice caps melting? \n",
       "bot >> I think it's just the wind. \n",
       "user >> The temparatures are soaring \n",
       "bot >> The wind is blowing "
      ]
     },
     "execution_count": 6,
     "metadata": {},
     "output_type": "execute_result"
    }
   ],
   "source": [
    "conversational_pipeline(conv1)"
   ]
  },
  {
   "cell_type": "code",
   "execution_count": 7,
   "metadata": {
    "ExecuteTime": {
     "end_time": "2022-04-02T19:32:36.000827Z",
     "start_time": "2022-04-02T19:32:35.983117Z"
    }
   },
   "outputs": [],
   "source": [
    "conv1.add_user_input(\"Smelly cat smelly cat\")"
   ]
  },
  {
   "cell_type": "code",
   "execution_count": 8,
   "metadata": {
    "ExecuteTime": {
     "end_time": "2022-04-02T19:32:42.386630Z",
     "start_time": "2022-04-02T19:32:41.787500Z"
    }
   },
   "outputs": [
    {
     "name": "stderr",
     "output_type": "stream",
     "text": [
      "Setting `pad_token_id` to `eos_token_id`:50256 for open-end generation.\n"
     ]
    },
    {
     "data": {
      "text/plain": [
       "Conversation id: 0c4b10d7-d2f6-48bb-96a9-eaeec6bc393e \n",
       "user >> Is the ice caps melting? \n",
       "bot >> I think it's just the wind. \n",
       "user >> The temparatures are soaring \n",
       "bot >> The wind is blowing \n",
       "user >> Smelly cat smelly cat \n",
       "bot >> I'm a cat "
      ]
     },
     "execution_count": 8,
     "metadata": {},
     "output_type": "execute_result"
    }
   ],
   "source": [
    "conversational_pipeline(conv1)"
   ]
  },
  {
   "cell_type": "code",
   "execution_count": null,
   "metadata": {},
   "outputs": [],
   "source": []
  }
 ],
 "metadata": {
  "kernelspec": {
   "display_name": "Python 3",
   "language": "python",
   "name": "python3"
  },
  "language_info": {
   "codemirror_mode": {
    "name": "ipython",
    "version": 3
   },
   "file_extension": ".py",
   "mimetype": "text/x-python",
   "name": "python",
   "nbconvert_exporter": "python",
   "pygments_lexer": "ipython3",
   "version": "3.8.5"
  },
  "toc": {
   "base_numbering": 1,
   "nav_menu": {},
   "number_sections": true,
   "sideBar": true,
   "skip_h1_title": false,
   "title_cell": "Table of Contents",
   "title_sidebar": "Contents",
   "toc_cell": false,
   "toc_position": {},
   "toc_section_display": true,
   "toc_window_display": false
  },
  "varInspector": {
   "cols": {
    "lenName": 16,
    "lenType": 16,
    "lenVar": 40
   },
   "kernels_config": {
    "python": {
     "delete_cmd_postfix": "",
     "delete_cmd_prefix": "del ",
     "library": "var_list.py",
     "varRefreshCmd": "print(var_dic_list())"
    },
    "r": {
     "delete_cmd_postfix": ") ",
     "delete_cmd_prefix": "rm(",
     "library": "var_list.r",
     "varRefreshCmd": "cat(var_dic_list()) "
    }
   },
   "types_to_exclude": [
    "module",
    "function",
    "builtin_function_or_method",
    "instance",
    "_Feature"
   ],
   "window_display": false
  }
 },
 "nbformat": 4,
 "nbformat_minor": 4
}
