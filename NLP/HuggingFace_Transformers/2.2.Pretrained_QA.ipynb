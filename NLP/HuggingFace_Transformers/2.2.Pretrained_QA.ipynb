{
 "cells": [
  {
   "cell_type": "code",
   "execution_count": 1,
   "metadata": {
    "ExecuteTime": {
     "end_time": "2021-05-24T22:36:50.343218Z",
     "start_time": "2021-05-24T22:36:45.363942Z"
    }
   },
   "outputs": [],
   "source": [
    "import warnings\n",
    "warnings.filterwarnings('ignore')\n",
    "\n",
    "from transformers import pipeline"
   ]
  },
  {
   "cell_type": "code",
   "execution_count": 2,
   "metadata": {
    "ExecuteTime": {
     "end_time": "2021-05-24T22:37:29.463092Z",
     "start_time": "2021-05-24T22:36:59.316022Z"
    }
   },
   "outputs": [
    {
     "data": {
      "application/vnd.jupyter.widget-view+json": {
       "model_id": "a48de11e97b24cb6bba94a27a5870707",
       "version_major": 2,
       "version_minor": 0
      },
      "text/plain": [
       "HBox(children=(HTML(value='Downloading'), FloatProgress(value=0.0, max=473.0), HTML(value='')))"
      ]
     },
     "metadata": {},
     "output_type": "display_data"
    },
    {
     "name": "stdout",
     "output_type": "stream",
     "text": [
      "\n"
     ]
    },
    {
     "data": {
      "application/vnd.jupyter.widget-view+json": {
       "model_id": "a367218cf5b344c1927ccd1578984e5a",
       "version_major": 2,
       "version_minor": 0
      },
      "text/plain": [
       "HBox(children=(HTML(value='Downloading'), FloatProgress(value=0.0, max=260793700.0), HTML(value='')))"
      ]
     },
     "metadata": {},
     "output_type": "display_data"
    },
    {
     "name": "stdout",
     "output_type": "stream",
     "text": [
      "\n"
     ]
    },
    {
     "data": {
      "application/vnd.jupyter.widget-view+json": {
       "model_id": "b8379c0a4aff480bb08078baea919c2b",
       "version_major": 2,
       "version_minor": 0
      },
      "text/plain": [
       "HBox(children=(HTML(value='Downloading'), FloatProgress(value=0.0, max=213450.0), HTML(value='')))"
      ]
     },
     "metadata": {},
     "output_type": "display_data"
    },
    {
     "name": "stdout",
     "output_type": "stream",
     "text": [
      "\n"
     ]
    },
    {
     "data": {
      "application/vnd.jupyter.widget-view+json": {
       "model_id": "cf2327221cc64536bb4bbb0484640dc0",
       "version_major": 2,
       "version_minor": 0
      },
      "text/plain": [
       "HBox(children=(HTML(value='Downloading'), FloatProgress(value=0.0, max=435797.0), HTML(value='')))"
      ]
     },
     "metadata": {},
     "output_type": "display_data"
    },
    {
     "name": "stdout",
     "output_type": "stream",
     "text": [
      "\n"
     ]
    },
    {
     "data": {
      "application/vnd.jupyter.widget-view+json": {
       "model_id": "97fa990112994d5d871114db5e537e3c",
       "version_major": 2,
       "version_minor": 0
      },
      "text/plain": [
       "HBox(children=(HTML(value='Downloading'), FloatProgress(value=0.0, max=29.0), HTML(value='')))"
      ]
     },
     "metadata": {},
     "output_type": "display_data"
    },
    {
     "name": "stdout",
     "output_type": "stream",
     "text": [
      "\n"
     ]
    },
    {
     "data": {
      "text/plain": [
       "{'score': 0.9976300597190857, 'start': 11, 'end': 19, 'answer': 'Nabanita'}"
      ]
     },
     "execution_count": 2,
     "metadata": {},
     "output_type": "execute_result"
    }
   ],
   "source": [
    "nlp = pipeline('question-answering')\n",
    "nlp({\n",
    "    'question': 'What is my name ?',\n",
    "    'context': 'My name is Nabanita'\n",
    "})"
   ]
  },
  {
   "cell_type": "code",
   "execution_count": 4,
   "metadata": {
    "ExecuteTime": {
     "end_time": "2021-05-24T22:38:37.486617Z",
     "start_time": "2021-05-24T22:38:37.365740Z"
    }
   },
   "outputs": [
    {
     "data": {
      "text/plain": [
       "{'score': 0.9913884401321411,\n",
       " 'start': 28,\n",
       " 'end': 42,\n",
       " 'answer': 'Data Scientist'}"
      ]
     },
     "execution_count": 4,
     "metadata": {},
     "output_type": "execute_result"
    }
   ],
   "source": [
    "nlp({\n",
    "    'question': 'What is my profession?',\n",
    "    'context': 'My name is Nabanita. I am a Data Scientist at ACI Worldwide. I also work as a Data Science tutor at WAIA.'\n",
    "})"
   ]
  },
  {
   "cell_type": "code",
   "execution_count": 6,
   "metadata": {
    "ExecuteTime": {
     "end_time": "2021-05-24T22:39:32.193873Z",
     "start_time": "2021-05-24T22:39:32.043195Z"
    }
   },
   "outputs": [
    {
     "data": {
      "text/plain": [
       "{'score': 0.9894105792045593, 'start': 11, 'end': 19, 'answer': 'Nabanita'}"
      ]
     },
     "execution_count": 6,
     "metadata": {},
     "output_type": "execute_result"
    }
   ],
   "source": [
    "nlp({\n",
    "    'question': 'What is my company name?',\n",
    "    'context': 'My name is Nabanita. I am a Data Scientist at ACI Worldwide. I also work as a Data Science tutor at WAIA.'\n",
    "})"
   ]
  },
  {
   "cell_type": "code",
   "execution_count": 7,
   "metadata": {
    "ExecuteTime": {
     "end_time": "2021-05-24T22:39:42.478466Z",
     "start_time": "2021-05-24T22:39:42.345355Z"
    }
   },
   "outputs": [
    {
     "data": {
      "text/plain": [
       "{'score': 0.7171697020530701,\n",
       " 'start': 46,\n",
       " 'end': 59,\n",
       " 'answer': 'ACI Worldwide'}"
      ]
     },
     "execution_count": 7,
     "metadata": {},
     "output_type": "execute_result"
    }
   ],
   "source": [
    "nlp({\n",
    "    'question': 'What is my company?',\n",
    "    'context': 'My name is Nabanita. I am a Data Scientist at ACI Worldwide. I also work as a Data Science tutor at WAIA.'\n",
    "})"
   ]
  },
  {
   "cell_type": "code",
   "execution_count": 8,
   "metadata": {
    "ExecuteTime": {
     "end_time": "2021-05-24T22:39:56.771285Z",
     "start_time": "2021-05-24T22:39:56.626636Z"
    }
   },
   "outputs": [
    {
     "data": {
      "text/plain": [
       "{'score': 0.24611249566078186,\n",
       " 'start': 28,\n",
       " 'end': 96,\n",
       " 'answer': 'Data Scientist at ACI Worldwide. I also work as a Data Science tutor'}"
      ]
     },
     "execution_count": 8,
     "metadata": {},
     "output_type": "execute_result"
    }
   ],
   "source": [
    "nlp({\n",
    "    'question': 'What do I do?',\n",
    "    'context': 'My name is Nabanita. I am a Data Scientist at ACI Worldwide. I also work as a Data Science tutor at WAIA.'\n",
    "})"
   ]
  },
  {
   "cell_type": "code",
   "execution_count": 9,
   "metadata": {
    "ExecuteTime": {
     "end_time": "2021-05-24T22:41:04.961801Z",
     "start_time": "2021-05-24T22:41:04.950503Z"
    }
   },
   "outputs": [],
   "source": [
    "context = '''WaiPRACTICE is a subset of WaiLEARN, our main education program. WaiPractice is a playground where learners, \n",
    "enthusiasts, and experts can collaborate and practice their skills, grow their knowledge, share best practices, \n",
    "explore new use-cases, and simultaneously grow their networks in the domain of #AI. This program also provides \n",
    "access to mentorship opportunities, networking and community building while ensuring continous establishment of \n",
    "individual online portfolios.'''"
   ]
  },
  {
   "cell_type": "code",
   "execution_count": 11,
   "metadata": {
    "ExecuteTime": {
     "end_time": "2021-05-24T22:42:41.282884Z",
     "start_time": "2021-05-24T22:42:41.271698Z"
    }
   },
   "outputs": [],
   "source": [
    "def get_answer(question, context):\n",
    "    return nlp({\n",
    "        'question': question,\n",
    "        'context': context\n",
    "    })['answer']"
   ]
  },
  {
   "cell_type": "code",
   "execution_count": 12,
   "metadata": {
    "ExecuteTime": {
     "end_time": "2021-05-24T22:42:59.866589Z",
     "start_time": "2021-05-24T22:42:59.667542Z"
    }
   },
   "outputs": [
    {
     "data": {
      "text/plain": [
       "'a subset of WaiLEARN, our main education program'"
      ]
     },
     "execution_count": 12,
     "metadata": {},
     "output_type": "execute_result"
    }
   ],
   "source": [
    "get_answer('What is WaiPRACTICE?', context)"
   ]
  },
  {
   "cell_type": "code",
   "execution_count": 14,
   "metadata": {
    "ExecuteTime": {
     "end_time": "2021-05-24T22:43:40.796825Z",
     "start_time": "2021-05-24T22:43:40.605592Z"
    }
   },
   "outputs": [
    {
     "data": {
      "text/plain": [
       "'grow their knowledge, share best practices, \\nexplore new use-cases'"
      ]
     },
     "execution_count": 14,
     "metadata": {},
     "output_type": "execute_result"
    }
   ],
   "source": [
    "get_answer('What do we do in WaiPRACTICE?', context)"
   ]
  },
  {
   "cell_type": "code",
   "execution_count": 15,
   "metadata": {
    "ExecuteTime": {
     "end_time": "2021-05-24T22:44:08.474993Z",
     "start_time": "2021-05-24T22:44:08.267634Z"
    }
   },
   "outputs": [
    {
     "data": {
      "text/plain": [
       "'grow their knowledge, share best practices'"
      ]
     },
     "execution_count": 15,
     "metadata": {},
     "output_type": "execute_result"
    }
   ],
   "source": [
    "get_answer('What do we do in waipractice?', context)"
   ]
  },
  {
   "cell_type": "code",
   "execution_count": 16,
   "metadata": {
    "ExecuteTime": {
     "end_time": "2021-05-24T22:44:22.830773Z",
     "start_time": "2021-05-24T22:44:22.678322Z"
    }
   },
   "outputs": [
    {
     "data": {
      "text/plain": [
       "'grow their knowledge, share best practices, \\nexplore new use-cases'"
      ]
     },
     "execution_count": 16,
     "metadata": {},
     "output_type": "execute_result"
    }
   ],
   "source": [
    "get_answer('How can I help?', context)"
   ]
  },
  {
   "cell_type": "code",
   "execution_count": 17,
   "metadata": {
    "ExecuteTime": {
     "end_time": "2021-05-24T22:44:43.091366Z",
     "start_time": "2021-05-24T22:44:42.902774Z"
    }
   },
   "outputs": [
    {
     "data": {
      "text/plain": [
       "'This program also provides \\naccess to mentorship opportunities'"
      ]
     },
     "execution_count": 17,
     "metadata": {},
     "output_type": "execute_result"
    }
   ],
   "source": [
    "get_answer('Can I get mentorship opportunities?', context)"
   ]
  },
  {
   "cell_type": "code",
   "execution_count": 18,
   "metadata": {
    "ExecuteTime": {
     "end_time": "2021-05-24T22:45:24.419971Z",
     "start_time": "2021-05-24T22:45:24.176376Z"
    }
   },
   "outputs": [
    {
     "data": {
      "text/plain": [
       "'#AI'"
      ]
     },
     "execution_count": 18,
     "metadata": {},
     "output_type": "execute_result"
    }
   ],
   "source": [
    "get_answer('Can I build my network through WaiPRACTICE?', context)"
   ]
  },
  {
   "cell_type": "code",
   "execution_count": 20,
   "metadata": {
    "ExecuteTime": {
     "end_time": "2021-05-24T22:45:34.223226Z",
     "start_time": "2021-05-24T22:45:34.020847Z"
    }
   },
   "outputs": [
    {
     "data": {
      "text/plain": [
       "'#AI'"
      ]
     },
     "execution_count": 20,
     "metadata": {},
     "output_type": "execute_result"
    }
   ],
   "source": [
    "get_answer('Can I build my network?', context)"
   ]
  },
  {
   "cell_type": "code",
   "execution_count": 21,
   "metadata": {
    "ExecuteTime": {
     "end_time": "2021-05-24T22:45:52.525052Z",
     "start_time": "2021-05-24T22:45:52.343636Z"
    }
   },
   "outputs": [
    {
     "data": {
      "text/plain": [
       "'ensuring continous establishment'"
      ]
     },
     "execution_count": 21,
     "metadata": {},
     "output_type": "execute_result"
    }
   ],
   "source": [
    "get_answer('How is my online portfolio?', context)"
   ]
  },
  {
   "cell_type": "code",
   "execution_count": null,
   "metadata": {},
   "outputs": [],
   "source": []
  }
 ],
 "metadata": {
  "kernelspec": {
   "display_name": "Python 3",
   "language": "python",
   "name": "python3"
  },
  "language_info": {
   "codemirror_mode": {
    "name": "ipython",
    "version": 3
   },
   "file_extension": ".py",
   "mimetype": "text/x-python",
   "name": "python",
   "nbconvert_exporter": "python",
   "pygments_lexer": "ipython3",
   "version": "3.8.5"
  },
  "toc": {
   "base_numbering": 1,
   "nav_menu": {},
   "number_sections": true,
   "sideBar": true,
   "skip_h1_title": false,
   "title_cell": "Table of Contents",
   "title_sidebar": "Contents",
   "toc_cell": false,
   "toc_position": {},
   "toc_section_display": true,
   "toc_window_display": false
  },
  "varInspector": {
   "cols": {
    "lenName": 16,
    "lenType": 16,
    "lenVar": 40
   },
   "kernels_config": {
    "python": {
     "delete_cmd_postfix": "",
     "delete_cmd_prefix": "del ",
     "library": "var_list.py",
     "varRefreshCmd": "print(var_dic_list())"
    },
    "r": {
     "delete_cmd_postfix": ") ",
     "delete_cmd_prefix": "rm(",
     "library": "var_list.r",
     "varRefreshCmd": "cat(var_dic_list()) "
    }
   },
   "types_to_exclude": [
    "module",
    "function",
    "builtin_function_or_method",
    "instance",
    "_Feature"
   ],
   "window_display": false
  }
 },
 "nbformat": 4,
 "nbformat_minor": 4
}
