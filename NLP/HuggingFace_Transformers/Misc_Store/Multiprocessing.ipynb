{
 "cells": [
  {
   "cell_type": "markdown",
   "id": "fae0664b",
   "metadata": {},
   "source": [
    "# Source\n",
    "\n",
    "Error encountered in HuggingFaceTutorial1.ipynb\n",
    "\n",
    "**Error:**\n",
    "\n",
    "AttributeError: Can't get attribute 'GPReviewDataset' on <module '__main__' (built-in)>\n",
    "\n",
    "\n",
    "**Reference Blog:**\n",
    "\n",
    "https://medium.com/@grvsinghal/speed-up-your-python-code-using-multiprocessing-on-windows-and-jupyter-or-ipython-2714b49d6fac"
   ]
  },
  {
   "cell_type": "code",
   "execution_count": null,
   "id": "ddb07313",
   "metadata": {},
   "outputs": [],
   "source": [
    "''' ERROR IN CODE BECAUSE USING IT ON WINDOWS AND JUPYTER NOTEBOK'''\n",
    "\n",
    "# #import Pool\n",
    "# from multiprocessing import Pool\n",
    "\n",
    "\n",
    "# #Define a worker — a function which will be executed in parallel\n",
    "# def worker(x):\n",
    "#     return x * x\n",
    "\n",
    "\n",
    "# #Assuming you want to use 3 processors\n",
    "# num_processors = 3\n",
    "# #Create a pool of processors\n",
    "# p = Pool(processes=num_processors)\n",
    "# #get them to work in parallel\n",
    "# output = p.map(worker, [i for i in range(0, 3)])\n",
    "# print(output)"
   ]
  },
  {
   "cell_type": "code",
   "execution_count": 1,
   "id": "b383e5e0",
   "metadata": {},
   "outputs": [
    {
     "name": "stdout",
     "output_type": "stream",
     "text": [
      "[0, 1, 4]\n"
     ]
    }
   ],
   "source": [
    "from multiprocessing import Pool\n",
    "import workers\n",
    "\n",
    "if __name__ ==  '__main__': \n",
    "    num_processors = 3\n",
    "    p=Pool(processes = num_processors)\n",
    "    output = p.map(workers.worker,[i for i in range(0,3)])\n",
    "    print(output)"
   ]
  },
  {
   "cell_type": "code",
   "execution_count": null,
   "id": "9351b312",
   "metadata": {},
   "outputs": [],
   "source": []
  }
 ],
 "metadata": {
  "kernelspec": {
   "display_name": "Python 3",
   "language": "python",
   "name": "python3"
  },
  "language_info": {
   "codemirror_mode": {
    "name": "ipython",
    "version": 3
   },
   "file_extension": ".py",
   "mimetype": "text/x-python",
   "name": "python",
   "nbconvert_exporter": "python",
   "pygments_lexer": "ipython3",
   "version": "3.8.8"
  },
  "toc": {
   "base_numbering": 1,
   "nav_menu": {},
   "number_sections": true,
   "sideBar": true,
   "skip_h1_title": false,
   "title_cell": "Table of Contents",
   "title_sidebar": "Contents",
   "toc_cell": false,
   "toc_position": {},
   "toc_section_display": true,
   "toc_window_display": false
  },
  "varInspector": {
   "cols": {
    "lenName": 16,
    "lenType": 16,
    "lenVar": 40
   },
   "kernels_config": {
    "python": {
     "delete_cmd_postfix": "",
     "delete_cmd_prefix": "del ",
     "library": "var_list.py",
     "varRefreshCmd": "print(var_dic_list())"
    },
    "r": {
     "delete_cmd_postfix": ") ",
     "delete_cmd_prefix": "rm(",
     "library": "var_list.r",
     "varRefreshCmd": "cat(var_dic_list()) "
    }
   },
   "types_to_exclude": [
    "module",
    "function",
    "builtin_function_or_method",
    "instance",
    "_Feature"
   ],
   "window_display": false
  }
 },
 "nbformat": 4,
 "nbformat_minor": 5
}
