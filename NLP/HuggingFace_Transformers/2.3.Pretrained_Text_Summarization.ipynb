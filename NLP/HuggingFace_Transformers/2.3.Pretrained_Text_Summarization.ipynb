{
 "cells": [
  {
   "cell_type": "code",
   "execution_count": 1,
   "metadata": {
    "ExecuteTime": {
     "end_time": "2021-05-24T23:10:29.795714Z",
     "start_time": "2021-05-24T23:10:23.865076Z"
    }
   },
   "outputs": [],
   "source": [
    "import warnings\n",
    "warnings.filterwarnings('ignore')\n",
    "\n",
    "from transformers import pipeline"
   ]
  },
  {
   "cell_type": "code",
   "execution_count": 2,
   "metadata": {
    "ExecuteTime": {
     "end_time": "2021-05-24T23:10:29.806305Z",
     "start_time": "2021-05-24T23:10:29.795714Z"
    }
   },
   "outputs": [],
   "source": [
    "text = '''WaiPRACTICE is a subset of WaiLEARN, our main education program. WaiPractice is a playground where learners, \n",
    "enthusiasts, and experts can collaborate and practice their skills, grow their knowledge, share best practices, \n",
    "explore new use-cases, and simultaneously grow their networks in the domain of #AI. This program also provides \n",
    "access to mentorship opportunities, networking and community building while ensuring continous establishment of \n",
    "individual online portfolios.'''"
   ]
  },
  {
   "cell_type": "code",
   "execution_count": 3,
   "metadata": {
    "ExecuteTime": {
     "end_time": "2021-05-24T23:10:36.657154Z",
     "start_time": "2021-05-24T23:10:29.806305Z"
    }
   },
   "outputs": [],
   "source": [
    "from transformers import BartTokenizer, BartForConditionalGeneration, BartConfig\n",
    "\n",
    "model = BartForConditionalGeneration.from_pretrained('facebook/bart-large-cnn')\n",
    "tokenizer = BartTokenizer.from_pretrained('facebook/bart-large-cnn')"
   ]
  },
  {
   "cell_type": "code",
   "execution_count": 4,
   "metadata": {
    "ExecuteTime": {
     "end_time": "2021-05-24T23:10:36.687605Z",
     "start_time": "2021-05-24T23:10:36.657154Z"
    }
   },
   "outputs": [
    {
     "name": "stderr",
     "output_type": "stream",
     "text": [
      "Truncation was not explicitly activated but `max_length` is provided a specific value, please use `truncation=True` to explicitly truncate examples to max length. Defaulting to 'longest_first' truncation strategy. If you encode pairs of sequences (GLUE-style) with the tokenizer you can select this strategy more precisely by providing a specific strategy to `truncation`.\n"
     ]
    }
   ],
   "source": [
    "inputs = tokenizer.batch_encode_plus([text], max_length=1024, return_tensors='pt')"
   ]
  },
  {
   "cell_type": "code",
   "execution_count": 5,
   "metadata": {
    "ExecuteTime": {
     "end_time": "2021-05-24T23:10:36.718499Z",
     "start_time": "2021-05-24T23:10:36.689596Z"
    }
   },
   "outputs": [
    {
     "data": {
      "text/plain": [
       "dict_keys(['input_ids', 'attention_mask'])"
      ]
     },
     "execution_count": 5,
     "metadata": {},
     "output_type": "execute_result"
    }
   ],
   "source": [
    "inputs.keys()"
   ]
  },
  {
   "cell_type": "code",
   "execution_count": 6,
   "metadata": {
    "ExecuteTime": {
     "end_time": "2021-05-24T23:10:36.749602Z",
     "start_time": "2021-05-24T23:10:36.720495Z"
    }
   },
   "outputs": [
    {
     "data": {
      "text/plain": [
       "tensor([    0,   771,  1439,  4454, 13709,  9292,    16,    10, 37105,     9,\n",
       "          305,  1439,  3850,  2747,   487,     6,    84,  1049,  1265,   586,\n",
       "            4,   305,  1439, 46029,  2463,    16,    10, 14988,   147, 25929,\n",
       "            6,  1437, 50118,  1342, 25134,   118, 13651,     6,     8,  2320,\n",
       "           64, 16075,     8,  1524,    49,  2417,     6,  1733,    49,  2655,\n",
       "            6,   458,   275,  3464,     6,  1437, 50118, 23242,  1688,    92,\n",
       "          304,    12, 28162,     6,     8, 11586,  1733,    49,  4836,    11,\n",
       "            5, 11170,     9,   849, 15238,     4,   152,   586,    67,  1639,\n",
       "         1437, 50118, 28300,     7, 12906, 11887,  1616,     6, 11745,     8,\n",
       "          435,   745,   150,  6060, 39077,  1827,  7147,     9,  1437, 50118,\n",
       "        42333,   804, 16465,     4,     2])"
      ]
     },
     "execution_count": 6,
     "metadata": {},
     "output_type": "execute_result"
    }
   ],
   "source": [
    "inputs['input_ids'][0]"
   ]
  },
  {
   "cell_type": "code",
   "execution_count": 7,
   "metadata": {
    "ExecuteTime": {
     "end_time": "2021-05-24T23:10:36.765552Z",
     "start_time": "2021-05-24T23:10:36.751603Z"
    }
   },
   "outputs": [
    {
     "data": {
      "text/plain": [
       "tensor([1, 1, 1, 1, 1, 1, 1, 1, 1, 1, 1, 1, 1, 1, 1, 1, 1, 1, 1, 1, 1, 1, 1, 1,\n",
       "        1, 1, 1, 1, 1, 1, 1, 1, 1, 1, 1, 1, 1, 1, 1, 1, 1, 1, 1, 1, 1, 1, 1, 1,\n",
       "        1, 1, 1, 1, 1, 1, 1, 1, 1, 1, 1, 1, 1, 1, 1, 1, 1, 1, 1, 1, 1, 1, 1, 1,\n",
       "        1, 1, 1, 1, 1, 1, 1, 1, 1, 1, 1, 1, 1, 1, 1, 1, 1, 1, 1, 1, 1, 1, 1, 1,\n",
       "        1, 1, 1, 1, 1, 1, 1, 1, 1])"
      ]
     },
     "execution_count": 7,
     "metadata": {},
     "output_type": "execute_result"
    }
   ],
   "source": [
    "inputs['attention_mask'][0]"
   ]
  },
  {
   "cell_type": "code",
   "execution_count": 8,
   "metadata": {
    "ExecuteTime": {
     "end_time": "2021-05-24T23:10:44.985991Z",
     "start_time": "2021-05-24T23:10:36.769539Z"
    }
   },
   "outputs": [],
   "source": [
    "summary_ids = model.generate(inputs['input_ids'], num_beams=4, max_length=100, early_stopping=False)"
   ]
  },
  {
   "cell_type": "code",
   "execution_count": 9,
   "metadata": {
    "ExecuteTime": {
     "end_time": "2021-05-24T23:10:45.001362Z",
     "start_time": "2021-05-24T23:10:44.985991Z"
    }
   },
   "outputs": [
    {
     "data": {
      "text/plain": [
       "torch.Tensor"
      ]
     },
     "execution_count": 9,
     "metadata": {},
     "output_type": "execute_result"
    }
   ],
   "source": [
    "type(summary_ids)"
   ]
  },
  {
   "cell_type": "code",
   "execution_count": 10,
   "metadata": {
    "ExecuteTime": {
     "end_time": "2021-05-24T23:10:45.017309Z",
     "start_time": "2021-05-24T23:10:45.003359Z"
    }
   },
   "outputs": [
    {
     "data": {
      "text/plain": [
       "tensor([[    2,     0,   771,  1439,  4454, 13709,  9292,    16,    10, 37105,\n",
       "             9,   305,  1439,  3850,  2747,   487,     6,    84,  1049,  1265,\n",
       "           586,     4,   305,  1439, 46029,  2463,    16,    10, 14988,   147,\n",
       "         25929,     6,  1437,  1342, 25134,   118, 13651,     6,     8,  2320,\n",
       "            64, 16075,     8,  1524,    49,  2417,     6,  1733,    49,  2655,\n",
       "             6,   458,   275,  3464,     6,  1437, 23242,  1688,    92,   304,\n",
       "            12, 28162,     6,     8, 11586,  1733,    49,  4836,    11,     5,\n",
       "         11170,     9,   849, 15238,     4,   152,   586,    67,  1639,  1437,\n",
       "         28300,     7, 12906, 11887,  1616,     6, 11745,     8,   435,   745,\n",
       "           150,  6060, 39077,  1827,  7147,     9,  1736,   804, 16465,     2]])"
      ]
     },
     "execution_count": 10,
     "metadata": {},
     "output_type": "execute_result"
    }
   ],
   "source": [
    "summary_ids"
   ]
  },
  {
   "cell_type": "code",
   "execution_count": 11,
   "metadata": {
    "ExecuteTime": {
     "end_time": "2021-05-24T23:10:45.033255Z",
     "start_time": "2021-05-24T23:10:45.019312Z"
    }
   },
   "outputs": [
    {
     "data": {
      "text/plain": [
       "100"
      ]
     },
     "execution_count": 11,
     "metadata": {},
     "output_type": "execute_result"
    }
   ],
   "source": [
    "len(summary_ids[0]) # look at the config model.generate()"
   ]
  },
  {
   "cell_type": "code",
   "execution_count": 12,
   "metadata": {
    "ExecuteTime": {
     "end_time": "2021-05-24T23:10:45.050198Z",
     "start_time": "2021-05-24T23:10:45.037243Z"
    }
   },
   "outputs": [
    {
     "name": "stdout",
     "output_type": "stream",
     "text": [
      "477 472\n",
      "WaiPRACTICE is a subset of WaiLEARN, our main education program. WaiPractice is a playground where learners, enthusiasts, and experts can collaborate and practice their skills, grow their knowledge, share best practices, explore new use-cases, and simultaneously grow their networks in the domain of #AI. This program also provides access to mentorship opportunities, networking and community building while ensuring continous establishment of individual online portfolios\n"
     ]
    }
   ],
   "source": [
    "for ids in summary_ids:\n",
    "    # decode the tensor of token ids\n",
    "    short = tokenizer.decode(ids, skip_special_tokens=True, clean_up_tokenization_spaces=False)\n",
    "    print(len(text), len(short))\n",
    "    print(short)"
   ]
  },
  {
   "cell_type": "code",
   "execution_count": 13,
   "metadata": {
    "ExecuteTime": {
     "end_time": "2021-05-24T23:10:46.885032Z",
     "start_time": "2021-05-24T23:10:45.052192Z"
    }
   },
   "outputs": [
    {
     "name": "stdout",
     "output_type": "stream",
     "text": [
      "477 45\n",
      "WaiPRACTICE is a subset of WaiLEARN, our main\n"
     ]
    }
   ],
   "source": [
    "summary_ids = model.generate(inputs['input_ids'], num_beams=4, max_length=20, early_stopping=False)\n",
    "for ids in summary_ids:\n",
    "    # decode the tensor of token ids\n",
    "    short = tokenizer.decode(ids, skip_special_tokens=True, clean_up_tokenization_spaces=False)\n",
    "    print(len(text), len(short))\n",
    "    print(short)"
   ]
  },
  {
   "cell_type": "code",
   "execution_count": 14,
   "metadata": {
    "ExecuteTime": {
     "end_time": "2021-05-24T23:10:50.967480Z",
     "start_time": "2021-05-24T23:10:46.886958Z"
    }
   },
   "outputs": [
    {
     "name": "stdout",
     "output_type": "stream",
     "text": [
      "477 189\n",
      "WaiPRACTICE is a subset of WaiLEARN, our main education program. WaiPractice is a playground where learners, enthusiasts, and experts can collaborate and practice their skills. This program\n"
     ]
    }
   ],
   "source": [
    "summary_ids = model.generate(inputs['input_ids'], num_beams=4, max_length=50, early_stopping=False)\n",
    "for ids in summary_ids:\n",
    "    # decode the tensor of token ids\n",
    "    short = tokenizer.decode(ids, skip_special_tokens=True, clean_up_tokenization_spaces=False)\n",
    "    print(len(text), len(short))\n",
    "    print(short)"
   ]
  },
  {
   "cell_type": "code",
   "execution_count": null,
   "metadata": {},
   "outputs": [],
   "source": []
  }
 ],
 "metadata": {
  "kernelspec": {
   "display_name": "Python 3",
   "language": "python",
   "name": "python3"
  },
  "language_info": {
   "codemirror_mode": {
    "name": "ipython",
    "version": 3
   },
   "file_extension": ".py",
   "mimetype": "text/x-python",
   "name": "python",
   "nbconvert_exporter": "python",
   "pygments_lexer": "ipython3",
   "version": "3.8.5"
  },
  "toc": {
   "base_numbering": 1,
   "nav_menu": {},
   "number_sections": true,
   "sideBar": true,
   "skip_h1_title": false,
   "title_cell": "Table of Contents",
   "title_sidebar": "Contents",
   "toc_cell": false,
   "toc_position": {},
   "toc_section_display": true,
   "toc_window_display": false
  },
  "varInspector": {
   "cols": {
    "lenName": 16,
    "lenType": 16,
    "lenVar": 40
   },
   "kernels_config": {
    "python": {
     "delete_cmd_postfix": "",
     "delete_cmd_prefix": "del ",
     "library": "var_list.py",
     "varRefreshCmd": "print(var_dic_list())"
    },
    "r": {
     "delete_cmd_postfix": ") ",
     "delete_cmd_prefix": "rm(",
     "library": "var_list.r",
     "varRefreshCmd": "cat(var_dic_list()) "
    }
   },
   "types_to_exclude": [
    "module",
    "function",
    "builtin_function_or_method",
    "instance",
    "_Feature"
   ],
   "window_display": false
  }
 },
 "nbformat": 4,
 "nbformat_minor": 4
}
