{
 "cells": [
  {
   "cell_type": "code",
   "execution_count": 1,
   "metadata": {
    "ExecuteTime": {
     "end_time": "2021-05-24T22:35:28.582598Z",
     "start_time": "2021-05-24T22:35:22.844649Z"
    }
   },
   "outputs": [],
   "source": [
    "import warnings\n",
    "warnings.filterwarnings('ignore')\n",
    "\n",
    "from transformers import pipeline"
   ]
  },
  {
   "cell_type": "code",
   "execution_count": 2,
   "metadata": {
    "ExecuteTime": {
     "end_time": "2021-05-24T22:35:31.924595Z",
     "start_time": "2021-05-24T22:35:28.582598Z"
    }
   },
   "outputs": [
    {
     "data": {
      "text/plain": [
       "[{'label': 'NEGATIVE', 'score': 0.999608039855957}]"
      ]
     },
     "execution_count": 2,
     "metadata": {},
     "output_type": "execute_result"
    }
   ],
   "source": [
    "nlp = pipeline('sentiment-analysis')\n",
    "nlp('This was an absolutely terrible movie.')"
   ]
  },
  {
   "cell_type": "code",
   "execution_count": 3,
   "metadata": {
    "ExecuteTime": {
     "end_time": "2021-05-24T22:35:31.944185Z",
     "start_time": "2021-05-24T22:35:31.928069Z"
    }
   },
   "outputs": [],
   "source": [
    "# Negative\n",
    "example_imdb_1 = '''This was an absolutely terrible movie. Don't be lured in by Christopher Walken or Michael Ironside. \n",
    "Both are great actors, but this must simply be their worst role in history. Even their great acting could not redeem this \n",
    "movie's ridiculous storyline. This movie is an early nineties US propaganda piece. The most pathetic scenes were those \n",
    "when the Columbian rebels were making their cases for revolutions. Maria Conchita Alonso appeared phony, and \n",
    "her pseudo-love affair with Walken was nothing but a pathetic emotional plug in a movie that was devoid of any real meaning. \n",
    "I am disappointed that there are movies like this, ruining actor's like Christopher Walken's good name. I could barely \n",
    "sit through it.'''"
   ]
  },
  {
   "cell_type": "code",
   "execution_count": 4,
   "metadata": {
    "ExecuteTime": {
     "end_time": "2021-05-24T22:35:32.144299Z",
     "start_time": "2021-05-24T22:35:31.947166Z"
    }
   },
   "outputs": [
    {
     "data": {
      "text/plain": [
       "[{'label': 'NEGATIVE', 'score': 0.9997950792312622}]"
      ]
     },
     "execution_count": 4,
     "metadata": {},
     "output_type": "execute_result"
    }
   ],
   "source": [
    "nlp(example_imdb_1)"
   ]
  },
  {
   "cell_type": "code",
   "execution_count": 5,
   "metadata": {
    "ExecuteTime": {
     "end_time": "2021-05-24T22:35:32.164353Z",
     "start_time": "2021-05-24T22:35:32.144299Z"
    }
   },
   "outputs": [],
   "source": [
    "# Positive\n",
    "example_imdb_2 = '''As others have mentioned, all the women that go nude in this film are mostly absolutely gorgeous. \n",
    "The plot very ably shows the hypocrisy of the female libido. When men are around they want to be pursued, but when \n",
    "no \"men\" are around, they become the pursuers of a 14 year old boy. And the boy becomes a man really fast \n",
    "(we should all be so lucky at this age!). He then gets up the courage to pursue his true love.'''"
   ]
  },
  {
   "cell_type": "code",
   "execution_count": 6,
   "metadata": {
    "ExecuteTime": {
     "end_time": "2021-05-24T22:35:32.323291Z",
     "start_time": "2021-05-24T22:35:32.168000Z"
    }
   },
   "outputs": [
    {
     "data": {
      "text/plain": [
       "[{'label': 'POSITIVE', 'score': 0.9995568990707397}]"
      ]
     },
     "execution_count": 6,
     "metadata": {},
     "output_type": "execute_result"
    }
   ],
   "source": [
    "nlp(example_imdb_2)"
   ]
  },
  {
   "cell_type": "code",
   "execution_count": 7,
   "metadata": {
    "ExecuteTime": {
     "end_time": "2021-05-24T22:35:32.333408Z",
     "start_time": "2021-05-24T22:35:32.323291Z"
    }
   },
   "outputs": [],
   "source": [
    "# Negative\n",
    "example_imdb_3 = '''Sure, this one isn't really a blockbuster, nor does it target such a position. \n",
    "\"Dieter\" is the first name of a quite popular German musician, who is either loved or hated for his kind of \n",
    "acting and thats exactly what this movie is about. It is based on the autobiography \"Dieter Bohlen\" wrote a \n",
    "few years ago but isn't meant to be accurate on that. The movie is filled with some sexual offensive content \n",
    "(at least for American standard) which is either amusing (not for the other \"actors\" of course) or dumb - \n",
    "it depends on your individual kind of humor or on you being a \"Bohlen\"-Fan or not. \n",
    "Technically speaking there isn't much to criticize. Speaking of me I find this movie to be an OK-movie.'''"
   ]
  },
  {
   "cell_type": "code",
   "execution_count": 8,
   "metadata": {
    "ExecuteTime": {
     "end_time": "2021-05-24T22:35:32.577268Z",
     "start_time": "2021-05-24T22:35:32.339856Z"
    }
   },
   "outputs": [
    {
     "data": {
      "text/plain": [
       "[{'label': 'NEGATIVE', 'score': 0.9942773580551147}]"
      ]
     },
     "execution_count": 8,
     "metadata": {},
     "output_type": "execute_result"
    }
   ],
   "source": [
    "nlp(example_imdb_3)"
   ]
  },
  {
   "cell_type": "code",
   "execution_count": 9,
   "metadata": {
    "ExecuteTime": {
     "end_time": "2021-05-24T22:35:32.587151Z",
     "start_time": "2021-05-24T22:35:32.577268Z"
    }
   },
   "outputs": [],
   "source": [
    "test_sent = '''Dieter\" is the first name of a quite popular German musician, who is either \n",
    "loved or hated for his kind of acting and thats exactly\n",
    "what this movie is about'''"
   ]
  },
  {
   "cell_type": "code",
   "execution_count": 10,
   "metadata": {
    "ExecuteTime": {
     "end_time": "2021-05-24T22:35:32.690439Z",
     "start_time": "2021-05-24T22:35:32.590094Z"
    }
   },
   "outputs": [
    {
     "data": {
      "text/plain": [
       "[{'label': 'POSITIVE', 'score': 0.9890155792236328}]"
      ]
     },
     "execution_count": 10,
     "metadata": {},
     "output_type": "execute_result"
    }
   ],
   "source": [
    "nlp(test_sent)"
   ]
  },
  {
   "cell_type": "markdown",
   "metadata": {},
   "source": [
    "Note: Predicts that this line is positive though the entire sequence is negative. This is the second line from example 3."
   ]
  },
  {
   "cell_type": "code",
   "execution_count": null,
   "metadata": {},
   "outputs": [],
   "source": []
  }
 ],
 "metadata": {
  "kernelspec": {
   "display_name": "Python 3",
   "language": "python",
   "name": "python3"
  },
  "language_info": {
   "codemirror_mode": {
    "name": "ipython",
    "version": 3
   },
   "file_extension": ".py",
   "mimetype": "text/x-python",
   "name": "python",
   "nbconvert_exporter": "python",
   "pygments_lexer": "ipython3",
   "version": "3.8.5"
  },
  "toc": {
   "base_numbering": 1,
   "nav_menu": {},
   "number_sections": true,
   "sideBar": true,
   "skip_h1_title": false,
   "title_cell": "Table of Contents",
   "title_sidebar": "Contents",
   "toc_cell": false,
   "toc_position": {},
   "toc_section_display": true,
   "toc_window_display": false
  },
  "varInspector": {
   "cols": {
    "lenName": 16,
    "lenType": 16,
    "lenVar": 40
   },
   "kernels_config": {
    "python": {
     "delete_cmd_postfix": "",
     "delete_cmd_prefix": "del ",
     "library": "var_list.py",
     "varRefreshCmd": "print(var_dic_list())"
    },
    "r": {
     "delete_cmd_postfix": ") ",
     "delete_cmd_prefix": "rm(",
     "library": "var_list.r",
     "varRefreshCmd": "cat(var_dic_list()) "
    }
   },
   "types_to_exclude": [
    "module",
    "function",
    "builtin_function_or_method",
    "instance",
    "_Feature"
   ],
   "window_display": false
  }
 },
 "nbformat": 4,
 "nbformat_minor": 4
}
