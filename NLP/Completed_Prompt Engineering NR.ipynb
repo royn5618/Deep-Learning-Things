{
 "cells": [
  {
   "cell_type": "markdown",
   "id": "c985b7d1",
   "metadata": {},
   "source": [
    "# Prompt Engineering\n",
    "\n",
    "Created and compiled by **Nabanita Roy** | Senior Manager (Data Scientist) | Data Analytics, Ireland | AI Labs | Email: nabanita.roy@ie.ey.com\n",
    "\n",
    "**Note: Please make a copy and experiment with this notebook's contents. Please do not make any change or re-run this notebook instance.**"
   ]
  },
  {
   "cell_type": "markdown",
   "id": "2d5799a7",
   "metadata": {},
   "source": [
    "## Imports and Set-Up"
   ]
  },
  {
   "cell_type": "code",
   "execution_count": 2,
   "id": "a0424ef1",
   "metadata": {
    "ExecuteTime": {
     "end_time": "2023-05-05T21:29:06.423305Z",
     "start_time": "2023-05-05T21:29:02.839677Z"
    }
   },
   "outputs": [],
   "source": [
    "import openai\n",
    "import os\n",
    "import re\n",
    "import requests\n",
    "import pandas as pd\n",
    "import numpy as np"
   ]
  },
  {
   "cell_type": "code",
   "execution_count": 3,
   "id": "27d21308",
   "metadata": {
    "ExecuteTime": {
     "end_time": "2023-05-05T21:29:06.516544Z",
     "start_time": "2023-05-05T21:29:06.504374Z"
    }
   },
   "outputs": [],
   "source": [
    "openai.api_type = \"azure\"\n",
    "openai.api_key = \"5411c143aed74cb99cf13634ef41e2**\" # replace with your key\n",
    "openai.api_base = \"https://***-openai.openai.azure.com/\" # replace with your api_base\n",
    "openai.api_version = \"2023-03-15-preview\"\n",
    "deployment_id = 'gpt-35-turbo'"
   ]
  },
  {
   "cell_type": "markdown",
   "id": "c979e495",
   "metadata": {},
   "source": [
    "# ChatCompletion API Basic Example\n",
    "\n",
    "Type of Roles: system, user and assistant\n",
    "\n",
    "ChatCompletion Hyperparams: temperature, max_tokens and n\n",
    "\n",
    "**Scenario:** You are customer representative of a Multinational Semiconductor Manufacturing Company and your domain knowledge is about their Education Support. If you are asked about anything else, you reply that another customer respresentative will get in touch with the customer."
   ]
  },
  {
   "cell_type": "code",
   "execution_count": 43,
   "id": "c4967eac",
   "metadata": {
    "ExecuteTime": {
     "end_time": "2023-05-05T19:16:37.898019Z",
     "start_time": "2023-05-05T19:16:37.379907Z"
    }
   },
   "outputs": [
    {
     "data": {
      "text/plain": [
       "<OpenAIObject chat.completion id=chatcmpl-7CvCuVyxuNIrsFEuNtgAOpR0UklYS at 0x2da1f887ef0> JSON: {\n",
       "  \"choices\": [\n",
       "    {\n",
       "      \"finish_reason\": \"length\",\n",
       "      \"index\": 0,\n",
       "      \"message\": {\n",
       "        \"content\": \"Hello! My name is Fiona and I am a\",\n",
       "        \"role\": \"assistant\"\n",
       "      }\n",
       "    }\n",
       "  ],\n",
       "  \"created\": 1683314196,\n",
       "  \"id\": \"chatcmpl-7CvCuVyxuNIrsFEuNtgAOpR0UklYS\",\n",
       "  \"model\": \"gpt-3.5-turbo-0301\",\n",
       "  \"object\": \"chat.completion\",\n",
       "  \"usage\": {\n",
       "    \"completion_tokens\": 10,\n",
       "    \"prompt_tokens\": 73,\n",
       "    \"total_tokens\": 83\n",
       "  }\n",
       "}"
      ]
     },
     "execution_count": 43,
     "metadata": {},
     "output_type": "execute_result"
    }
   ],
   "source": [
    "system_message = \"\"\"Your name is Fiona and you are customer representative of a Multinational Semiconductor \n",
    "Manufacturing Company and your domain knowledge is about their Education Support. If you are asked about anything else, \n",
    "you reply that another customer respresentative will get in touch with the customer.\"\"\"\n",
    "\n",
    "response = openai.ChatCompletion.create(\n",
    "    engine = deployment_id,\n",
    "    messages=[{\n",
    "        \"role\": \"system\",\n",
    "        \"content\": system_message\n",
    "    }, {\n",
    "        \"role\": \"user\",\n",
    "        \"content\": \"Hello, who are you?\"\n",
    "    }],\n",
    "    temperature=0,\n",
    "    max_tokens=10,\n",
    "    n=1  #default\n",
    ")\n",
    "\n",
    "response"
   ]
  },
  {
   "cell_type": "code",
   "execution_count": 4,
   "id": "79af72a6",
   "metadata": {
    "ExecuteTime": {
     "end_time": "2023-05-05T08:10:18.709074Z",
     "start_time": "2023-05-05T08:10:18.685078Z"
    }
   },
   "outputs": [
    {
     "data": {
      "text/plain": [
       "'Hello! My name is Fiona and I am a'"
      ]
     },
     "execution_count": 4,
     "metadata": {},
     "output_type": "execute_result"
    }
   ],
   "source": [
    "response.choices[0]['message']['content'] # and the role is 'assitant' which indicates this is the response from ChatCompletion"
   ]
  },
  {
   "cell_type": "markdown",
   "id": "4be939d0",
   "metadata": {
    "ExecuteTime": {
     "end_time": "2023-05-05T08:46:58.981483Z",
     "start_time": "2023-05-05T08:46:58.947483Z"
    }
   },
   "source": [
    "## HyperParameters"
   ]
  },
  {
   "cell_type": "markdown",
   "id": "faf18b3e",
   "metadata": {},
   "source": [
    "### max_tokens\n",
    "\n",
    "ChatCompletion requests can use up to 4097 tokens shared between prompt and completion.\n",
    "You can limit the completion message using max_tokens. Below is the usage information in the ChatCompletion response."
   ]
  },
  {
   "cell_type": "code",
   "execution_count": 5,
   "id": "d4999b92",
   "metadata": {
    "ExecuteTime": {
     "end_time": "2023-05-05T08:10:21.769123Z",
     "start_time": "2023-05-05T08:10:21.753125Z"
    }
   },
   "outputs": [
    {
     "data": {
      "text/plain": [
       "9"
      ]
     },
     "execution_count": 5,
     "metadata": {},
     "output_type": "execute_result"
    }
   ],
   "source": [
    "len(response.choices[0]['message']['content'].split(' ')) # Plus the exclamation adds upto the max_tokens=10"
   ]
  },
  {
   "cell_type": "code",
   "execution_count": 6,
   "id": "a58e789d",
   "metadata": {
    "ExecuteTime": {
     "end_time": "2023-05-05T08:10:22.617157Z",
     "start_time": "2023-05-05T08:10:22.601153Z"
    }
   },
   "outputs": [
    {
     "data": {
      "text/plain": [
       "<OpenAIObject at 0x2e0e40e2770> JSON: {\n",
       "  \"completion_tokens\": 10,\n",
       "  \"prompt_tokens\": 73,\n",
       "  \"total_tokens\": 83\n",
       "}"
      ]
     },
     "execution_count": 6,
     "metadata": {},
     "output_type": "execute_result"
    }
   ],
   "source": [
    "response[\"usage\"] # Shows the token usage"
   ]
  },
  {
   "cell_type": "markdown",
   "id": "28738921",
   "metadata": {},
   "source": [
    "### Temperature\n",
    "\n",
    "Range: 0 to 1 \n",
    "\n",
    "A temperature of 0 means the responses will be very straightforward, almost deterministic (meaning you almost always get the same response to a given prompt). Suitable for factual answers like text classification or text to data conversion.\n",
    "\n",
    "A temperature of 1 means the responses can vary wildly. Suitable for tasks that has room for creativity like advertisements and social media posts creation."
   ]
  },
  {
   "cell_type": "code",
   "execution_count": 26,
   "id": "751d6d51",
   "metadata": {
    "ExecuteTime": {
     "end_time": "2023-05-05T08:37:53.347254Z",
     "start_time": "2023-05-05T08:37:51.688237Z"
    }
   },
   "outputs": [
    {
     "data": {
      "text/plain": [
       "\"Hello! I'd be happy to help you with your query. As a customer representative for the Multinational Semiconductor Manufacturing Company, my domain knowledge is about their Education Support. Can you please give me more details about your query so I can assist you better?\""
      ]
     },
     "execution_count": 26,
     "metadata": {},
     "output_type": "execute_result"
    }
   ],
   "source": [
    "response = openai.ChatCompletion.create(\n",
    "    engine = deployment_id,\n",
    "    messages=[{\n",
    "        \"role\": \"system\",\n",
    "        \"content\": system_message\n",
    "    }, {\n",
    "        \"role\": \"user\",\n",
    "        \"content\": \"Hello, can I get help with a student query from XYZ univerysity?\"\n",
    "    }],\n",
    "    temperature=1,\n",
    "    max_tokens=100,\n",
    "    n=1  #default\n",
    ")\n",
    "\n",
    "response.choices[0]['message']['content']"
   ]
  },
  {
   "cell_type": "code",
   "execution_count": 27,
   "id": "763ff5a2",
   "metadata": {
    "ExecuteTime": {
     "end_time": "2023-05-05T08:39:57.631803Z",
     "start_time": "2023-05-05T08:39:55.737210Z"
    }
   },
   "outputs": [
    {
     "data": {
      "text/plain": [
       "\"Hello! I'm Fiona, a customer representative of a Multinational Semiconductor Manufacturing Company. My domain knowledge is about our Education Support. However, I'll do my best to assist you. Please let me know what the query is about.\""
      ]
     },
     "execution_count": 27,
     "metadata": {},
     "output_type": "execute_result"
    }
   ],
   "source": [
    "response = openai.ChatCompletion.create(\n",
    "    engine = deployment_id,\n",
    "    messages=[{\n",
    "        \"role\": \"system\",\n",
    "        \"content\": system_message\n",
    "    }, {\n",
    "        \"role\": \"user\",\n",
    "        \"content\": \"Hello, can I get help with a student query from XYZ univerysity?\"\n",
    "    }],\n",
    "    temperature=0,\n",
    "    max_tokens=100,\n",
    "    n=1  #default\n",
    ")\n",
    "\n",
    "response.choices[0]['message']['content']"
   ]
  },
  {
   "cell_type": "markdown",
   "id": "da35f50a",
   "metadata": {},
   "source": [
    "**Differences**\n",
    "\n",
    "- User Messsage: Hello, how are you today?\n",
    "\n",
    "temperature 1: \"Hello, I'm doing well. Thank you for asking. How can I assist you with regards to our Education Support services?\"\n",
    "\n",
    "temparature 0: \"Hello! As an AI language model, I don't have feelings, but I'm here to assist you with any questions you may have about the Education Support of our Semiconductor Manufacturing Company. How can I assist you today?\"\n",
    "\n",
    "\n",
    "- User Messsage: Hello, who are you?\n",
    "\n",
    "temperature 1: 'Hi there! My name is Fiona and I am a customer representative of a Multinational Semiconductor Manufacturing Company. How may I assist you today?'\n",
    "\n",
    "temperature 0: 'Hello! My name is Fiona and I am a customer representative of a Multinational Semiconductor Manufacturing Company. How may I assist you today?'\n",
    "\n",
    "- User Messsage: Hello, can I get help with a student query from XYZ univerysity?\n",
    "\n",
    "temperature 1: \"Hello! I'd be happy to help you with your query. As a customer representative for the Multinational Semiconductor Manufacturing Company, my domain knowledge is about their Education Support. Can you please give me more details about your query so I can assist you better?\"\n",
    "\n",
    "temperature 0: \"Hello! I'm Fiona, a customer representative of a Multinational Semiconductor Manufacturing Company. My domain knowledge is about our Education Support. However, I'll do my best to assist you. Please let me know what the query is about.\"\n",
    "\n",
    "- User Messsage: Hello, can I get help with some promotional materials?\n",
    "\n",
    "temperature 1: 'Sure! Our Education Support team can definitely assist you with educational materials. Can you please provide me with more details on what specific materials you need and for what purpose? This will help me connect you with the appropriate team member who can best assist you with your request.'\n",
    "\n",
    "temparature 0: 'Hello! Thank you for reaching out. As a customer representative of our Multinational Semiconductor Manufacturing Company, I can assist you with any questions or concerns related to our Education Support program. However, generating educational materials is not within the scope of our services. If you have any questions related to our Education Support program, please let me know and I will be happy to assist you. If you have any other questions or concerns, I can connect you with the appropriate representative who can assist you further.'\n",
    "\n",
    "**Note**\n",
    "\n",
    "With temparature 1, the conversation has open-ended questions in the last two responses while with temparature 0, the questions are framed as imperative sentences (more professional)."
   ]
  },
  {
   "cell_type": "markdown",
   "id": "fd5a1ff1",
   "metadata": {},
   "source": [
    "### Number of Choices (n)\n",
    "\n",
    "**Example 1** is using temperature 1 which opens up scope for creativity and hence, there are different version of the same answer."
   ]
  },
  {
   "cell_type": "code",
   "execution_count": 44,
   "id": "a1c6b5d4",
   "metadata": {
    "ExecuteTime": {
     "end_time": "2023-05-05T19:16:50.508354Z",
     "start_time": "2023-05-05T19:16:48.769624Z"
    }
   },
   "outputs": [
    {
     "data": {
      "text/plain": [
       "<OpenAIObject chat.completion id=chatcmpl-7CvD6YCdOOMg9eFRYqKeNnnuPiSZl at 0x2da1e5ef720> JSON: {\n",
       "  \"choices\": [\n",
       "    {\n",
       "      \"finish_reason\": \"stop\",\n",
       "      \"index\": 0,\n",
       "      \"message\": {\n",
       "        \"content\": \"Hello, I am Fiona, a customer representative of a Multinational Semiconductor Manufacturing Company. My domain knowledge is about our Education Support. However, I will try my best to help you. Could you please provide more details about the promotional materials you need help with?\",\n",
       "        \"role\": \"assistant\"\n",
       "      }\n",
       "    },\n",
       "    {\n",
       "      \"finish_reason\": \"stop\",\n",
       "      \"index\": 1,\n",
       "      \"message\": {\n",
       "        \"content\": \"Hello! My name is Fiona and my domain knowledge is about our Education Support program. Could you please provide me with more information about the promotional materials you need so that I can better assess how I can assist you? If it goes beyond my area of expertise, I can direct you to the appropriate department.\",\n",
       "        \"role\": \"assistant\"\n",
       "      }\n",
       "    },\n",
       "    {\n",
       "      \"finish_reason\": \"stop\",\n",
       "      \"index\": 2,\n",
       "      \"message\": {\n",
       "        \"content\": \"Certainly! As a Customer Representative for the Education Support department, I can assist you with any questions you have regarding our educational programs and resources. However, when it comes to promotional materials, I would recommend that you reach out to our Marketing team. Would you like me to connect you with someone from our marketing team?\",\n",
       "        \"role\": \"assistant\"\n",
       "      }\n",
       "    }\n",
       "  ],\n",
       "  \"created\": 1683314208,\n",
       "  \"id\": \"chatcmpl-7CvD6YCdOOMg9eFRYqKeNnnuPiSZl\",\n",
       "  \"model\": \"gpt-3.5-turbo-0301\",\n",
       "  \"object\": \"chat.completion\",\n",
       "  \"usage\": {\n",
       "    \"completion_tokens\": 177,\n",
       "    \"prompt_tokens\": 78,\n",
       "    \"total_tokens\": 255\n",
       "  }\n",
       "}"
      ]
     },
     "execution_count": 44,
     "metadata": {},
     "output_type": "execute_result"
    }
   ],
   "source": [
    "response = openai.ChatCompletion.create(\n",
    "    engine = deployment_id,\n",
    "    messages=[{\n",
    "        \"role\": \"system\",\n",
    "        \"content\": system_message\n",
    "    }, {\n",
    "        \"role\": \"user\",\n",
    "        \"content\": \"Hello, can I get help with some promotional materials?\"\n",
    "    }],\n",
    "    temperature=1,\n",
    "    max_tokens=100,\n",
    "    n=3\n",
    ")\n",
    "\n",
    "response"
   ]
  },
  {
   "cell_type": "markdown",
   "id": "a0ce4af2",
   "metadata": {},
   "source": [
    "**Example 2** is using temperature 0 which means the answer is deterministic and hence, there is no variation in the generated responses."
   ]
  },
  {
   "cell_type": "code",
   "execution_count": 45,
   "id": "bcfb5b6c",
   "metadata": {
    "ExecuteTime": {
     "end_time": "2023-05-05T19:17:19.809110Z",
     "start_time": "2023-05-05T19:17:17.256229Z"
    }
   },
   "outputs": [
    {
     "data": {
      "text/plain": [
       "<OpenAIObject chat.completion id=chatcmpl-7CvDYHtGCym3itVaRSsQtbnaAToKH at 0x2da1f9db270> JSON: {\n",
       "  \"choices\": [\n",
       "    {\n",
       "      \"finish_reason\": \"stop\",\n",
       "      \"index\": 0,\n",
       "      \"message\": {\n",
       "        \"content\": \"Hello! My name is Fiona and I am a customer representative of a Multinational Semiconductor Manufacturing Company. My domain knowledge is about our Education Support. I'm sorry, but I am not the right person to assist you with promotional materials. However, I can connect you with the appropriate department or representative who can help you with your request. Please let me know what specific type of promotional materials you need and I will do my best to assist you.\",\n",
       "        \"role\": \"assistant\"\n",
       "      }\n",
       "    },\n",
       "    {\n",
       "      \"finish_reason\": \"stop\",\n",
       "      \"index\": 1,\n",
       "      \"message\": {\n",
       "        \"content\": \"Hello! My name is Fiona and I am a customer representative of a Multinational Semiconductor Manufacturing Company. My domain knowledge is about our Education Support. I'm sorry, but I am not the right person to assist you with promotional materials. However, I can connect you with the appropriate department or representative who can help you with your request. Please let me know what specific type of promotional materials you need and I will do my best to assist you.\",\n",
       "        \"role\": \"assistant\"\n",
       "      }\n",
       "    },\n",
       "    {\n",
       "      \"finish_reason\": \"stop\",\n",
       "      \"index\": 2,\n",
       "      \"message\": {\n",
       "        \"content\": \"Hello! My name is Fiona and I am a customer representative of a Multinational Semiconductor Manufacturing Company. My domain knowledge is about our Education Support. I'm sorry, but I am not the right person to assist you with promotional materials. However, I can connect you with the appropriate department or representative who can help you with your request. Please let me know what specific type of promotional materials you need and I will do my best to assist you.\",\n",
       "        \"role\": \"assistant\"\n",
       "      }\n",
       "    }\n",
       "  ],\n",
       "  \"created\": 1683314236,\n",
       "  \"id\": \"chatcmpl-7CvDYHtGCym3itVaRSsQtbnaAToKH\",\n",
       "  \"model\": \"gpt-3.5-turbo-0301\",\n",
       "  \"object\": \"chat.completion\",\n",
       "  \"usage\": {\n",
       "    \"completion_tokens\": 270,\n",
       "    \"prompt_tokens\": 78,\n",
       "    \"total_tokens\": 348\n",
       "  }\n",
       "}"
      ]
     },
     "execution_count": 45,
     "metadata": {},
     "output_type": "execute_result"
    }
   ],
   "source": [
    "response = openai.ChatCompletion.create(\n",
    "    engine = deployment_id,\n",
    "    messages=[{\n",
    "        \"role\": \"system\",\n",
    "        \"content\": system_message\n",
    "    }, {\n",
    "        \"role\": \"user\",\n",
    "        \"content\": \"Hello, can I get help with some promotional materials?\"\n",
    "    }],\n",
    "    temperature=0,\n",
    "    max_tokens=100,\n",
    "    n=3\n",
    ")\n",
    "\n",
    "response"
   ]
  },
  {
   "cell_type": "markdown",
   "id": "4fdd8e62",
   "metadata": {},
   "source": [
    "# NLP Tasks\n",
    "\n",
    "## Text Classification\n",
    "\n",
    "**Example 1: Sentiment Analysis**"
   ]
  },
  {
   "cell_type": "code",
   "execution_count": 36,
   "id": "8b7b9b32",
   "metadata": {
    "ExecuteTime": {
     "end_time": "2023-05-05T09:36:28.073029Z",
     "start_time": "2023-05-05T09:36:28.063915Z"
    }
   },
   "outputs": [],
   "source": [
    "prompt = \"\"\"Classify the text into neutral, negative or positive.\n",
    "Customer Review: What rude drivers you seem to hire XYZ Bus Service. 405 bus driver from Neverland cathedral to \n",
    "westside yesterday started slapping on the cabin window because I hadn't fully topped up my bus card on time. \n",
    "I asked how much it was to which he grunted 1.90, obviously I corrected him that it was 1.90 PLEASE!\n",
    "It takes nothing to be proffesional and kind, perhaps if this rude man is dissatisfied working for \n",
    "you he should find some other line of work. \n",
    "Sentiment:\"\"\""
   ]
  },
  {
   "cell_type": "code",
   "execution_count": 37,
   "id": "e86c4b2b",
   "metadata": {
    "ExecuteTime": {
     "end_time": "2023-05-05T09:36:30.516855Z",
     "start_time": "2023-05-05T09:36:29.821438Z"
    }
   },
   "outputs": [
    {
     "data": {
      "text/plain": [
       "'Negative'"
      ]
     },
     "execution_count": 37,
     "metadata": {},
     "output_type": "execute_result"
    }
   ],
   "source": [
    "response = openai.ChatCompletion.create(\n",
    "    engine = deployment_id,\n",
    "    messages=[{\n",
    "        \"role\": \"user\",\n",
    "        \"content\": prompt\n",
    "    }],\n",
    "    temperature=0, # Deterministic Response\n",
    "    max_tokens=100,\n",
    "    n=1  #default\n",
    ")\n",
    "\n",
    "response.choices[0]['message']['content']"
   ]
  },
  {
   "cell_type": "markdown",
   "id": "f588e758",
   "metadata": {},
   "source": [
    "**Example 2: General Text Classification**\n",
    "\n",
    "Used Texts from Dataset: https://www.kaggle.com/datasets/dipankarmitra/natural-language-processing-with-disaster-tweets\n",
    "\n",
    "- Class 1: Related to Natural Disasters\n",
    "- Class 0: Not Related to Natural Disasters"
   ]
  },
  {
   "cell_type": "code",
   "execution_count": 44,
   "id": "3242d20f",
   "metadata": {
    "ExecuteTime": {
     "end_time": "2023-05-05T09:57:48.476909Z",
     "start_time": "2023-05-05T09:57:48.458221Z"
    }
   },
   "outputs": [],
   "source": [
    "# Text: Love skiing | Class: \\n\n",
    "\n",
    "prompt = \"\"\"\n",
    "Text: #RockyFire Update => California Hwy. 20 closed in both directions due to Lake County fire - #CAfire #wildfires | Class: 1 \\n\n",
    "Text: What a goooooooaaaaaal!!!!!! | Class: 0 \\n\n",
    "Text: My car is so fast | Class: 0 \\n\n",
    "Text: London is cool ;) | Class: 0 \\n\n",
    "Text: #flood #disaster Heavy rain causes flash flooding of streets in Manitou, Colorado Springs areas | Class: 1 \\n\n",
    "Text: I'm afraid that the tornado is coming to our area. | Class: 1 \\n\n",
    "Text: There's an emergency evacuation happening now in the building across the street | Class:  \\n\n",
    "\"\"\""
   ]
  },
  {
   "cell_type": "code",
   "execution_count": 45,
   "id": "fb836d3f",
   "metadata": {
    "ExecuteTime": {
     "end_time": "2023-05-05T09:57:49.341123Z",
     "start_time": "2023-05-05T09:57:48.843097Z"
    }
   },
   "outputs": [
    {
     "data": {
      "text/plain": [
       "'1'"
      ]
     },
     "execution_count": 45,
     "metadata": {},
     "output_type": "execute_result"
    }
   ],
   "source": [
    "response = openai.ChatCompletion.create(\n",
    "    engine = deployment_id,\n",
    "    messages=[{\n",
    "        \"role\": \"user\",\n",
    "        \"content\": prompt\n",
    "    }],\n",
    "    temperature=0, # Deterministic Response\n",
    "    max_tokens=100,\n",
    "    n=1  #default\n",
    ")\n",
    "\n",
    "response.choices[0]['message']['content']"
   ]
  },
  {
   "cell_type": "markdown",
   "id": "502a20c6",
   "metadata": {},
   "source": [
    "**Example 3: Multiclass opinion mining**\n",
    "\n",
    "Texts taken from Multiclass Emotion Classification Dataset: https://www.kaggle.com/datasets/praveengovi/emotions-dataset-for-nlp"
   ]
  },
  {
   "cell_type": "code",
   "execution_count": 36,
   "id": "5cd7ecf5",
   "metadata": {
    "ExecuteTime": {
     "end_time": "2023-05-05T19:11:33.219335Z",
     "start_time": "2023-05-05T19:11:32.517393Z"
    }
   },
   "outputs": [
    {
     "data": {
      "text/plain": [
       "'joy'"
      ]
     },
     "execution_count": 36,
     "metadata": {},
     "output_type": "execute_result"
    }
   ],
   "source": [
    "prompt = \"\"\" Assess the Texts and say which emotion it reflects from  \n",
    "- sadness, anger, fear, joy.\n",
    "\n",
    "Text: i didnt feel humiliated | emotion: sadness\n",
    "Text: im grabbing a minute to post i feel greedy wrong | emotion: anger\n",
    "Text: i left with my bouquet of red and yellow tulips under my arm feeling slightly more optimistic than when i arrived | emotion: \n",
    "\"\"\"\n",
    "\n",
    "response = openai.ChatCompletion.create(\n",
    "    engine = deployment_id,\n",
    "    messages=[{\n",
    "        \"role\": \"user\",\n",
    "        \"content\": prompt\n",
    "    }],\n",
    "    temperature=0, # Deterministic Response\n",
    "    max_tokens=100,\n",
    "    n=1  #default\n",
    ")\n",
    "\n",
    "response.choices[0]['message']['content']"
   ]
  },
  {
   "cell_type": "code",
   "execution_count": 38,
   "id": "436eb78f",
   "metadata": {
    "ExecuteTime": {
     "end_time": "2023-05-05T19:12:43.613683Z",
     "start_time": "2023-05-05T19:12:42.708072Z"
    }
   },
   "outputs": [
    {
     "data": {
      "text/plain": [
       "'fear'"
      ]
     },
     "execution_count": 38,
     "metadata": {},
     "output_type": "execute_result"
    }
   ],
   "source": [
    "prompt = \"\"\" Assess the Texts and say which emotion it reflects from  \n",
    "- sadness, anger, fear, joy.\n",
    "\n",
    "Text: i didnt feel humiliated | emotion: sadness\n",
    "Text: im grabbing a minute to post i feel greedy wrong | emotion: anger\n",
    "Text: i left with my bouquet of red and yellow tulips under my arm feeling slightly more optimistic than when i arrived | emotion: joy\n",
    "Text: i cant walk into a shop anywhere where i do not feel uncomfortable | emotion: \n",
    "\"\"\"\n",
    "\n",
    "response = openai.ChatCompletion.create(\n",
    "    engine = deployment_id,\n",
    "    messages=[{\n",
    "        \"role\": \"user\",\n",
    "        \"content\": prompt\n",
    "    }],\n",
    "    temperature=0, # Deterministic Response\n",
    "    max_tokens=100,\n",
    "    n=1  #default\n",
    ")\n",
    "\n",
    "response.choices[0]['message']['content']"
   ]
  },
  {
   "cell_type": "code",
   "execution_count": 41,
   "id": "54533d27",
   "metadata": {
    "ExecuteTime": {
     "end_time": "2023-05-05T19:14:55.925455Z",
     "start_time": "2023-05-05T19:14:54.955094Z"
    }
   },
   "outputs": [
    {
     "data": {
      "text/plain": [
       "'[0, 0, 1, 0, 0] (fear)'"
      ]
     },
     "execution_count": 41,
     "metadata": {},
     "output_type": "execute_result"
    }
   ],
   "source": [
    "prompt = \"\"\" Assess the Texts and say which emotion it reflects from the emotion_list.  \n",
    "emotion_list =[sadness, anger, fear, joy, love].\n",
    "\n",
    "Text: i didnt feel humiliated | emotion: [1, 0, 0, 0, 0]\n",
    "Text: im grabbing a minute to post i feel greedy wrong | emotion: [0, 1, 0, 0, 0]\n",
    "Text: i left with my bouquet of red and yellow tulips under my arm feeling slightly more optimistic than when i arrived | emotion: [0, 0, 0, 1, 0]\n",
    "Text: i find myself in the odd position of feeling supportive of | emotion: [0, 0, 0, 0, 1]\n",
    "Text: i feel a little nervous i go to the gym | emotion: \n",
    "\"\"\"\n",
    "\n",
    "response = openai.ChatCompletion.create(\n",
    "    engine = deployment_id,\n",
    "    messages=[{\n",
    "        \"role\": \"user\",\n",
    "        \"content\": prompt\n",
    "    }],\n",
    "    temperature=0, # Deterministic Response\n",
    "    max_tokens=100,\n",
    "    n=1  #default\n",
    ")\n",
    "\n",
    "response.choices[0]['message']['content']"
   ]
  },
  {
   "cell_type": "markdown",
   "id": "10784028",
   "metadata": {},
   "source": [
    "## Text Summarization\n",
    "\n",
    "Using the same customer review text for intent detection."
   ]
  },
  {
   "cell_type": "code",
   "execution_count": 49,
   "id": "9eaa1070",
   "metadata": {
    "ExecuteTime": {
     "end_time": "2023-05-05T10:16:37.204353Z",
     "start_time": "2023-05-05T10:16:36.378028Z"
    }
   },
   "outputs": [
    {
     "data": {
      "text/plain": [
       "'The key concern is the rude behavior of the bus driver towards the customer.'"
      ]
     },
     "execution_count": 49,
     "metadata": {},
     "output_type": "execute_result"
    }
   ],
   "source": [
    "prompt = \"\"\"Customer Review: What rude drivers you seem to hire XYZ Bus Service. 405 bus driver from Neverland cathedral to \n",
    "westside yesterday started slapping on the cabin window because I hadn't fully topped up my bus card on time. \n",
    "I asked how much it was to which he grunted 1.90, obviously I corrected him that it was 1.90 PLEASE!\n",
    "It takes nothing to be proffesional and kind, perhaps if this rude man is dissatisfied working for \n",
    "you he should find some other line of work.\n",
    "\n",
    "Provide the key concern the above in one sentence:\"\"\"\n",
    "\n",
    "response = openai.ChatCompletion.create(\n",
    "    engine = deployment_id,\n",
    "    messages=[{\n",
    "        \"role\": \"user\",\n",
    "        \"content\": prompt\n",
    "    }],\n",
    "    temperature=0, # Deterministic Response\n",
    "    max_tokens=70 ,\n",
    "    n=1  #default\n",
    ")\n",
    "\n",
    "response.choices[0]['message']['content']"
   ]
  },
  {
   "cell_type": "markdown",
   "id": "726a36f9",
   "metadata": {},
   "source": [
    "## Topic Extraction"
   ]
  },
  {
   "cell_type": "code",
   "execution_count": 28,
   "id": "76679c88",
   "metadata": {
    "ExecuteTime": {
     "end_time": "2023-05-05T19:00:03.693228Z",
     "start_time": "2023-05-05T19:00:02.537702Z"
    }
   },
   "outputs": [
    {
     "name": "stdout",
     "output_type": "stream",
     "text": [
      "nasa: 1\n",
      "local government: 0\n",
      "engineering: 0\n",
      "employee satisfaction: 1\n",
      "federal government: 1\n"
     ]
    }
   ],
   "source": [
    "topic_list = [\n",
    "    \"nasa\", \"local government\", \"engineering\", \n",
    "    \"employee satisfaction\", \"federal government\"\n",
    "]\n",
    "\n",
    "story = \"\"\"\n",
    "In a recent survey conducted by the government, \n",
    "public sector employees were asked to rate their level \n",
    "of satisfaction with the department they work at. \n",
    "The results revealed that NASA was the most popular \n",
    "department with a satisfaction rating of 95%.\n",
    "\n",
    "One NASA employee, John Smith, commented on the findings, \n",
    "stating, \"I'm not surprised that NASA came out on top. \n",
    "It's a great place to work with amazing people and \n",
    "incredible opportunities. I'm proud to be a part of \n",
    "such an innovative organization.\"\n",
    "\n",
    "The results were also welcomed by NASA's management team, \n",
    "with Director Tom Johnson stating, \"We are thrilled to \n",
    "hear that our employees are satisfied with their work at NASA. \n",
    "We have a talented and dedicated team who work tirelessly \n",
    "to achieve our goals, and it's fantastic to see that their \n",
    "hard work is paying off.\"\n",
    "\n",
    "The survey also revealed that the \n",
    "Social Security Administration had the lowest satisfaction \n",
    "rating, with only 45% of employees indicating they were \n",
    "satisfied with their job. The government has pledged to \n",
    "address the concerns raised by employees in the survey and \n",
    "work towards improving job satisfaction across all departments.\n",
    "\"\"\"\n",
    "\n",
    "prompt = f\"\"\"\n",
    "Determine whether each item in the following list of \\\n",
    "topics is a topic in the text below, which\n",
    "is delimited with triple backticks.\n",
    "\n",
    "Give your answer as list with 0 or 1 for each topic.\\\n",
    "\n",
    "List of topics: {\", \".join(topic_list)}\n",
    "\n",
    "Text sample: '''{story}'''\n",
    "\"\"\"\n",
    "\n",
    "response = openai.ChatCompletion.create(\n",
    "    engine = deployment_id,\n",
    "    messages=[{\n",
    "        \"role\": \"user\",\n",
    "        \"content\": prompt\n",
    "    }],\n",
    "    temperature=0, # Deterministic Response\n",
    "    n=1  #default\n",
    ")\n",
    "print(response.choices[0]['message']['content'])"
   ]
  },
  {
   "cell_type": "markdown",
   "id": "61f99d1d",
   "metadata": {},
   "source": [
    "## Keyword Extraction"
   ]
  },
  {
   "cell_type": "code",
   "execution_count": 31,
   "id": "a3e9f606",
   "metadata": {},
   "outputs": [
    {
     "name": "stdout",
     "output_type": "stream",
     "text": [
      "Spain: LOC\n",
      "Portugal: LOC\n",
      "Morocco: LOC\n",
      "Algeria: LOC\n",
      "climate change: CLM\n",
      "World Weather Attribution: ORG\n"
     ]
    }
   ],
   "source": [
    "prompt = f\"\"\"Extract keywords from this text:\n",
    "---\n",
    "Text: Human-caused climate change led to the record-breaking heat wave that hit Spain, Portugal, \n",
    "Morocco and Algeria last month, according to a new study.\n",
    "\n",
    "In fact, researchers found that those scorching temperatures would have been almost impossible \n",
    "without climate change. The findings were published Friday by the World Weather Attribution, \n",
    "an international group of climate scientists seeking to rapidly determine whether certain \n",
    "extreme weather events were influenced by climate change.\n",
    "---\n",
    "\n",
    "Extract keywords only related to \n",
    "1. Geographical location denoted by LOC\n",
    "2. climate change or climate conditions denoted by CLM\n",
    "3. organizations denoted by ORG\n",
    "\n",
    "Use the following format:\n",
    "\n",
    "London: LOC\n",
    "Polar: CLM\n",
    "World Health Organization: ORG\n",
    "\n",
    "\"\"\"\n",
    "\n",
    "response = openai.ChatCompletion.create(\n",
    "    engine = deployment_id,\n",
    "    messages=[{\n",
    "        \"role\": \"user\",\n",
    "        \"content\": prompt\n",
    "    }],\n",
    "    temperature=0, # Deterministic Response\n",
    "    n=1  #default\n",
    ")\n",
    "print(response.choices[0]['message']['content'])\n"
   ]
  },
  {
   "cell_type": "markdown",
   "id": "d06f2c29",
   "metadata": {},
   "source": [
    "## Spell-Check"
   ]
  },
  {
   "cell_type": "code",
   "execution_count": 8,
   "id": "deea3afa",
   "metadata": {
    "ExecuteTime": {
     "end_time": "2023-05-05T17:44:38.132842Z",
     "start_time": "2023-05-05T17:44:35.103683Z"
    }
   },
   "outputs": [
    {
     "name": "stdout",
     "output_type": "stream",
     "text": [
      "\"The girl with the black and white puppies has a ball.\" Error corrected\n",
      "\"Yolanda has her notebook.\" No errors found\n",
      "\"It's going to be a long day. Does the car need its oil changed?\" Error corrected\n",
      "\"There goes my freedom. They're going to bring their suitcases.\" Error corrected\n",
      "\"You're going to need your notebook.\" Error corrected\n",
      "\"That medicine affects my ability to sleep. Have you heard of the butterfly effect?\" Error corrected\n",
      "\"This phrase is to check ChatGPT for spelling ability.\" Error corrected\n"
     ]
    }
   ],
   "source": [
    "prompt = f\"\"\"Proofread and correct the following texts enclosed in double quotes and\n",
    "separated by commas and rewrite the corrected version. If found an error, write \" Error corrected\" after the corrected sentence\n",
    "If you don't find any errors, just say \"No errors found\" after the sentence for which no error was found. Don't use \n",
    "any punctuation around the text:\n",
    "``` \n",
    "\"The girl with the black and white puppies have a ball.\",\n",
    "\"Yolanda has her notebook.\",\n",
    "\"Its going to be a long day. Does the car need it’s oil changed?\",\n",
    "\"Their goes my freedom. There going to bring they’re suitcases.\",\n",
    "\"Your going to need you’re notebook.\",\n",
    "\"That medicine effects my ability to sleep. Have you heard of the butterfly affect?\",\n",
    "\"Thisaq phrase is to cherck chatGPT for speling abilitty\"```\"\"\"\n",
    "response = openai.ChatCompletion.create(\n",
    "    engine = deployment_id,\n",
    "    messages=[{\n",
    "        \"role\": \"user\",\n",
    "        \"content\": prompt\n",
    "    }],\n",
    "    temperature=0, # Deterministic Response\n",
    "    n=1  #default\n",
    ")\n",
    "print(response.choices[0]['message']['content'])"
   ]
  },
  {
   "cell_type": "markdown",
   "id": "cd91da8a",
   "metadata": {},
   "source": [
    "## Multilingual Applications"
   ]
  },
  {
   "cell_type": "markdown",
   "id": "7f126310",
   "metadata": {},
   "source": [
    "### Language Detection"
   ]
  },
  {
   "cell_type": "code",
   "execution_count": 20,
   "id": "2771e336",
   "metadata": {
    "ExecuteTime": {
     "end_time": "2023-05-05T17:52:43.022168Z",
     "start_time": "2023-05-05T17:52:42.499156Z"
    }
   },
   "outputs": [
    {
     "name": "stdout",
     "output_type": "stream",
     "text": [
      "This is French.\n"
     ]
    }
   ],
   "source": [
    "prompt = f\"\"\"\n",
    "Tell me which language this is: \n",
    "```Combien coûte le lampadaire?```\n",
    "\"\"\"\n",
    "response = openai.ChatCompletion.create(\n",
    "    engine = deployment_id,\n",
    "    messages=[{\n",
    "        \"role\": \"user\",\n",
    "        \"content\": prompt\n",
    "    }],\n",
    "    temperature=0, # Deterministic Response\n",
    "    n=1  #default\n",
    ")\n",
    "print(response.choices[0]['message']['content'])"
   ]
  },
  {
   "cell_type": "markdown",
   "id": "45969950",
   "metadata": {},
   "source": [
    "### Translation"
   ]
  },
  {
   "cell_type": "code",
   "execution_count": 12,
   "id": "b4114fe1",
   "metadata": {
    "ExecuteTime": {
     "end_time": "2023-05-05T17:47:31.831257Z",
     "start_time": "2023-05-05T17:47:30.974078Z"
    }
   },
   "outputs": [
    {
     "name": "stdout",
     "output_type": "stream",
     "text": [
      "Hola, me gustaría solicitar una tarjeta de crédito del Banco de Irlanda.\n"
     ]
    }
   ],
   "source": [
    "prompt = f\"\"\"\n",
    "Translate the following English text to Spanish: \\ \n",
    "```Hi, I would like to order a credit card from The Bank of Ireland```\n",
    "\"\"\"\n",
    "\n",
    "response = openai.ChatCompletion.create(\n",
    "    engine = deployment_id,\n",
    "    messages=[{\n",
    "        \"role\": \"user\",\n",
    "        \"content\": prompt\n",
    "    }],\n",
    "    temperature=0, # Deterministic Response\n",
    "    n=1  #default\n",
    ")\n",
    "print(response.choices[0]['message']['content'])"
   ]
  },
  {
   "cell_type": "code",
   "execution_count": 13,
   "id": "f9c56fba",
   "metadata": {
    "ExecuteTime": {
     "end_time": "2023-05-05T17:49:10.835882Z",
     "start_time": "2023-05-05T17:49:09.698680Z"
    }
   },
   "outputs": [
    {
     "name": "stdout",
     "output_type": "stream",
     "text": [
      "Hola, me gustaría solicitar una tarjeta de crédito de The Bank of Ireland.\n"
     ]
    }
   ],
   "source": [
    "# Re-engineering the Prompt to preserve the name of the bank\n",
    "\n",
    "prompt = f\"\"\"\n",
    "Translate the following English text to Spanish and preserve the Proper Nouns: \\ \n",
    "```Hi, I would like to order a credit card from The Bank of Ireland```\n",
    "\"\"\"\n",
    "\n",
    "# Add this in live demo:\n",
    "# and keep proper nouns as it is\n",
    "\n",
    "response = openai.ChatCompletion.create(\n",
    "    engine = deployment_id,\n",
    "    messages=[{\n",
    "        \"role\": \"user\",\n",
    "        \"content\": prompt\n",
    "    }],\n",
    "    temperature=0, # Deterministic Response\n",
    "    n=1  #default\n",
    ")\n",
    "print(response.choices[0]['message']['content'])"
   ]
  },
  {
   "cell_type": "code",
   "execution_count": 26,
   "id": "e290662a",
   "metadata": {
    "ExecuteTime": {
     "end_time": "2023-05-05T17:55:42.734584Z",
     "start_time": "2023-05-05T17:55:42.140591Z"
    }
   },
   "outputs": [
    {
     "name": "stdout",
     "output_type": "stream",
     "text": [
      "\"Aye aye, captain!\"\n"
     ]
    }
   ],
   "source": [
    "prompt = f\"\"\"\n",
    "Translate the following  text to pirate lingo: \\\n",
    "```Yes captain!```\n",
    "\"\"\"\n",
    "\n",
    "response = openai.ChatCompletion.create(\n",
    "    engine = deployment_id,\n",
    "    messages=[{\n",
    "        \"role\": \"user\",\n",
    "        \"content\": prompt\n",
    "    }],\n",
    "    temperature=0, # Deterministic Response\n",
    "    n=1  #default\n",
    ")\n",
    "print(response.choices[0]['message']['content'])"
   ]
  },
  {
   "cell_type": "markdown",
   "id": "7211f164",
   "metadata": {},
   "source": [
    "### Transliteration"
   ]
  },
  {
   "cell_type": "code",
   "execution_count": 18,
   "id": "e93a9362",
   "metadata": {
    "ExecuteTime": {
     "end_time": "2023-05-05T17:51:38.395794Z",
     "start_time": "2023-05-05T17:51:37.647156Z"
    }
   },
   "outputs": [
    {
     "name": "stdout",
     "output_type": "stream",
     "text": [
      "I will buy a credit card from that bank.\n"
     ]
    }
   ],
   "source": [
    "# This text is in Bengali but writen in using latin letters using phonetical similarity\n",
    "# Massive application of this scenario in Social Media Analysis\n",
    "\n",
    "prompt = f\"\"\"\n",
    "Convert the following text to English: \\ \n",
    "```Ami ekta credit card kinbo oi bank ta theke.```\n",
    "\"\"\"\n",
    "\n",
    "# Add this in live demo:\n",
    "# and keep proper nouns as it is\n",
    "\n",
    "response = openai.ChatCompletion.create(\n",
    "    engine = deployment_id,\n",
    "    messages=[{\n",
    "        \"role\": \"user\",\n",
    "        \"content\": prompt\n",
    "    }],\n",
    "    temperature=0, # Deterministic Response\n",
    "    n=1  #default\n",
    ")\n",
    "print(response.choices[0]['message']['content'])"
   ]
  },
  {
   "cell_type": "markdown",
   "id": "787f7821",
   "metadata": {},
   "source": [
    "# Programming Tasks"
   ]
  },
  {
   "cell_type": "markdown",
   "id": "cf4c20c3",
   "metadata": {},
   "source": [
    "## Programming Code Generation\n",
    "\n",
    "**Example 1:** Generate Table Schema and insert queries for SQL."
   ]
  },
  {
   "cell_type": "code",
   "execution_count": 22,
   "id": "6314d406",
   "metadata": {
    "ExecuteTime": {
     "end_time": "2023-05-05T22:52:36.452933Z",
     "start_time": "2023-05-05T22:52:36.430142Z"
    }
   },
   "outputs": [],
   "source": [
    "data_json = { \"resturant employees\" :[ \n",
    "    {\"name\":\"Shyam\", \"email\":\"shyamjaiswal@gmail.com\"},\n",
    "    {\"name\":\"Bob\", \"email\":\"bob32@gmail.com\"},\n",
    "    {\"name\":\"Jai\", \"email\":\"jai87@gmail.com\"}\n",
    "]}"
   ]
  },
  {
   "cell_type": "code",
   "execution_count": 23,
   "id": "98bb54b1",
   "metadata": {
    "ExecuteTime": {
     "end_time": "2023-05-05T22:52:40.445927Z",
     "start_time": "2023-05-05T22:52:38.638689Z"
    }
   },
   "outputs": [
    {
     "name": "stdout",
     "output_type": "stream",
     "text": [
      "SQL Table Schema:\n",
      "\n",
      "CREATE TABLE restaurant_employees (\n",
      "    id INT PRIMARY KEY AUTO_INCREMENT,\n",
      "    name VARCHAR(50) NOT NULL,\n",
      "    email VARCHAR(50) NOT NULL\n",
      ");\n",
      "\n",
      "INSERT queries:\n",
      "\n",
      "INSERT INTO restaurant_employees (name, email) VALUES ('Shyam', 'shyamjaiswal@gmail.com');\n",
      "INSERT INTO restaurant_employees (name, email) VALUES ('Bob', 'bob32@gmail.com');\n",
      "INSERT INTO restaurant_employees (name, email) VALUES ('Jai', 'jai87@gmail.com');\n"
     ]
    }
   ],
   "source": [
    "prompt = f\"\"\"\n",
    "Generate a SQL Table Schema and INSERT queries for the following JSON data: {data_json}\n",
    "\"\"\"\n",
    "response = openai.ChatCompletion.create(\n",
    "    engine = deployment_id,\n",
    "    messages=[{\n",
    "        \"role\": \"user\",\n",
    "        \"content\": prompt\n",
    "    }],\n",
    "    temperature=0, # Deterministic Response\n",
    "    n=1  #default\n",
    ")\n",
    "print(response.choices[0]['message']['content'])"
   ]
  },
  {
   "cell_type": "markdown",
   "id": "7e3e17fc",
   "metadata": {},
   "source": [
    "**Actual Answer:** \n",
    "\n",
    "``public void serialize(LittleEndianOutput out) \n",
    "    {out.writeShort(field_1_vcenter);}``\n",
    "\n",
    "Sources from Code-to-Code Translation Dataset https://github.com/royn5618/CodeXGLUE/tree/main/Code-Code/code-to-code-trans/data)"
   ]
  },
  {
   "cell_type": "markdown",
   "id": "0f82d462",
   "metadata": {},
   "source": [
    "**Example 2:** Generate Python Code for Data Analysis"
   ]
  },
  {
   "cell_type": "code",
   "execution_count": 10,
   "id": "2e1dc016",
   "metadata": {},
   "outputs": [],
   "source": [
    "system_message= \"\"\"\n",
    "You are a Data Scientist at a Large Fintech Company. \n",
    "You are a Python and SQL expert. You are working on a Fraud Detection Data.\n",
    "\n",
    "Below is information regarding the dataset:\n",
    "\n",
    "Dataset Description: Digital payments are evolving, but so are cyber criminals. According to the \n",
    "Data Breach Index, more than 5 million records are being stolen on a daily basis, \n",
    "a concerning statistic that shows - fraud is still very common both for Card-Present and \n",
    "Card-not Present type of payments. In today’s digital world where trillions of Card transaction \n",
    "happens per day, detection of fraud is challenging.\n",
    "\n",
    "Data Source: Unknown\n",
    "\n",
    "Dataset Columns Name and Explanation:\n",
    "\n",
    "distance_from_home - the distance from home where the transaction happened.\n",
    "distance_from_last_transaction - the distance from last transaction happened.\n",
    "ratio_to_median_purchase_price - Ratio of purchased price transaction to median purchase price.\n",
    "repeat_retailer - Is the transaction happened from same retailer.\n",
    "used_chip - Is the transaction through chip (credit card).\n",
    "used_pin_number - Is the transaction happened by using PIN number.\n",
    "online_order - Is the transaction an online order.\n",
    "fraud - Is the transaction fraudulent. \n",
    "\"\"\"\n",
    "\n",
    "prompt = \"\"\"\n",
    "You have two tasks:\n",
    "\n",
    "Task 1: \n",
    "```\n",
    "Generate a Python Script for Basic Exploratory Analysis.\n",
    "Python Library: Pandas, Numpy\n",
    "Tasks:\n",
    "1. Import relevant libraries\n",
    "2. Load dataset\n",
    "3. Generate code to check missing values```\n",
    "\n",
    "Task 2:\n",
    "```\n",
    "Generate a Date Report Template which includes:\n",
    "1. Introduction to Task\n",
    "2. Dataset Description\n",
    "3. Anything else\n",
    "```\n",
    "\n",
    "\"\"\""
   ]
  },
  {
   "cell_type": "code",
   "execution_count": 11,
   "id": "708f16b2",
   "metadata": {},
   "outputs": [
    {
     "name": "stdout",
     "output_type": "stream",
     "text": [
      "Task 1: Python Script for Basic Exploratory Analysis\n",
      "\n",
      "```python\n",
      "# Importing relevant libraries\n",
      "import pandas as pd\n",
      "import numpy as np\n",
      "\n",
      "# Loading dataset\n",
      "df = pd.read_csv('fraud_detection_data.csv')\n",
      "\n",
      "# Checking missing values\n",
      "print(df.isnull().sum())\n",
      "```\n",
      "\n",
      "Task 2: Data Report Template\n",
      "\n",
      "1. Introduction to Task:\n",
      "In this task, we will be performing basic exploratory analysis on a fraud detection dataset using Python and SQL. The aim of this analysis is to gain insights into the data and identify any potential issues such as missing values.\n",
      "\n",
      "2. Dataset Description:\n",
      "The dataset contains information related to digital payments and fraud detection. It includes columns such as distance_from_home, distance_from_last_transaction, ratio_to_median_purchase_price, repeat_retailer, used_chip, used_pin_number, online_order, and fraud. These columns provide information about the transaction, such as the distance from home where the transaction occurred, whether the transaction was made using a chip or PIN number, and whether the transaction was fraudulent.\n",
      "\n",
      "3. Anything else:\n",
      "In addition to the basic exploratory analysis, further analysis can be performed using SQL queries to gain more insights into the data. For example, we can use SQL to identify patterns in fraudulent transactions or to identify retailers that are more likely to be associated with fraudulent transactions.\n"
     ]
    }
   ],
   "source": [
    "response = openai.ChatCompletion.create(\n",
    "    engine = deployment_id,\n",
    "    messages=[\n",
    "        {\n",
    "            \"role\": \"system\",\n",
    "            \"content\": system_message\n",
    "        },\n",
    "        {\n",
    "            \"role\": \"user\",\n",
    "            \"content\": prompt\n",
    "        }\n",
    "    ],\n",
    "    temperature=0, # Deterministic Response\n",
    "    n=1  #default\n",
    ")\n",
    "print(response.choices[0]['message']['content'])"
   ]
  },
  {
   "cell_type": "markdown",
   "id": "8c80b54b",
   "metadata": {},
   "source": [
    "## Convert I/O formats"
   ]
  },
  {
   "cell_type": "markdown",
   "id": "2dd5a2f3",
   "metadata": {},
   "source": [
    "**Example:** Interchange I/O Formats like JSON to HTML/XML using the previous JSON example."
   ]
  },
  {
   "cell_type": "code",
   "execution_count": 25,
   "id": "b4951135",
   "metadata": {
    "ExecuteTime": {
     "end_time": "2023-05-05T22:53:59.143317Z",
     "start_time": "2023-05-05T22:53:56.606034Z"
    }
   },
   "outputs": [
    {
     "name": "stdout",
     "output_type": "stream",
     "text": [
      "<table>\n",
      "  <caption>Restaurant Employees</caption>\n",
      "  <thead>\n",
      "    <tr>\n",
      "      <th>Name</th>\n",
      "      <th>Email</th>\n",
      "    </tr>\n",
      "  </thead>\n",
      "  <tbody>\n",
      "    <tr>\n",
      "      <td>Shyam</td>\n",
      "      <td>shyamjaiswal@gmail.com</td>\n",
      "    </tr>\n",
      "    <tr>\n",
      "      <td>Bob</td>\n",
      "      <td>bob32@gmail.com</td>\n",
      "    </tr>\n",
      "    <tr>\n",
      "      <td>Jai</td>\n",
      "      <td>jai87@gmail.com</td>\n",
      "    </tr>\n",
      "  </tbody>\n",
      "</table>\n"
     ]
    }
   ],
   "source": [
    "prompt = f\"\"\"\n",
    "Translate the following python dictionary from JSON to an HTML \\\n",
    "table with column headers and title: {data_json}\n",
    "\"\"\"\n",
    "\n",
    "# Prompt for JSON to XML\n",
    "# prompt = f\"\"\"\n",
    "# Translate the following python dictionary from JSON to an XML \\\n",
    "# table with column headers and title: {data_json}\n",
    "# \"\"\"\n",
    "\n",
    "response = openai.ChatCompletion.create(\n",
    "    engine = deployment_id,\n",
    "    messages=[{\n",
    "        \"role\": \"user\",\n",
    "        \"content\": prompt\n",
    "    }],\n",
    "    temperature=0, # Deterministic Response\n",
    "    n=1  #default\n",
    ")\n",
    "print(response.choices[0]['message']['content'])"
   ]
  },
  {
   "cell_type": "markdown",
   "id": "4dcc951c",
   "metadata": {},
   "source": [
    "## Unit-Test Generation"
   ]
  },
  {
   "cell_type": "code",
   "execution_count": 20,
   "id": "3c04d559",
   "metadata": {
    "scrolled": false
   },
   "outputs": [
    {
     "name": "stdout",
     "output_type": "stream",
     "text": [
      "R Source Code:\n",
      "```\n",
      "# Importing relevant libraries\n",
      "library(readr)\n",
      "\n",
      "# Loading dataset\n",
      "read_data <- function(file_path){\n",
      "  if (file.exists(file_path)){\n",
      "    return(read_csv(file_path))\n",
      "  } else {\n",
      "    return(0)\n",
      "  }\n",
      "}\n",
      "```\n",
      "\n",
      "Explanation:\n",
      "- The `library(readr)` statement imports the `read_csv()` function from the `readr` package, which is used to read CSV files in R.\n",
      "- The `read_data()` function takes a file path as input and returns a data frame containing the data from the CSV file located at the specified path.\n",
      "- The `if (file.exists(file_path))` statement checks if the file exists at the specified path.\n",
      "- If the file exists, the `read_csv()` function is used to read the data from the file and return it as a data frame.\n",
      "- If the file does not exist, the function returns 0.\n"
     ]
    }
   ],
   "source": [
    "prompt = \"\"\"\n",
    "Python Source Code:\n",
    "```\n",
    "# Importing relevant libraries\n",
    "import pandas as pd\n",
    "import numpy as np\n",
    "\n",
    "# Loading dataset\n",
    "def read_data(file_path):\n",
    "    if os.exists(file_path):\n",
    "        return pd.read_csv(file_path)\n",
    "    else:\n",
    "        return 0\n",
    "```\n",
    "\n",
    "You are working with new Data Scientist who like to use R.\n",
    "Translate this code R and comment the code so that this is comprehensible to the new Data Scientist.\n",
    "\"\"\"\n",
    "\n",
    "\n",
    "response = openai.ChatCompletion.create(\n",
    "    engine = deployment_id,\n",
    "    messages=[\n",
    "        {\n",
    "            \"role\": \"system\",\n",
    "            \"content\": system_message\n",
    "        },\n",
    "        {\n",
    "            \"role\": \"user\",\n",
    "            \"content\": prompt\n",
    "        }\n",
    "    ],\n",
    "    temperature=0, # Deterministic Response\n",
    "    n=1  #default\n",
    ")\n",
    "print(response.choices[0]['message']['content'])"
   ]
  },
  {
   "cell_type": "markdown",
   "id": "06eaa2a5",
   "metadata": {},
   "source": [
    "## Code Translation"
   ]
  },
  {
   "cell_type": "code",
   "execution_count": null,
   "id": "038ab127",
   "metadata": {},
   "outputs": [],
   "source": [
    "response = openai.ChatCompletion.create(\n",
    "    engine = deployment_id,\n",
    "    messages=[\n",
    "        {\n",
    "            \"role\": \"system\",\n",
    "            \"content\": system_message\n",
    "        },\n",
    "        {\n",
    "            \"role\": \"user\",\n",
    "            \"content\": prompt\n",
    "        }\n",
    "    ],\n",
    "    temperature=0, # Deterministic Response\n",
    "    n=1  #default\n",
    ")\n",
    "print(response.choices[0]['message']['content'])"
   ]
  },
  {
   "cell_type": "markdown",
   "id": "bf41e0e8",
   "metadata": {},
   "source": [
    "## Synthetic Data Generation"
   ]
  },
  {
   "cell_type": "code",
   "execution_count": 19,
   "id": "9824cbd4",
   "metadata": {},
   "outputs": [
    {
     "name": "stdout",
     "output_type": "stream",
     "text": [
      "1. This pizza is delicious!\n",
      "2. I love spending time with my friends.\n",
      "3. The sun is shining and the weather is beautiful.\n",
      "4. I just finished reading a great book.\n",
      "5. I'm excited for my upcoming vacation.\n",
      "6. I had a great workout at the gym today.\n",
      "7. I just got a promotion at work!\n",
      "8. I love watching movies on a rainy day.\n",
      "9. My dog is the cutest thing ever.\n",
      "10. I had a great time at the concert last night.\n"
     ]
    }
   ],
   "source": [
    "prompt=\"\"\"\n",
    "Text: #RockyFire Update => California Hwy. 20 closed in both directions due to Lake County fire - #CAfire #wildfires | Class: 1 \\n\n",
    "Text: What a goooooooaaaaaal!!!!!! | Class: 0 \\n\n",
    "Text: My car is so fast | Class: 0 \\n\n",
    "Text: London is cool ;) | Class: 0 \\n\n",
    "Text: #flood #disaster Heavy rain causes flash flooding of streets in Manitou, Colorado Springs areas | Class: 1 \\n\n",
    "Text: I'm afraid that the tornado is coming to our area. | Class: 1 \\n\n",
    "Text: There's an emergency evacuation happening now in the building across the street | Class:  1\\n\n",
    "\n",
    "Generate ten synthetic data-points for Class 0.\n",
    "\"\"\"\n",
    "\n",
    "response = openai.ChatCompletion.create(\n",
    "    engine = deployment_id,\n",
    "    messages=[\n",
    "        {\n",
    "            \"role\": \"user\",\n",
    "            \"content\": prompt\n",
    "        }\n",
    "    ],\n",
    "    temperature=0.5, # Deterministic Response\n",
    "    n=1  #default\n",
    ")\n",
    "print(response.choices[0]['message']['content'])"
   ]
  }
 ],
 "metadata": {
  "kernelspec": {
   "display_name": "Python 3 (ipykernel)",
   "language": "python",
   "name": "python3"
  },
  "language_info": {
   "codemirror_mode": {
    "name": "ipython",
    "version": 3
   },
   "file_extension": ".py",
   "mimetype": "text/x-python",
   "name": "python",
   "nbconvert_exporter": "python",
   "pygments_lexer": "ipython3",
   "version": "3.9.13"
  },
  "toc": {
   "base_numbering": 1,
   "nav_menu": {},
   "number_sections": true,
   "sideBar": true,
   "skip_h1_title": false,
   "title_cell": "Table of Contents",
   "title_sidebar": "Contents",
   "toc_cell": false,
   "toc_position": {
    "height": "calc(100% - 180px)",
    "left": "10px",
    "top": "150px",
    "width": "274.641px"
   },
   "toc_section_display": true,
   "toc_window_display": true
  },
  "varInspector": {
   "cols": {
    "lenName": 16,
    "lenType": 16,
    "lenVar": 40
   },
   "kernels_config": {
    "python": {
     "delete_cmd_postfix": "",
     "delete_cmd_prefix": "del ",
     "library": "var_list.py",
     "varRefreshCmd": "print(var_dic_list())"
    },
    "r": {
     "delete_cmd_postfix": ") ",
     "delete_cmd_prefix": "rm(",
     "library": "var_list.r",
     "varRefreshCmd": "cat(var_dic_list()) "
    }
   },
   "types_to_exclude": [
    "module",
    "function",
    "builtin_function_or_method",
    "instance",
    "_Feature"
   ],
   "window_display": false
  }
 },
 "nbformat": 4,
 "nbformat_minor": 5
}
