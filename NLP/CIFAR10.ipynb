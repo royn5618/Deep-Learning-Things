{
  "nbformat": 4,
  "nbformat_minor": 0,
  "metadata": {
    "colab": {
      "name": "CIFAR10.ipynb",
      "provenance": [],
      "authorship_tag": "ABX9TyMebwWmXtLjdOUT8oYiEUQL",
      "include_colab_link": true
    },
    "kernelspec": {
      "name": "python3",
      "display_name": "Python 3"
    },
    "accelerator": "GPU"
  },
  "cells": [
    {
      "cell_type": "markdown",
      "metadata": {
        "id": "view-in-github",
        "colab_type": "text"
      },
      "source": [
        "<a href=\"https://colab.research.google.com/github/royn5618/Deep_Learning_NLP_Notebooks/blob/master/CIFAR10.ipynb\" target=\"_parent\"><img src=\"https://colab.research.google.com/assets/colab-badge.svg\" alt=\"Open In Colab\"/></a>"
      ]
    },
    {
      "cell_type": "code",
      "metadata": {
        "id": "JlmMZRBWNkQF"
      },
      "source": [
        "from keras.datasets import cifar10\n",
        "from keras.utils import np_utils\n",
        "from keras.models import Sequential\n",
        "from keras.layers.core import Dense, Dropout, Activation, Flatten\n",
        "from keras.layers.convolutional import Conv2D, MaxPooling2D\n",
        "from keras.optimizers import SGD, Adam, RMSprop\n",
        "\n",
        "from keras.preprocessing.image import ImageDataGenerator\n",
        "\n",
        "import matplotlib.pyplot as plt"
      ],
      "execution_count": 1,
      "outputs": []
    },
    {
      "cell_type": "code",
      "metadata": {
        "id": "PYqH-iklNx_C",
        "outputId": "660a5759-e4d2-459d-90cb-567c471de72e",
        "colab": {
          "base_uri": "https://localhost:8080/",
          "height": 102
        }
      },
      "source": [
        "(X_train, y_train), (X_test, y_test) = cifar10.load_data()\n",
        "print('X_train shape:', X_train.shape)\n",
        "print(X_train.shape[0], 'train samples')\n",
        "print(X_test.shape[0], 'test samples')"
      ],
      "execution_count": 2,
      "outputs": [
        {
          "output_type": "stream",
          "text": [
            "Downloading data from https://www.cs.toronto.edu/~kriz/cifar-10-python.tar.gz\n",
            "170500096/170498071 [==============================] - 11s 0us/step\n",
            "X_train shape: (50000, 32, 32, 3)\n",
            "50000 train samples\n",
            "10000 test samples\n"
          ],
          "name": "stdout"
        }
      ]
    },
    {
      "cell_type": "code",
      "metadata": {
        "id": "2HSy9_RkOGCb"
      },
      "source": [
        "# CIFAR_10 is a set of 60K images 32x32 pixels on 3 channels\n",
        "IMG_CHANNELS = 3\n",
        "IMG_ROWS = 32\n",
        "IMG_COLS = 32"
      ],
      "execution_count": 3,
      "outputs": []
    },
    {
      "cell_type": "code",
      "metadata": {
        "id": "ScWDmhRZObY9"
      },
      "source": [
        "#constant\n",
        "BATCH_SIZE = 128\n",
        "NB_EPOCH = 40\n",
        "NB_CLASSES = 10\n",
        "VERBOSE = 1\n",
        "VALIDATION_SPLIT = 0.2\n",
        "OPTIM = RMSprop()"
      ],
      "execution_count": 4,
      "outputs": []
    },
    {
      "cell_type": "code",
      "metadata": {
        "id": "AfFtrtrqObwm"
      },
      "source": [
        "# convert to categorical\n",
        "Y_train = np_utils.to_categorical(y_train, NB_CLASSES)\n",
        "Y_test = np_utils.to_categorical(y_test, NB_CLASSES) "
      ],
      "execution_count": 5,
      "outputs": []
    },
    {
      "cell_type": "code",
      "metadata": {
        "id": "1fZ9ddjuOc4N"
      },
      "source": [
        "# float and normalization\n",
        "X_train = X_train.astype('float32')\n",
        "X_test = X_test.astype('float32')\n",
        "X_train /= 255\n",
        "X_test /= 255"
      ],
      "execution_count": 6,
      "outputs": []
    },
    {
      "cell_type": "code",
      "metadata": {
        "id": "D1GNujN-OSru",
        "outputId": "06c62ca9-90c7-4229-de18-aab312ffe76e",
        "colab": {
          "base_uri": "https://localhost:8080/",
          "height": 765
        }
      },
      "source": [
        "model = Sequential()\n",
        " \n",
        "model.add(Conv2D(32, kernel_size=3, padding='same',\n",
        "                        input_shape=(IMG_ROWS, IMG_COLS, IMG_CHANNELS)))\n",
        "model.add(Activation('relu'))\n",
        "model.add(Conv2D(32, kernel_size=3, padding='same'))\n",
        "model.add(Activation('relu'))\n",
        "model.add(MaxPooling2D(pool_size=(2, 2)))\n",
        "model.add(Dropout(0.25))\n",
        " \n",
        "model.add(Conv2D(64, kernel_size=3, padding='same'))\n",
        "model.add(Activation('relu'))\n",
        "model.add(Conv2D(64, 3, 3))\n",
        "model.add(Activation('relu'))\n",
        "model.add(MaxPooling2D(pool_size=(2, 2)))\n",
        "model.add(Dropout(0.25))\n",
        " \n",
        "model.add(Flatten())\n",
        "model.add(Dense(512))\n",
        "model.add(Activation('relu'))\n",
        "model.add(Dropout(0.5))\n",
        "model.add(Dense(NB_CLASSES))\n",
        "model.add(Activation('softmax'))\n",
        "\n",
        "model.summary()\n",
        "\n",
        "model.compile(loss='categorical_crossentropy', optimizer=OPTIM,\n",
        "\tmetrics=['accuracy'])"
      ],
      "execution_count": 7,
      "outputs": [
        {
          "output_type": "stream",
          "text": [
            "Model: \"sequential\"\n",
            "_________________________________________________________________\n",
            "Layer (type)                 Output Shape              Param #   \n",
            "=================================================================\n",
            "conv2d (Conv2D)              (None, 32, 32, 32)        896       \n",
            "_________________________________________________________________\n",
            "activation (Activation)      (None, 32, 32, 32)        0         \n",
            "_________________________________________________________________\n",
            "conv2d_1 (Conv2D)            (None, 32, 32, 32)        9248      \n",
            "_________________________________________________________________\n",
            "activation_1 (Activation)    (None, 32, 32, 32)        0         \n",
            "_________________________________________________________________\n",
            "max_pooling2d (MaxPooling2D) (None, 16, 16, 32)        0         \n",
            "_________________________________________________________________\n",
            "dropout (Dropout)            (None, 16, 16, 32)        0         \n",
            "_________________________________________________________________\n",
            "conv2d_2 (Conv2D)            (None, 16, 16, 64)        18496     \n",
            "_________________________________________________________________\n",
            "activation_2 (Activation)    (None, 16, 16, 64)        0         \n",
            "_________________________________________________________________\n",
            "conv2d_3 (Conv2D)            (None, 5, 5, 64)          36928     \n",
            "_________________________________________________________________\n",
            "activation_3 (Activation)    (None, 5, 5, 64)          0         \n",
            "_________________________________________________________________\n",
            "max_pooling2d_1 (MaxPooling2 (None, 2, 2, 64)          0         \n",
            "_________________________________________________________________\n",
            "dropout_1 (Dropout)          (None, 2, 2, 64)          0         \n",
            "_________________________________________________________________\n",
            "flatten (Flatten)            (None, 256)               0         \n",
            "_________________________________________________________________\n",
            "dense (Dense)                (None, 512)               131584    \n",
            "_________________________________________________________________\n",
            "activation_4 (Activation)    (None, 512)               0         \n",
            "_________________________________________________________________\n",
            "dropout_2 (Dropout)          (None, 512)               0         \n",
            "_________________________________________________________________\n",
            "dense_1 (Dense)              (None, 10)                5130      \n",
            "_________________________________________________________________\n",
            "activation_5 (Activation)    (None, 10)                0         \n",
            "=================================================================\n",
            "Total params: 202,282\n",
            "Trainable params: 202,282\n",
            "Non-trainable params: 0\n",
            "_________________________________________________________________\n"
          ],
          "name": "stdout"
        }
      ]
    },
    {
      "cell_type": "code",
      "metadata": {
        "id": "JzlgYk05PTfZ"
      },
      "source": [
        "datagen = ImageDataGenerator(\n",
        "        featurewise_center=False,  # set input mean to 0 over the dataset\n",
        "        samplewise_center=False,  # set each sample mean to 0\n",
        "        featurewise_std_normalization=False,  # divide inputs by std of the dataset\n",
        "        samplewise_std_normalization=False,  # divide each input by its std\n",
        "        zca_whitening=False,  # apply ZCA whitening\n",
        "        rotation_range=0,  # randomly rotate images in the range (degrees, 0 to 180)\n",
        "        width_shift_range=0.1,  # randomly shift images horizontally (fraction of total width)\n",
        "        height_shift_range=0.1,  # randomly shift images vertically (fraction of total height)\n",
        "        horizontal_flip=True,  # randomly flip images\n",
        "        vertical_flip=False)  # randomly flip images\n",
        "\n",
        "datagen.fit(X_train)"
      ],
      "execution_count": 8,
      "outputs": []
    },
    {
      "cell_type": "code",
      "metadata": {
        "id": "yU-HJRuMPZF7",
        "outputId": "9c76ae07-06c4-4600-9ad8-8348b78b9399",
        "colab": {
          "base_uri": "https://localhost:8080/",
          "height": 1000
        }
      },
      "source": [
        "# train\n",
        " \n",
        "history = model.fit(X_train, Y_train, batch_size=BATCH_SIZE,\n",
        "\tepochs=NB_EPOCH, validation_split=VALIDATION_SPLIT, \n",
        "\tverbose=VERBOSE)"
      ],
      "execution_count": 9,
      "outputs": [
        {
          "output_type": "stream",
          "text": [
            "Epoch 1/40\n",
            "313/313 [==============================] - 7s 22ms/step - loss: 1.9582 - accuracy: 0.2711 - val_loss: 1.6815 - val_accuracy: 0.3709\n",
            "Epoch 2/40\n",
            "313/313 [==============================] - 6s 20ms/step - loss: 1.6434 - accuracy: 0.3974 - val_loss: 1.4842 - val_accuracy: 0.4553\n",
            "Epoch 3/40\n",
            "313/313 [==============================] - 6s 20ms/step - loss: 1.4807 - accuracy: 0.4627 - val_loss: 1.3917 - val_accuracy: 0.4943\n",
            "Epoch 4/40\n",
            "313/313 [==============================] - 6s 20ms/step - loss: 1.3656 - accuracy: 0.5065 - val_loss: 1.2640 - val_accuracy: 0.5468\n",
            "Epoch 5/40\n",
            "313/313 [==============================] - 6s 20ms/step - loss: 1.2885 - accuracy: 0.5382 - val_loss: 1.1699 - val_accuracy: 0.5849\n",
            "Epoch 6/40\n",
            "313/313 [==============================] - 6s 20ms/step - loss: 1.2211 - accuracy: 0.5641 - val_loss: 1.1085 - val_accuracy: 0.6044\n",
            "Epoch 7/40\n",
            "313/313 [==============================] - 6s 20ms/step - loss: 1.1729 - accuracy: 0.5822 - val_loss: 1.0846 - val_accuracy: 0.6162\n",
            "Epoch 8/40\n",
            "313/313 [==============================] - 6s 20ms/step - loss: 1.1299 - accuracy: 0.5994 - val_loss: 1.0576 - val_accuracy: 0.6260\n",
            "Epoch 9/40\n",
            "313/313 [==============================] - 6s 20ms/step - loss: 1.0834 - accuracy: 0.6195 - val_loss: 1.0026 - val_accuracy: 0.6475\n",
            "Epoch 10/40\n",
            "313/313 [==============================] - 6s 20ms/step - loss: 1.0589 - accuracy: 0.6261 - val_loss: 0.9722 - val_accuracy: 0.6526\n",
            "Epoch 11/40\n",
            "313/313 [==============================] - 6s 20ms/step - loss: 1.0248 - accuracy: 0.6368 - val_loss: 0.9247 - val_accuracy: 0.6721\n",
            "Epoch 12/40\n",
            "313/313 [==============================] - 6s 20ms/step - loss: 1.0018 - accuracy: 0.6480 - val_loss: 0.9273 - val_accuracy: 0.6742\n",
            "Epoch 13/40\n",
            "313/313 [==============================] - 6s 20ms/step - loss: 0.9729 - accuracy: 0.6575 - val_loss: 0.9219 - val_accuracy: 0.6789\n",
            "Epoch 14/40\n",
            "313/313 [==============================] - 6s 20ms/step - loss: 0.9486 - accuracy: 0.6670 - val_loss: 0.9286 - val_accuracy: 0.6778\n",
            "Epoch 15/40\n",
            "313/313 [==============================] - 6s 20ms/step - loss: 0.9315 - accuracy: 0.6708 - val_loss: 0.9517 - val_accuracy: 0.6638\n",
            "Epoch 16/40\n",
            "313/313 [==============================] - 6s 20ms/step - loss: 0.9147 - accuracy: 0.6774 - val_loss: 0.8883 - val_accuracy: 0.6907\n",
            "Epoch 17/40\n",
            "313/313 [==============================] - 6s 20ms/step - loss: 0.8927 - accuracy: 0.6864 - val_loss: 0.8697 - val_accuracy: 0.6932\n",
            "Epoch 18/40\n",
            "313/313 [==============================] - 6s 20ms/step - loss: 0.8850 - accuracy: 0.6900 - val_loss: 0.9037 - val_accuracy: 0.6898\n",
            "Epoch 19/40\n",
            "313/313 [==============================] - 6s 19ms/step - loss: 0.8649 - accuracy: 0.6934 - val_loss: 0.8701 - val_accuracy: 0.7003\n",
            "Epoch 20/40\n",
            "313/313 [==============================] - 6s 20ms/step - loss: 0.8484 - accuracy: 0.7027 - val_loss: 0.9130 - val_accuracy: 0.6832\n",
            "Epoch 21/40\n",
            "313/313 [==============================] - 6s 20ms/step - loss: 0.8511 - accuracy: 0.6993 - val_loss: 0.8642 - val_accuracy: 0.6976\n",
            "Epoch 22/40\n",
            "313/313 [==============================] - 6s 20ms/step - loss: 0.8363 - accuracy: 0.7056 - val_loss: 0.8975 - val_accuracy: 0.6952\n",
            "Epoch 23/40\n",
            "313/313 [==============================] - 6s 20ms/step - loss: 0.8282 - accuracy: 0.7097 - val_loss: 0.8155 - val_accuracy: 0.7177\n",
            "Epoch 24/40\n",
            "313/313 [==============================] - 6s 20ms/step - loss: 0.8225 - accuracy: 0.7153 - val_loss: 0.8069 - val_accuracy: 0.7206\n",
            "Epoch 25/40\n",
            "313/313 [==============================] - 6s 20ms/step - loss: 0.8111 - accuracy: 0.7168 - val_loss: 0.8461 - val_accuracy: 0.7100\n",
            "Epoch 26/40\n",
            "313/313 [==============================] - 6s 20ms/step - loss: 0.8039 - accuracy: 0.7172 - val_loss: 0.8432 - val_accuracy: 0.7135\n",
            "Epoch 27/40\n",
            "313/313 [==============================] - 6s 20ms/step - loss: 0.7958 - accuracy: 0.7207 - val_loss: 0.8068 - val_accuracy: 0.7243\n",
            "Epoch 28/40\n",
            "313/313 [==============================] - 6s 20ms/step - loss: 0.7789 - accuracy: 0.7282 - val_loss: 0.7944 - val_accuracy: 0.7279\n",
            "Epoch 29/40\n",
            "313/313 [==============================] - 6s 20ms/step - loss: 0.7784 - accuracy: 0.7255 - val_loss: 0.8159 - val_accuracy: 0.7160\n",
            "Epoch 30/40\n",
            "313/313 [==============================] - 6s 20ms/step - loss: 0.7682 - accuracy: 0.7325 - val_loss: 0.8738 - val_accuracy: 0.6995\n",
            "Epoch 31/40\n",
            "313/313 [==============================] - 6s 20ms/step - loss: 0.7679 - accuracy: 0.7277 - val_loss: 0.8651 - val_accuracy: 0.7050\n",
            "Epoch 32/40\n",
            "313/313 [==============================] - 6s 20ms/step - loss: 0.7592 - accuracy: 0.7340 - val_loss: 0.8189 - val_accuracy: 0.7163\n",
            "Epoch 33/40\n",
            "313/313 [==============================] - 6s 20ms/step - loss: 0.7618 - accuracy: 0.7340 - val_loss: 0.7960 - val_accuracy: 0.7257\n",
            "Epoch 34/40\n",
            "313/313 [==============================] - 6s 20ms/step - loss: 0.7623 - accuracy: 0.7344 - val_loss: 0.8492 - val_accuracy: 0.7200\n",
            "Epoch 35/40\n",
            "313/313 [==============================] - 6s 20ms/step - loss: 0.7505 - accuracy: 0.7376 - val_loss: 0.7907 - val_accuracy: 0.7354\n",
            "Epoch 36/40\n",
            "313/313 [==============================] - 6s 20ms/step - loss: 0.7496 - accuracy: 0.7355 - val_loss: 0.8026 - val_accuracy: 0.7239\n",
            "Epoch 37/40\n",
            "313/313 [==============================] - 6s 20ms/step - loss: 0.7458 - accuracy: 0.7392 - val_loss: 0.8766 - val_accuracy: 0.7149\n",
            "Epoch 38/40\n",
            "313/313 [==============================] - 6s 20ms/step - loss: 0.7413 - accuracy: 0.7431 - val_loss: 0.8155 - val_accuracy: 0.7216\n",
            "Epoch 39/40\n",
            "313/313 [==============================] - 6s 20ms/step - loss: 0.7407 - accuracy: 0.7430 - val_loss: 0.7617 - val_accuracy: 0.7380\n",
            "Epoch 40/40\n",
            "313/313 [==============================] - 6s 20ms/step - loss: 0.7310 - accuracy: 0.7448 - val_loss: 0.8307 - val_accuracy: 0.7251\n"
          ],
          "name": "stdout"
        }
      ]
    },
    {
      "cell_type": "code",
      "metadata": {
        "id": "NP_0clQcPb42"
      },
      "source": [
        "score = model.evaluate(X_test, Y_test,\n",
        "                     batch_size=BATCH_SIZE, verbose=VERBOSE)\n",
        "print(\"\\nTest score:\", score[0])\n",
        "print('Test accuracy:', score[1])"
      ],
      "execution_count": 9,
      "outputs": []
    },
    {
      "cell_type": "code",
      "metadata": {
        "id": "qpV3Ui53ONB0"
      },
      "source": [
        "model_json = model.to_json()\n",
        "open('cifar10_architecture.json', 'w').write(model_json)\n",
        "model.save_weights('cifar10_weights.h5', overwrite=True)"
      ],
      "execution_count": 9,
      "outputs": []
    },
    {
      "cell_type": "code",
      "metadata": {
        "id": "iGNURa4iNuCQ"
      },
      "source": [
        "plt.plot(history.history['acc'])\n",
        "plt.plot(history.history['val_acc'])\n",
        "plt.title('model accuracy')\n",
        "plt.ylabel('accuracy')\n",
        "plt.xlabel('epoch')\n",
        "plt.legend(['train', 'test'], loc='upper left')\n",
        "plt.show()"
      ],
      "execution_count": 9,
      "outputs": []
    },
    {
      "cell_type": "code",
      "metadata": {
        "id": "0Xbdg7ogPv_5",
        "outputId": "3bd846bf-4200-45b2-979e-f386b70b89e2",
        "colab": {
          "base_uri": "https://localhost:8080/",
          "height": 295
        }
      },
      "source": [
        "plt.plot(history.history['loss'])\n",
        "plt.plot(history.history['val_loss'])\n",
        "plt.title('model loss')\n",
        "plt.ylabel('loss')\n",
        "plt.xlabel('epoch')\n",
        "plt.legend(['train', 'test'], loc='upper left')\n",
        "plt.show()"
      ],
      "execution_count": 10,
      "outputs": [
        {
          "output_type": "display_data",
          "data": {
            "image/png": "[encoded data removed]",
            "text/plain": [
              "<Figure size 432x288 with 1 Axes>"
            ]
          },
          "metadata": {
            "tags": [],
            "needs_background": "light"
          }
        }
      ]
    }
  ]
}