{
  "nbformat": 4,
  "nbformat_minor": 0,
  "metadata": {
    "colab": {
      "name": "MNIST Digits Image Classification.ipynb",
      "provenance": [],
      "collapsed_sections": [],
      "toc_visible": true,
      "authorship_tag": "ABX9TyNt8fC5v7k9h3E7KIQB9dgO",
      "include_colab_link": true
    },
    "kernelspec": {
      "name": "python3",
      "display_name": "Python 3"
    },
    "language_info": {
      "name": "python"
    }
  },
  "cells": [
    {
      "cell_type": "markdown",
      "metadata": {
        "id": "view-in-github",
        "colab_type": "text"
      },
      "source": [
        "<a href=\"https://colab.research.google.com/github/royn5618/Deep-Learning-Things/blob/main/MNIST_Digits_Image_Classification.ipynb\" target=\"_parent\"><img src=\"https://colab.research.google.com/assets/colab-badge.svg\" alt=\"Open In Colab\"/></a>"
      ]
    },
    {
      "cell_type": "markdown",
      "metadata": {
        "id": "-FyMA2xo4Ooz"
      },
      "source": [
        "# Getting Started\n",
        "\n",
        "This notebook contains the \"Hello World' of image classification using Keras. The MNIST dataset comes preloaded with Keras in the form of a set of four numpy arrays."
      ]
    },
    {
      "cell_type": "markdown",
      "metadata": {
        "id": "ZBewyepRA9e5"
      },
      "source": [
        "Read more abount MNIST - http://yann.lecun.com/exdb/mnist/"
      ]
    },
    {
      "cell_type": "markdown",
      "metadata": {
        "id": "z5XQdmT54dt-"
      },
      "source": [
        "# Load Data"
      ]
    },
    {
      "cell_type": "code",
      "metadata": {
        "id": "94VszCDq93LC"
      },
      "source": [
        "from keras.datasets import mnist"
      ],
      "execution_count": 1,
      "outputs": []
    },
    {
      "cell_type": "code",
      "metadata": {
        "id": "YMyqrvlP9_-b",
        "colab": {
          "base_uri": "https://localhost:8080/"
        },
        "outputId": "7596815e-8874-4834-a186-8aadd4725b52"
      },
      "source": [
        "(X_train, y_train), (X_test, y_test) = mnist.load_data()"
      ],
      "execution_count": 2,
      "outputs": [
        {
          "output_type": "stream",
          "text": [
            "Downloading data from https://storage.googleapis.com/tensorflow/tf-keras-datasets/mnist.npz\n",
            "11493376/11490434 [==============================] - 0s 0us/step\n"
          ],
          "name": "stdout"
        }
      ]
    },
    {
      "cell_type": "markdown",
      "metadata": {
        "id": "yr1nC7l0-uDK"
      },
      "source": [
        "Here the training sets (X_train and X_test) are images.\n",
        "\n",
        "y_train and y_test are the lables."
      ]
    },
    {
      "cell_type": "code",
      "metadata": {
        "colab": {
          "base_uri": "https://localhost:8080/"
        },
        "id": "T32f753c-aAf",
        "outputId": "e3667ee8-f15d-42f8-878b-226eb2d8f574"
      },
      "source": [
        "type(X_train), X_train.shape"
      ],
      "execution_count": 3,
      "outputs": [
        {
          "output_type": "execute_result",
          "data": {
            "text/plain": [
              "(numpy.ndarray, (60000, 28, 28))"
            ]
          },
          "metadata": {
            "tags": []
          },
          "execution_count": 3
        }
      ]
    },
    {
      "cell_type": "code",
      "metadata": {
        "colab": {
          "base_uri": "https://localhost:8080/"
        },
        "id": "-76yX1RC_EsY",
        "outputId": "c8fbba14-052d-41df-c24c-aceb77baef44"
      },
      "source": [
        "type(y_train), y_train.shape"
      ],
      "execution_count": 4,
      "outputs": [
        {
          "output_type": "execute_result",
          "data": {
            "text/plain": [
              "(numpy.ndarray, (60000,))"
            ]
          },
          "metadata": {
            "tags": []
          },
          "execution_count": 4
        }
      ]
    },
    {
      "cell_type": "code",
      "metadata": {
        "id": "4GEd4i0y-9Vc"
      },
      "source": [
        "import numpy as np"
      ],
      "execution_count": 5,
      "outputs": []
    },
    {
      "cell_type": "code",
      "metadata": {
        "colab": {
          "base_uri": "https://localhost:8080/"
        },
        "id": "QtesvKC9Az7S",
        "outputId": "b7515f23-56fe-4831-9968-9ddf98c1ab0f"
      },
      "source": [
        "np.unique(y_train)"
      ],
      "execution_count": 6,
      "outputs": [
        {
          "output_type": "execute_result",
          "data": {
            "text/plain": [
              "array([0, 1, 2, 3, 4, 5, 6, 7, 8, 9], dtype=uint8)"
            ]
          },
          "metadata": {
            "tags": []
          },
          "execution_count": 6
        }
      ]
    },
    {
      "cell_type": "markdown",
      "metadata": {
        "id": "Jjqb6l6v33Uu"
      },
      "source": [
        "These are the 10 different labels. Plot the first instance.\n",
        "\n"
      ]
    },
    {
      "cell_type": "code",
      "metadata": {
        "colab": {
          "base_uri": "https://localhost:8080/",
          "height": 281
        },
        "id": "SxmomnkzrWYc",
        "outputId": "f7218185-c172-465a-a591-c8fb29fcff82"
      },
      "source": [
        "import matplotlib.pyplot as plt\n",
        "plt.figure()\n",
        "plt.imshow(X_train[0])\n",
        "plt.colorbar()\n",
        "plt.grid(False)\n",
        "plt.title(str(y_train[0])) # Since it is a list\n",
        "plt.show()"
      ],
      "execution_count": 7,
      "outputs": [
        {
          "output_type": "display_data",
          "data": {
            "image/png": "[encoded data removed]",
            "text/plain": [
              "<Figure size 432x288 with 2 Axes>"
            ]
          },
          "metadata": {
            "tags": [],
            "needs_background": "light"
          }
        }
      ]
    },
    {
      "cell_type": "markdown",
      "metadata": {
        "id": "uY0MYPNq4p5_"
      },
      "source": [
        "# Start Building Model"
      ]
    },
    {
      "cell_type": "code",
      "metadata": {
        "id": "Z_Ja2qlmAz4K"
      },
      "source": [
        "from keras import layers\n",
        "from keras import models"
      ],
      "execution_count": 8,
      "outputs": []
    },
    {
      "cell_type": "markdown",
      "metadata": {
        "id": "bIg_wAyy4tWL"
      },
      "source": [
        "In this model, we are saying the model architecture is sequential, that is the output of one layer will be fed into the input layer, which indicates sequential flow of data through different layer."
      ]
    },
    {
      "cell_type": "code",
      "metadata": {
        "id": "DfzcynQOByr_"
      },
      "source": [
        "model = models.Sequential()"
      ],
      "execution_count": 9,
      "outputs": []
    },
    {
      "cell_type": "markdown",
      "metadata": {
        "id": "5sW5LKHS5s3Y"
      },
      "source": [
        "Next, two Dense or fully connected layers are used. The first one has 512 units with activation function 'relu' and the input is 28 * 28 pixels corresponding to each image. The second layer has 10 units, that is it produces 10 outputs, with activation function 'softmax'. The 10 outputs would be the probability scores. (Sum of these ten probabilities = 1) The probability scores are the probaility of the image to belong to each of the ten labels."
      ]
    },
    {
      "cell_type": "code",
      "metadata": {
        "id": "FhPQnDfv7R4W"
      },
      "source": [
        "model.add(layers.Dense(512, activation='relu', input_shape=(X_train.shape[1] * X_train.shape[2], )))\n",
        "model.add(layers.Dense(10, activation='softmax')) # Why softwamx -> Categorical Output"
      ],
      "execution_count": 10,
      "outputs": []
    },
    {
      "cell_type": "markdown",
      "metadata": {
        "id": "7l2Q0KKD7Sle"
      },
      "source": [
        "To help the model improve for every epoch, we need to tell the model to use -\n",
        "\n",
        "* A **loss** function which a measure of performance of the model. Ususally, the loss function is minimized by the optimizer.\n",
        "\n",
        "* An **opitmizer** which says how the model will update based on the loss function and the data\n",
        "\n",
        "* **Metric**(s) to monitor during training and testing and judge the final performance.\n",
        "\n",
        "**Difference between Metrics and Loss Function**- \n",
        "https://stackoverflow.com/questions/47302085/what-is-metrics-in-keras"
      ]
    },
    {
      "cell_type": "code",
      "metadata": {
        "id": "ge_Wvo1iAz1y"
      },
      "source": [
        "model.compile(optimizer='rmsprop', loss='categorical_crossentropy', metrics='accuracy')"
      ],
      "execution_count": 11,
      "outputs": []
    },
    {
      "cell_type": "code",
      "metadata": {
        "id": "IDaAl18vR3EP"
      },
      "source": [
        "def get_model():\n",
        "  model = models.Sequential()\n",
        "  model.add(layers.Dense(512, activation='relu', input_shape=(X_train.shape[1] * X_train.shape[2], )))\n",
        "  model.add(layers.Dense(10, activation='softmax')) # Why softwamx -> Categorical Output\n",
        "  model.compile(optimizer='rmsprop', loss='categorical_crossentropy', metrics='accuracy')\n",
        "  return model"
      ],
      "execution_count": 12,
      "outputs": []
    },
    {
      "cell_type": "markdown",
      "metadata": {
        "id": "Mf-ldQ4B_0xT"
      },
      "source": [
        "Now, the training image is 3D array when we need is a 2D array."
      ]
    },
    {
      "cell_type": "code",
      "metadata": {
        "id": "qlpAq___Azz9"
      },
      "source": [
        "X_train_images = X_train.reshape(X_train.shape[0], X_train.shape[1] * X_train.shape[2]) # Reshaping to 60000, 28 * 28\n",
        "X_test_images = X_test.reshape(X_test.shape[0], X_test.shape[1] * X_test.shape[2]) # Reshaping to 10000, 28 * 28"
      ],
      "execution_count": 13,
      "outputs": []
    },
    {
      "cell_type": "markdown",
      "metadata": {
        "id": "gYqi7SFqAIFz"
      },
      "source": [
        "Scaling the pixels to attain a value between 0 and 1."
      ]
    },
    {
      "cell_type": "code",
      "metadata": {
        "id": "WTVUDHY2AzyJ"
      },
      "source": [
        "X_train_images = X_train_images.astype('float32') / 255\n",
        "X_test_images = X_test_images.astype('float32') / 255"
      ],
      "execution_count": 14,
      "outputs": []
    },
    {
      "cell_type": "markdown",
      "metadata": {
        "id": "4-Ib7D_YAYwG"
      },
      "source": [
        "Now, before we finally fit the model, one last preprocessing step for the data would be to convert the numbers 0 to 9 to a categorically encoded labels. \n",
        "\n",
        "For example,\n",
        "\n",
        "1 = [False, **True**, False, False, False, False, False, False, False, False]\n",
        "\n",
        "=> 1 = [0, 1, 0, 0, 0, 0, 0, 0, 0, 0]\n",
        "\n",
        "5 = [False, False, False, False, False, **True**, False, False, False, False]\n",
        "\n",
        "=> 5 = [0, 0, 0, 0, 0, 1, 0, 0, 0, 0]"
      ]
    },
    {
      "cell_type": "code",
      "metadata": {
        "id": "M31BHVsJEmbK"
      },
      "source": [
        "from keras.utils import to_categorical\n",
        "\n",
        "y_train = to_categorical(y_train)\n",
        "y_test = to_categorical(y_test)"
      ],
      "execution_count": 15,
      "outputs": []
    },
    {
      "cell_type": "markdown",
      "metadata": {
        "id": "Fjo1gA0DBOPB"
      },
      "source": [
        "# Fit the model"
      ]
    },
    {
      "cell_type": "markdown",
      "metadata": {
        "id": "kowS2mq_MtKW"
      },
      "source": [
        "## Simple Model Fit"
      ]
    },
    {
      "cell_type": "code",
      "metadata": {
        "id": "YewvbTB6SCHv"
      },
      "source": [
        "model = get_model()"
      ],
      "execution_count": 16,
      "outputs": []
    },
    {
      "cell_type": "code",
      "metadata": {
        "colab": {
          "base_uri": "https://localhost:8080/"
        },
        "id": "z7xAsfJ9GpFY",
        "outputId": "8795d25f-85d8-4fe6-933a-d0827c7fee9e"
      },
      "source": [
        "%%time\n",
        "model.fit(X_train_images, y_train, epochs=10)"
      ],
      "execution_count": 17,
      "outputs": [
        {
          "output_type": "stream",
          "text": [
            "Epoch 1/10\n",
            "1875/1875 [==============================] - 9s 4ms/step - loss: 0.3343 - accuracy: 0.8995\n",
            "Epoch 2/10\n",
            "1875/1875 [==============================] - 8s 4ms/step - loss: 0.0894 - accuracy: 0.9727\n",
            "Epoch 3/10\n",
            "1875/1875 [==============================] - 8s 4ms/step - loss: 0.0608 - accuracy: 0.9831\n",
            "Epoch 4/10\n",
            "1875/1875 [==============================] - 8s 4ms/step - loss: 0.0490 - accuracy: 0.9864\n",
            "Epoch 5/10\n",
            "1875/1875 [==============================] - 8s 4ms/step - loss: 0.0402 - accuracy: 0.9892\n",
            "Epoch 6/10\n",
            "1875/1875 [==============================] - 8s 4ms/step - loss: 0.0293 - accuracy: 0.9915\n",
            "Epoch 7/10\n",
            "1875/1875 [==============================] - 8s 4ms/step - loss: 0.0255 - accuracy: 0.9934\n",
            "Epoch 8/10\n",
            "1875/1875 [==============================] - 8s 4ms/step - loss: 0.0203 - accuracy: 0.9941\n",
            "Epoch 9/10\n",
            "1875/1875 [==============================] - 8s 4ms/step - loss: 0.0151 - accuracy: 0.9955\n",
            "Epoch 10/10\n",
            "1875/1875 [==============================] - 8s 4ms/step - loss: 0.0133 - accuracy: 0.9961\n",
            "CPU times: user 1min 55s, sys: 10.7 s, total: 2min 6s\n",
            "Wall time: 1min 19s\n"
          ],
          "name": "stdout"
        },
        {
          "output_type": "execute_result",
          "data": {
            "text/plain": [
              "<tensorflow.python.keras.callbacks.History at 0x7f0ffcaf28d0>"
            ]
          },
          "metadata": {
            "tags": []
          },
          "execution_count": 17
        }
      ]
    },
    {
      "cell_type": "code",
      "metadata": {
        "colab": {
          "base_uri": "https://localhost:8080/"
        },
        "id": "4tI22M2bBfSr",
        "outputId": "8fa62d9a-a470-4dcb-978c-f221e911d6be"
      },
      "source": [
        "pred_loss, pred_accuracy = model.evaluate(X_test_images, y_test)"
      ],
      "execution_count": 18,
      "outputs": [
        {
          "output_type": "stream",
          "text": [
            "313/313 [==============================] - 1s 2ms/step - loss: 0.1208 - accuracy: 0.9779\n"
          ],
          "name": "stdout"
        }
      ]
    },
    {
      "cell_type": "markdown",
      "metadata": {
        "id": "TI05zPeFFrIL"
      },
      "source": [
        "## Training in batches"
      ]
    },
    {
      "cell_type": "code",
      "metadata": {
        "colab": {
          "base_uri": "https://localhost:8080/"
        },
        "id": "t6BFKS1sBYX2",
        "outputId": "e11361a5-0408-4554-dedc-bea6aea0fbe7"
      },
      "source": [
        "%%time\n",
        "model = get_model()\n",
        "model.fit(X_train_images, y_train, epochs=10, batch_size=128)"
      ],
      "execution_count": 19,
      "outputs": [
        {
          "output_type": "stream",
          "text": [
            "Epoch 1/10\n",
            "469/469 [==============================] - 3s 6ms/step - loss: 0.4302 - accuracy: 0.8774\n",
            "Epoch 2/10\n",
            "469/469 [==============================] - 3s 6ms/step - loss: 0.1138 - accuracy: 0.9673\n",
            "Epoch 3/10\n",
            "469/469 [==============================] - 3s 6ms/step - loss: 0.0684 - accuracy: 0.9797\n",
            "Epoch 4/10\n",
            "469/469 [==============================] - 3s 6ms/step - loss: 0.0493 - accuracy: 0.9861\n",
            "Epoch 5/10\n",
            "469/469 [==============================] - 3s 6ms/step - loss: 0.0365 - accuracy: 0.9888\n",
            "Epoch 6/10\n",
            "469/469 [==============================] - 3s 6ms/step - loss: 0.0257 - accuracy: 0.9924\n",
            "Epoch 7/10\n",
            "469/469 [==============================] - 3s 6ms/step - loss: 0.0200 - accuracy: 0.9947\n",
            "Epoch 8/10\n",
            "469/469 [==============================] - 3s 6ms/step - loss: 0.0140 - accuracy: 0.9964\n",
            "Epoch 9/10\n",
            "469/469 [==============================] - 3s 6ms/step - loss: 0.0103 - accuracy: 0.9972\n",
            "Epoch 10/10\n",
            "469/469 [==============================] - 3s 6ms/step - loss: 0.0090 - accuracy: 0.9976\n",
            "CPU times: user 44.7 s, sys: 3.14 s, total: 47.9 s\n",
            "Wall time: 29.6 s\n"
          ],
          "name": "stdout"
        }
      ]
    },
    {
      "cell_type": "markdown",
      "metadata": {
        "id": "grxxTkDdJfYZ"
      },
      "source": [
        "In this approach, in one **epoch**, the model is being **iteratively** fitted on randomly chosen **batches** of 128 sample or images. Therefore, in one epoch, there were 5 weight updates in the model, one for each batch, based on the loss function and optimizer specified.\n",
        "\n",
        "This process is repeated 10 times."
      ]
    },
    {
      "cell_type": "code",
      "metadata": {
        "colab": {
          "base_uri": "https://localhost:8080/"
        },
        "id": "u7lrWZyWMwjw",
        "outputId": "9b6b6811-90b7-4c28-9e01-7c23cffc9fa0"
      },
      "source": [
        "pred_loss, pred_accuracy = model.evaluate(X_test_images, y_test)"
      ],
      "execution_count": 20,
      "outputs": [
        {
          "output_type": "stream",
          "text": [
            "313/313 [==============================] - 1s 2ms/step - loss: 0.0757 - accuracy: 0.9810\n"
          ],
          "name": "stdout"
        }
      ]
    },
    {
      "cell_type": "markdown",
      "metadata": {
        "id": "mysgWqamGwL-"
      },
      "source": [
        "## Track Model Performance per Epoch\n",
        "\n",
        "The fit method return back the training loss and metrics, (and validation loss and metrics, where specified - like in the following fit method where we passed  the validation data) per epoch. It is useful to monitor the performance of the model."
      ]
    },
    {
      "cell_type": "code",
      "metadata": {
        "colab": {
          "base_uri": "https://localhost:8080/"
        },
        "id": "eYJbC4K9G43j",
        "outputId": "93821614-c0fa-437b-ccfb-522d8b3e67e2"
      },
      "source": [
        "%%time\n",
        "model = get_model()\n",
        "history = model.fit(X_train_images, y_train, epochs=10, batch_size=128)"
      ],
      "execution_count": 21,
      "outputs": [
        {
          "output_type": "stream",
          "text": [
            "Epoch 1/10\n",
            "469/469 [==============================] - 3s 6ms/step - loss: 0.4328 - accuracy: 0.8760\n",
            "Epoch 2/10\n",
            "469/469 [==============================] - 3s 6ms/step - loss: 0.1138 - accuracy: 0.9670\n",
            "Epoch 3/10\n",
            "469/469 [==============================] - 3s 6ms/step - loss: 0.0683 - accuracy: 0.9798\n",
            "Epoch 4/10\n",
            "469/469 [==============================] - 3s 6ms/step - loss: 0.0506 - accuracy: 0.9853\n",
            "Epoch 5/10\n",
            "469/469 [==============================] - 3s 6ms/step - loss: 0.0362 - accuracy: 0.9894\n",
            "Epoch 6/10\n",
            "469/469 [==============================] - 3s 6ms/step - loss: 0.0271 - accuracy: 0.9921\n",
            "Epoch 7/10\n",
            "469/469 [==============================] - 3s 6ms/step - loss: 0.0189 - accuracy: 0.9948\n",
            "Epoch 8/10\n",
            "469/469 [==============================] - 3s 6ms/step - loss: 0.0160 - accuracy: 0.9957\n",
            "Epoch 9/10\n",
            "469/469 [==============================] - 3s 6ms/step - loss: 0.0122 - accuracy: 0.9966\n",
            "Epoch 10/10\n",
            "469/469 [==============================] - 3s 6ms/step - loss: 0.0085 - accuracy: 0.9977\n",
            "CPU times: user 45.1 s, sys: 3.29 s, total: 48.4 s\n",
            "Wall time: 29.9 s\n"
          ],
          "name": "stdout"
        }
      ]
    },
    {
      "cell_type": "markdown",
      "metadata": {
        "id": "qKq99vAdNgKx"
      },
      "source": [
        "Check the history.history dictionary."
      ]
    },
    {
      "cell_type": "code",
      "metadata": {
        "colab": {
          "base_uri": "https://localhost:8080/"
        },
        "id": "CMisPHfyccik",
        "outputId": "f0ef913e-d919-4c09-f0de-b9c8a3390739"
      },
      "source": [
        "history.history.keys()"
      ],
      "execution_count": 22,
      "outputs": [
        {
          "output_type": "execute_result",
          "data": {
            "text/plain": [
              "dict_keys(['loss', 'accuracy'])"
            ]
          },
          "metadata": {
            "tags": []
          },
          "execution_count": 22
        }
      ]
    },
    {
      "cell_type": "markdown",
      "metadata": {
        "id": "YtKwf9EUNnYJ"
      },
      "source": [
        "Check the accuracy values per epoch."
      ]
    },
    {
      "cell_type": "code",
      "metadata": {
        "colab": {
          "base_uri": "https://localhost:8080/"
        },
        "id": "gKfJ0w_sczKX",
        "outputId": "94979556-557c-49fa-c9dd-e4e4b3f07e94"
      },
      "source": [
        "history.history['accuracy']"
      ],
      "execution_count": 23,
      "outputs": [
        {
          "output_type": "execute_result",
          "data": {
            "text/plain": [
              "[0.9254999756813049,\n",
              " 0.9693999886512756,\n",
              " 0.9794666767120361,\n",
              " 0.9850666522979736,\n",
              " 0.9886999726295471,\n",
              " 0.9918000102043152,\n",
              " 0.9938333630561829,\n",
              " 0.995283305644989,\n",
              " 0.9962999820709229,\n",
              " 0.9971500039100647]"
            ]
          },
          "metadata": {
            "tags": []
          },
          "execution_count": 23
        }
      ]
    },
    {
      "cell_type": "markdown",
      "metadata": {
        "id": "ijMiu-RNNr9a"
      },
      "source": [
        "There should be 10 values for this example since we have 10 epochs."
      ]
    },
    {
      "cell_type": "code",
      "metadata": {
        "colab": {
          "base_uri": "https://localhost:8080/"
        },
        "id": "IDOKhNrmcjly",
        "outputId": "2d89dc85-67b8-4e6e-804b-6a3967466802"
      },
      "source": [
        "len(history.history['accuracy'])"
      ],
      "execution_count": 24,
      "outputs": [
        {
          "output_type": "execute_result",
          "data": {
            "text/plain": [
              "10"
            ]
          },
          "metadata": {
            "tags": []
          },
          "execution_count": 24
        }
      ]
    },
    {
      "cell_type": "markdown",
      "metadata": {
        "id": "15d-S9SQNxBv"
      },
      "source": [
        "Generate the epochs list to plot the loss and accuracy of the model."
      ]
    },
    {
      "cell_type": "code",
      "metadata": {
        "id": "KBrlSOURAUBt"
      },
      "source": [
        "epochs = range(1, len(history.history['accuracy']) + 1)"
      ],
      "execution_count": 25,
      "outputs": []
    },
    {
      "cell_type": "markdown",
      "metadata": {
        "id": "REXfVSDuN5wf"
      },
      "source": [
        "Plot the training loss. Observe how the loss decreases over successive epochs, that is, the model's understanding as well as performance based on the training data improves."
      ]
    },
    {
      "cell_type": "code",
      "metadata": {
        "colab": {
          "base_uri": "https://localhost:8080/",
          "height": 265
        },
        "id": "MpfGaZ15dIKf",
        "outputId": "436eb683-a4c2-4c64-b571-cb48d90192ec"
      },
      "source": [
        "plt.plot(epochs, history.history['loss'], label='Training Loss')\n",
        "plt.show()"
      ],
      "execution_count": 26,
      "outputs": [
        {
          "output_type": "display_data",
          "data": {
            "image/png": "[encoded data removed]",
            "text/plain": [
              "<Figure size 432x288 with 1 Axes>"
            ]
          },
          "metadata": {
            "tags": [],
            "needs_background": "light"
          }
        }
      ]
    },
    {
      "cell_type": "markdown",
      "metadata": {
        "id": "Q65OQOxsN8i8"
      },
      "source": [
        "Plot accuracy scores. Observe the increasing accuracy which reflects how the model's performance improves."
      ]
    },
    {
      "cell_type": "code",
      "metadata": {
        "colab": {
          "base_uri": "https://localhost:8080/",
          "height": 267
        },
        "id": "XzE6tEVWdSDY",
        "outputId": "cf37e8e0-a893-4e7c-804b-ad7ddcb14822"
      },
      "source": [
        "plt.plot(epochs, history.history['accuracy'], label='Training Loss')\n",
        "plt.show()"
      ],
      "execution_count": 27,
      "outputs": [
        {
          "output_type": "display_data",
          "data": {
            "image/png": "[encoded data removed]",
            "text/plain": [
              "<Figure size 432x288 with 1 Axes>"
            ]
          },
          "metadata": {
            "tags": [],
            "needs_background": "light"
          }
        }
      ]
    },
    {
      "cell_type": "markdown",
      "metadata": {
        "id": "cBVQzCo0NDnf"
      },
      "source": [
        "## Use Validation Set to Fit Model\n",
        "\n",
        "This approach for model training uses a fraction of the training data for validating the trained model per epoch. This approach is helpful to monitor if the model is overfitting to the training data and at which epoch has the optimum model's performance."
      ]
    },
    {
      "cell_type": "code",
      "metadata": {
        "colab": {
          "base_uri": "https://localhost:8080/"
        },
        "id": "nf93-bVPdeBx",
        "outputId": "0cc8e10a-97a9-4683-da1b-7152abe4c447"
      },
      "source": [
        "model = get_model()\n",
        "history = model.fit(X_train_images, y_train, epochs=10, batch_size=128, validation_split=0.3)"
      ],
      "execution_count": 28,
      "outputs": [
        {
          "output_type": "stream",
          "text": [
            "Epoch 1/10\n",
            "329/329 [==============================] - 3s 9ms/step - loss: 0.4990 - accuracy: 0.8533 - val_loss: 0.2166 - val_accuracy: 0.9364\n",
            "Epoch 2/10\n",
            "329/329 [==============================] - 2s 7ms/step - loss: 0.1345 - accuracy: 0.9605 - val_loss: 0.1288 - val_accuracy: 0.9602\n",
            "Epoch 3/10\n",
            "329/329 [==============================] - 2s 7ms/step - loss: 0.0813 - accuracy: 0.9761 - val_loss: 0.1134 - val_accuracy: 0.9664\n",
            "Epoch 4/10\n",
            "329/329 [==============================] - 2s 7ms/step - loss: 0.0579 - accuracy: 0.9831 - val_loss: 0.1082 - val_accuracy: 0.9667\n",
            "Epoch 5/10\n",
            "329/329 [==============================] - 2s 7ms/step - loss: 0.0412 - accuracy: 0.9885 - val_loss: 0.0968 - val_accuracy: 0.9720\n",
            "Epoch 6/10\n",
            "329/329 [==============================] - 2s 7ms/step - loss: 0.0289 - accuracy: 0.9918 - val_loss: 0.0927 - val_accuracy: 0.9734\n",
            "Epoch 7/10\n",
            "329/329 [==============================] - 2s 7ms/step - loss: 0.0223 - accuracy: 0.9937 - val_loss: 0.0869 - val_accuracy: 0.9759\n",
            "Epoch 8/10\n",
            "329/329 [==============================] - 2s 7ms/step - loss: 0.0172 - accuracy: 0.9952 - val_loss: 0.1004 - val_accuracy: 0.9750\n",
            "Epoch 9/10\n",
            "329/329 [==============================] - 2s 7ms/step - loss: 0.0131 - accuracy: 0.9967 - val_loss: 0.0957 - val_accuracy: 0.9764\n",
            "Epoch 10/10\n",
            "329/329 [==============================] - 2s 7ms/step - loss: 0.0092 - accuracy: 0.9979 - val_loss: 0.0976 - val_accuracy: 0.9763\n"
          ],
          "name": "stdout"
        }
      ]
    },
    {
      "cell_type": "code",
      "metadata": {
        "colab": {
          "base_uri": "https://localhost:8080/"
        },
        "id": "CNwfOwi8qr2U",
        "outputId": "983bb2b9-d82e-4364-842b-adba7f48708e"
      },
      "source": [
        "history.history.keys()"
      ],
      "execution_count": 29,
      "outputs": [
        {
          "output_type": "execute_result",
          "data": {
            "text/plain": [
              "dict_keys(['loss', 'accuracy', 'val_loss', 'val_accuracy'])"
            ]
          },
          "metadata": {
            "tags": []
          },
          "execution_count": 29
        }
      ]
    },
    {
      "cell_type": "code",
      "metadata": {
        "id": "8JIUlCazdd_j"
      },
      "source": [
        "epochs = range(1, len(history.history['accuracy']) + 1)"
      ],
      "execution_count": 30,
      "outputs": []
    },
    {
      "cell_type": "code",
      "metadata": {
        "colab": {
          "base_uri": "https://localhost:8080/",
          "height": 281
        },
        "id": "HfgN7oEmdd9D",
        "outputId": "ca159bdb-7409-4d83-aeec-3a28ab7d83a7"
      },
      "source": [
        "plt.plot(epochs, history.history['loss'], label='Training Loss')\n",
        "plt.plot(epochs, history.history['val_loss'], label='Validation Loss')\n",
        "plt.title('Trianing and Validation Loss')\n",
        "plt.legend()\n",
        "plt.show()  "
      ],
      "execution_count": 31,
      "outputs": [
        {
          "output_type": "display_data",
          "data": {
            "image/png": "[encoded data removed]",
            "text/plain": [
              "<Figure size 432x288 with 1 Axes>"
            ]
          },
          "metadata": {
            "tags": [],
            "needs_background": "light"
          }
        }
      ]
    },
    {
      "cell_type": "markdown",
      "metadata": {
        "id": "cRL_XOHKSO1n"
      },
      "source": [
        "In this plot, observe that at the second epoch, the training and validation loss are same. The validation loss increases after sixth epoch but the training loss decreases. This is happening because the model is getting overfitted to the training data and therefore it is performing poorly on the validation data."
      ]
    },
    {
      "cell_type": "code",
      "metadata": {
        "id": "69sr8pGFOJ1K"
      },
      "source": [
        ""
      ],
      "execution_count": 31,
      "outputs": []
    }
  ]
}