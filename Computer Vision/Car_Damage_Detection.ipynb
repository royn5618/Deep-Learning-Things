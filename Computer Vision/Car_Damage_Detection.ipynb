{
 "cells": [
  {
   "cell_type": "markdown",
   "metadata": {
    "colab_type": "text",
    "id": "view-in-github"
   },
   "source": [
    "<a href=\"https://colab.research.google.com/github/royn5618/ComputerVisionProject/blob/master/Car_Damage_Detection.ipynb\" target=\"_parent\"><img src=\"https://colab.research.google.com/assets/colab-badge.svg\" alt=\"Open In Colab\"/></a>"
   ]
  },
  {
   "cell_type": "markdown",
   "metadata": {
    "id": "9O6p0n0X0Irq"
   },
   "source": [
    "## VGG 16\n",
    "\n",
    "* Trained on ILSVR (ImageNet)\n",
    "* VGG 16 - based on CNN architecture\n",
    "* Model calculates the probablity between 0 to 1 for each label\n",
    "* Choose the category with the highest probabality\n",
    "\n",
    "## VGG 16 Architecture\n",
    "\n",
    "16 layers with learnable weights\n",
    "\n",
    "{conv1 conv2 pooling} x 2\n",
    "{conv1 conv2 conv3 pooling} x 3\n",
    "{dense} x 3\n",
    "\n",
    "Thus, 13 conv layers - 4 + 9 = 13 \n",
    "\n",
    "\n",
    "## Transfer Learning\n",
    "\n",
    "Instead creating a model from scratch, utilize the weights of a pre-trained model.\n",
    "-saves infrastructural expenses\n",
    "-saves time\n",
    "The learning is transfered.\n"
   ]
  },
  {
   "cell_type": "code",
   "execution_count": null,
   "metadata": {
    "ExecuteTime": {
     "end_time": "2021-06-04T22:55:52.249542Z",
     "start_time": "2021-06-04T22:55:39.840333Z"
    },
    "id": "89df10iU1XmY"
   },
   "outputs": [],
   "source": [
    "import numpy as np\n",
    "\n",
    "import matplotlib.pyplot as plt\n",
    "\n",
    "from keras.applications import VGG16\n",
    "from keras.applications.vgg16 import decode_predictions\n",
    "from keras.preprocessing.image import img_to_array, load_img\n",
    "from keras.applications.imagenet_utils import preprocess_input\n",
    "# from keras.applications.vgg16 import preprocess_input"
   ]
  },
  {
   "cell_type": "code",
   "execution_count": null,
   "metadata": {
    "ExecuteTime": {
     "end_time": "2021-06-04T22:56:37.133644Z",
     "start_time": "2021-06-04T22:55:52.268333Z"
    },
    "colab": {
     "base_uri": "https://localhost:8080/",
     "height": 72
    },
    "id": "IOHn5GPEAHR7",
    "outputId": "2a92c4a2-26ac-4c3f-e01c-a4145715ad98"
   },
   "outputs": [],
   "source": [
    "model = VGG16(weights='imagenet')"
   ]
  },
  {
   "cell_type": "code",
   "execution_count": null,
   "metadata": {
    "ExecuteTime": {
     "end_time": "2021-06-04T22:56:37.141636Z",
     "start_time": "2021-06-04T22:55:42.127Z"
    },
    "colab": {
     "base_uri": "https://localhost:8080/",
     "height": 953
    },
    "id": "7T2n-QP82jGo",
    "outputId": "bf2443ef-3c94-4aaf-848f-59f815c462c8"
   },
   "outputs": [],
   "source": [
    "model.summary()"
   ]
  },
  {
   "cell_type": "code",
   "execution_count": null,
   "metadata": {
    "ExecuteTime": {
     "end_time": "2021-06-04T22:56:37.151028Z",
     "start_time": "2021-06-04T22:55:42.401Z"
    },
    "id": "plEyjRzp694l"
   },
   "outputs": [],
   "source": [
    "def prep_image(img_path):\n",
    "    img = load_img(img_path, target_size=(224, 224))\n",
    "    x = img_to_array(img)\n",
    "    x = np.expand_dims(\n",
    "        x, axis=0\n",
    "    )  # image = image.reshape((1, image.shape[0], image.shape[1], image.shape[2]))\n",
    "    # print(x.shape)\n",
    "    x = preprocess_input(x)\n",
    "    return x"
   ]
  },
  {
   "cell_type": "code",
   "execution_count": null,
   "metadata": {
    "ExecuteTime": {
     "end_time": "2021-06-04T22:56:37.160007Z",
     "start_time": "2021-06-04T22:55:42.570Z"
    },
    "id": "I8jH_7N08t5x"
   },
   "outputs": [],
   "source": [
    "test_img_path = '/content/drive/My Drive/London/IMG_20190720_084522.jpg'"
   ]
  },
  {
   "cell_type": "code",
   "execution_count": null,
   "metadata": {
    "ExecuteTime": {
     "end_time": "2021-06-04T22:56:37.166634Z",
     "start_time": "2021-06-04T22:55:42.736Z"
    },
    "id": "k6RQo0YZ8t8_"
   },
   "outputs": [],
   "source": [
    "prepped_image = prep_image(test_img_path)"
   ]
  },
  {
   "cell_type": "code",
   "execution_count": null,
   "metadata": {
    "ExecuteTime": {
     "end_time": "2021-06-04T22:56:37.174600Z",
     "start_time": "2021-06-04T22:55:42.920Z"
    },
    "colab": {
     "base_uri": "https://localhost:8080/",
     "height": 1000
    },
    "id": "pfbrty7q98LA",
    "outputId": "111da489-ba20-422a-a09f-6fc341d45a1c"
   },
   "outputs": [],
   "source": [
    "model.predict(prepped_image)"
   ]
  },
  {
   "cell_type": "code",
   "execution_count": null,
   "metadata": {
    "ExecuteTime": {
     "end_time": "2021-06-04T22:56:37.182908Z",
     "start_time": "2021-06-04T22:55:43.076Z"
    },
    "id": "ICC5LEP0-DB5"
   },
   "outputs": [],
   "source": [
    "probabilities = model.predict(prepped_image)"
   ]
  },
  {
   "cell_type": "code",
   "execution_count": null,
   "metadata": {
    "ExecuteTime": {
     "end_time": "2021-06-04T22:56:37.188739Z",
     "start_time": "2021-06-04T22:55:43.409Z"
    },
    "colab": {
     "base_uri": "https://localhost:8080/",
     "height": 35
    },
    "id": "SGWb7_fZ-RTs",
    "outputId": "27958e1f-8406-4d6d-ac31-8af737f291b9"
   },
   "outputs": [],
   "source": [
    "probabilities.shape"
   ]
  },
  {
   "cell_type": "code",
   "execution_count": null,
   "metadata": {
    "ExecuteTime": {
     "end_time": "2021-06-04T22:56:37.196949Z",
     "start_time": "2021-06-04T22:55:43.594Z"
    },
    "colab": {
     "base_uri": "https://localhost:8080/",
     "height": 159
    },
    "id": "dKcDUJ2l-wtt",
    "outputId": "e08bf6b4-09ad-4427-b98a-d3412d847b0b"
   },
   "outputs": [],
   "source": [
    "# Return a tuple (class_name, class_description, score)\n",
    "decode_predictions(probabilities, top=5)"
   ]
  },
  {
   "cell_type": "code",
   "execution_count": null,
   "metadata": {
    "ExecuteTime": {
     "end_time": "2021-06-04T22:56:37.207553Z",
     "start_time": "2021-06-04T22:55:43.763Z"
    },
    "colab": {
     "base_uri": "https://localhost:8080/",
     "height": 287
    },
    "id": "gs4dacIu-AlM",
    "outputId": "992b95e1-081b-407d-a5de-8f4967187f2f"
   },
   "outputs": [],
   "source": [
    "img = load_img(test_img_path, target_size=(224, 224))\n",
    "plt.imshow(img)"
   ]
  },
  {
   "cell_type": "code",
   "execution_count": null,
   "metadata": {
    "ExecuteTime": {
     "end_time": "2021-06-04T22:56:37.213891Z",
     "start_time": "2021-06-04T22:55:43.946Z"
    },
    "colab": {
     "base_uri": "https://localhost:8080/",
     "height": 228
    },
    "id": "FVXLES1H8uEX",
    "outputId": "7b0116b9-32c2-4e32-f34e-725870763af3"
   },
   "outputs": [],
   "source": [
    "!wget http://imagenet.stanford.edu/internal/car196/cars_train.tgz"
   ]
  },
  {
   "cell_type": "code",
   "execution_count": null,
   "metadata": {
    "ExecuteTime": {
     "end_time": "2021-06-04T22:56:37.220840Z",
     "start_time": "2021-06-04T22:55:44.131Z"
    },
    "colab": {
     "base_uri": "https://localhost:8080/",
     "height": 1000
    },
    "id": "mDsGpqELFHA7",
    "outputId": "a1d530b4-746b-461e-ec00-c6589c8bc966"
   },
   "outputs": [],
   "source": [
    "!tar -xvzf cars_train.tgz"
   ]
  },
  {
   "cell_type": "code",
   "execution_count": null,
   "metadata": {
    "ExecuteTime": {
     "end_time": "2021-06-04T22:56:37.227213Z",
     "start_time": "2021-06-04T22:55:44.309Z"
    },
    "id": "pXUDiQkm8uHJ"
   },
   "outputs": [],
   "source": [
    "import os\n",
    "all_car_images=os.listdir('cars_train')"
   ]
  },
  {
   "cell_type": "code",
   "execution_count": null,
   "metadata": {
    "ExecuteTime": {
     "end_time": "2021-06-04T22:56:37.232123Z",
     "start_time": "2021-06-04T22:55:44.492Z"
    },
    "id": "qyKG31QuIuN5"
   },
   "outputs": [],
   "source": [
    "train_folder_path = 'cars_train'"
   ]
  },
  {
   "cell_type": "code",
   "execution_count": null,
   "metadata": {
    "ExecuteTime": {
     "end_time": "2021-06-04T22:56:37.239540Z",
     "start_time": "2021-06-04T22:55:44.714Z"
    },
    "colab": {
     "base_uri": "https://localhost:8080/",
     "height": 35
    },
    "id": "TCx_flkUGdos",
    "outputId": "bc8076c2-2ffe-4c28-fe5f-bd0d240f294d"
   },
   "outputs": [],
   "source": [
    "all_car_images[:5]"
   ]
  },
  {
   "cell_type": "code",
   "execution_count": null,
   "metadata": {
    "ExecuteTime": {
     "end_time": "2021-06-04T22:56:37.247764Z",
     "start_time": "2021-06-04T22:55:44.886Z"
    },
    "id": "FzBfFyHSGffO"
   },
   "outputs": [],
   "source": [
    "from collections import Counter, defaultdict\n",
    "\n",
    "\n",
    "def get_car_labels(img_train_directory):\n",
    "    counter_car_vgg_labels_dict = defaultdict(float)\n",
    "    all_car_images = os.listdir(img_train_directory)\n",
    "    for i, car_image in enumerate(all_car_images):\n",
    "        img = prep_image(img_train_directory + '/' + car_image)\n",
    "        label_probabilities = model.predict(img)\n",
    "        get_top_predition_labels = decode_predictions(label_probabilities,\n",
    "                                                      top=5)\n",
    "        for each_top_label in get_top_predition_labels[0]:\n",
    "            counter_car_vgg_labels_dict[\n",
    "                each_top_label[0:2]] += each_top_label[2]\n",
    "    return Counter(counter_car_vgg_labels_dict)"
   ]
  },
  {
   "cell_type": "code",
   "execution_count": null,
   "metadata": {
    "ExecuteTime": {
     "end_time": "2021-06-04T22:56:37.247764Z",
     "start_time": "2021-06-04T22:55:45.081Z"
    },
    "id": "Mt1oOv5vKk5L"
   },
   "outputs": [],
   "source": [
    "car_counter = get_car_labels(train_folder_path)"
   ]
  },
  {
   "cell_type": "code",
   "execution_count": null,
   "metadata": {
    "ExecuteTime": {
     "end_time": "2021-06-04T22:56:37.255764Z",
     "start_time": "2021-06-04T22:55:45.256Z"
    },
    "colab": {
     "base_uri": "https://localhost:8080/",
     "height": 35
    },
    "id": "4MSuVjouKpUK",
    "outputId": "9cc9b193-3c3d-427e-e47a-902404a71a30"
   },
   "outputs": [],
   "source": [
    "car_counter"
   ]
  },
  {
   "cell_type": "code",
   "execution_count": null,
   "metadata": {
    "ExecuteTime": {
     "end_time": "2021-06-04T22:56:37.263899Z",
     "start_time": "2021-06-04T22:55:45.609Z"
    },
    "id": "drWEJf0GLrtd"
   },
   "outputs": [],
   "source": [
    "cat_list  = [k for k, v in car_counter.most_common()[:27]]"
   ]
  },
  {
   "cell_type": "code",
   "execution_count": null,
   "metadata": {
    "ExecuteTime": {
     "end_time": "2021-06-04T22:56:37.275614Z",
     "start_time": "2021-06-04T22:55:45.787Z"
    },
    "colab": {
     "base_uri": "https://localhost:8080/",
     "height": 485
    },
    "id": "DGeZSZG9Ipsy",
    "outputId": "a27078e9-036c-45bc-9784-5886ae2f748b"
   },
   "outputs": [],
   "source": [
    "cat_list"
   ]
  },
  {
   "cell_type": "code",
   "execution_count": null,
   "metadata": {
    "ExecuteTime": {
     "end_time": "2021-06-04T22:56:37.275614Z",
     "start_time": "2021-06-04T22:55:45.965Z"
    },
    "id": "0YEP8u8YI59k"
   },
   "outputs": [],
   "source": [
    "import pickle\n",
    "\n",
    "with open('counter_car_vgg_labels_dict.pk', 'wb') as pickle_file:\n",
    "    pickle.dump(car_counter, pickle_file)"
   ]
  },
  {
   "cell_type": "code",
   "execution_count": null,
   "metadata": {
    "ExecuteTime": {
     "end_time": "2021-06-04T22:56:37.288950Z",
     "start_time": "2021-06-04T22:55:46.524Z"
    },
    "colab": {
     "base_uri": "https://localhost:8080/",
     "height": 1000
    },
    "id": "yXFZm6d4Sc-p",
    "outputId": "97c144f3-3486-4e08-dc0e-76b78be19577"
   },
   "outputs": [],
   "source": [
    "!wget http://imagenet.stanford.edu/internal/car196/cars_test.tgz\n",
    "!tar -xvzf cars_test.tgz"
   ]
  },
  {
   "cell_type": "code",
   "execution_count": null,
   "metadata": {
    "ExecuteTime": {
     "end_time": "2021-06-04T22:56:37.296962Z",
     "start_time": "2021-06-04T22:55:46.738Z"
    },
    "colab": {
     "base_uri": "https://localhost:8080/",
     "height": 35
    },
    "id": "X9t-xukNTbqd",
    "outputId": "78a4611e-64d8-4048-d81c-97a18f978ef1"
   },
   "outputs": [],
   "source": [
    "# Everything in the cars_test must be classified as \"CAR\"\n",
    "# Wil test the original test image if that is a car or not\n",
    "test_img_path"
   ]
  },
  {
   "cell_type": "markdown",
   "metadata": {
    "id": "OzbM4HnTSX-5"
   },
   "source": [
    " '"
   ]
  },
  {
   "cell_type": "code",
   "execution_count": null,
   "metadata": {
    "ExecuteTime": {
     "end_time": "2021-06-04T22:56:37.304774Z",
     "start_time": "2021-06-04T22:55:47.205Z"
    },
    "id": "MKPEz38hJT4R"
   },
   "outputs": [],
   "source": [
    "def eval_car_or_not(image_path, model, top_cat_list):\n",
    "    img = prep_image(image_path)\n",
    "    out = model.predict(img)\n",
    "    top = decode_predictions(out, top=5)\n",
    "    print(\"Validating that this is a picture of your car...\")\n",
    "    for j in top[0]:\n",
    "        if j[0:2] in top_cat_list:\n",
    "            print (j[0:2])\n",
    "            print(\"Validation complete - proceed to damage evaluation\")\n",
    "            return 1\n",
    "    print(\"Are you sure this is a picture of your car? Please take another picture (try a different angle or lighting) and try again.\")\n",
    "    return 0"
   ]
  },
  {
   "cell_type": "code",
   "execution_count": null,
   "metadata": {
    "ExecuteTime": {
     "end_time": "2021-06-04T22:56:37.311107Z",
     "start_time": "2021-06-04T22:55:47.397Z"
    },
    "colab": {
     "base_uri": "https://localhost:8080/",
     "height": 89
    },
    "id": "g5vUVs-OJb8O",
    "outputId": "a0bcb077-8b01-4bc3-cff0-bf38c4d7b31c"
   },
   "outputs": [],
   "source": [
    "eval_car_or_not(test_img_path, model, cat_list)"
   ]
  },
  {
   "cell_type": "code",
   "execution_count": null,
   "metadata": {
    "ExecuteTime": {
     "end_time": "2021-06-04T22:56:37.319265Z",
     "start_time": "2021-06-04T22:55:47.575Z"
    },
    "id": "B8rffUqQUBXu"
   },
   "outputs": [],
   "source": [
    "test_car_image = 'cars_test/07699.jpg'"
   ]
  },
  {
   "cell_type": "code",
   "execution_count": null,
   "metadata": {
    "ExecuteTime": {
     "end_time": "2021-06-04T22:56:37.322040Z",
     "start_time": "2021-06-04T22:55:47.906Z"
    },
    "colab": {
     "base_uri": "https://localhost:8080/",
     "height": 87
    },
    "id": "U2JBUyU8KDAs",
    "outputId": "27e731b0-9e5e-4ff0-9784-d153220ed0e2"
   },
   "outputs": [],
   "source": [
    "eval_car_or_not(test_car_image, model, cat_list)"
   ]
  },
  {
   "cell_type": "code",
   "execution_count": null,
   "metadata": {
    "ExecuteTime": {
     "end_time": "2021-06-04T22:56:37.334644Z",
     "start_time": "2021-06-04T22:55:48.085Z"
    },
    "id": "YY5N7rmqJyQF"
   },
   "outputs": [],
   "source": [
    "test_images = os.listdir('cars_test')[:10]"
   ]
  },
  {
   "cell_type": "code",
   "execution_count": null,
   "metadata": {
    "ExecuteTime": {
     "end_time": "2021-06-04T22:56:37.342352Z",
     "start_time": "2021-06-04T22:55:48.407Z"
    },
    "colab": {
     "base_uri": "https://localhost:8080/",
     "height": 537
    },
    "id": "6gWX-ck3U7Rs",
    "outputId": "70cf2be7-4a6f-4000-d813-419d645eceb2"
   },
   "outputs": [],
   "source": [
    "for each_car_image in test_images:\n",
    "    eval_car_or_not('cars_test' + '/' + each_car_image, model, cat_list)"
   ]
  },
  {
   "cell_type": "code",
   "execution_count": null,
   "metadata": {
    "ExecuteTime": {
     "end_time": "2021-06-04T22:56:37.348791Z",
     "start_time": "2021-06-04T22:55:48.613Z"
    },
    "id": "xZQEHJRVVErB"
   },
   "outputs": [],
   "source": [
    "test_images_not_car = os.listdir('/content/drive/My Drive/London All')[:10]"
   ]
  },
  {
   "cell_type": "code",
   "execution_count": null,
   "metadata": {
    "ExecuteTime": {
     "end_time": "2021-06-04T22:56:37.354916Z",
     "start_time": "2021-06-04T22:55:48.784Z"
    },
    "colab": {
     "base_uri": "https://localhost:8080/",
     "height": 1000
    },
    "id": "TnxshTNkVfVR",
    "outputId": "7ab2a56a-8db4-40c2-fc33-608d4669dfcb"
   },
   "outputs": [],
   "source": [
    "for each_not_car_image in test_images_not_car:\n",
    "    test_non_car_img_path = '/content/drive/My Drive/London All' + '/' + each_not_car_image\n",
    "    imgtest = load_img(test_non_car_img_path, target_size=(224, 224))\n",
    "    plt.imshow(imgtest)\n",
    "    plt.show()\n",
    "    eval_car_or_not(test_non_car_img_path, model, cat_list)"
   ]
  },
  {
   "cell_type": "code",
   "execution_count": null,
   "metadata": {
    "id": "obuf9wR-U5bx"
   },
   "outputs": [],
   "source": []
  },
  {
   "cell_type": "code",
   "execution_count": null,
   "metadata": {
    "id": "EqIcFc_iJtNe"
   },
   "outputs": [],
   "source": []
  },
  {
   "cell_type": "code",
   "execution_count": null,
   "metadata": {
    "id": "XGsy5HFwJafY"
   },
   "outputs": [],
   "source": []
  },
  {
   "cell_type": "code",
   "execution_count": null,
   "metadata": {
    "id": "qJLPGRFOGf94"
   },
   "outputs": [],
   "source": []
  },
  {
   "cell_type": "code",
   "execution_count": null,
   "metadata": {
    "id": "GvFbWp0cGs6K"
   },
   "outputs": [],
   "source": []
  },
  {
   "cell_type": "code",
   "execution_count": null,
   "metadata": {
    "id": "YADd9UEkGgAf"
   },
   "outputs": [],
   "source": []
  },
  {
   "cell_type": "code",
   "execution_count": null,
   "metadata": {
    "id": "RjyyizCcGgC6"
   },
   "outputs": [],
   "source": []
  },
  {
   "cell_type": "code",
   "execution_count": null,
   "metadata": {
    "id": "C6wZzHL6GgEU"
   },
   "outputs": [],
   "source": []
  },
  {
   "cell_type": "code",
   "execution_count": null,
   "metadata": {
    "id": "M0j7l9IGGgGV"
   },
   "outputs": [],
   "source": []
  },
  {
   "cell_type": "code",
   "execution_count": null,
   "metadata": {
    "id": "UHWiSEjSGgIi"
   },
   "outputs": [],
   "source": []
  },
  {
   "cell_type": "code",
   "execution_count": null,
   "metadata": {
    "id": "pnVqZlP7GOBN"
   },
   "outputs": [],
   "source": []
  }
 ],
 "metadata": {
  "accelerator": "GPU",
  "colab": {
   "authorship_tag": "ABX9TyOlUr1RMciNs6ue8AqjQTC9",
   "include_colab_link": true,
   "mount_file_id": "1A89q-p42i8jbi_wWCTWP59cYPSn6e2hw",
   "name": "Car Damage Detection.ipynb",
   "provenance": []
  },
  "kernelspec": {
   "display_name": "Python 3",
   "language": "python",
   "name": "python3"
  },
  "language_info": {
   "codemirror_mode": {
    "name": "ipython",
    "version": 3
   },
   "file_extension": ".py",
   "mimetype": "text/x-python",
   "name": "python",
   "nbconvert_exporter": "python",
   "pygments_lexer": "ipython3",
   "version": "3.8.5"
  },
  "toc": {
   "base_numbering": 1,
   "nav_menu": {},
   "number_sections": true,
   "sideBar": true,
   "skip_h1_title": false,
   "title_cell": "Table of Contents",
   "title_sidebar": "Contents",
   "toc_cell": false,
   "toc_position": {},
   "toc_section_display": true,
   "toc_window_display": false
  },
  "varInspector": {
   "cols": {
    "lenName": 16,
    "lenType": 16,
    "lenVar": 40
   },
   "kernels_config": {
    "python": {
     "delete_cmd_postfix": "",
     "delete_cmd_prefix": "del ",
     "library": "var_list.py",
     "varRefreshCmd": "print(var_dic_list())"
    },
    "r": {
     "delete_cmd_postfix": ") ",
     "delete_cmd_prefix": "rm(",
     "library": "var_list.r",
     "varRefreshCmd": "cat(var_dic_list()) "
    }
   },
   "types_to_exclude": [
    "module",
    "function",
    "builtin_function_or_method",
    "instance",
    "_Feature"
   ],
   "window_display": false
  }
 },
 "nbformat": 4,
 "nbformat_minor": 1
}
