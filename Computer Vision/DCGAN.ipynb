{
  "nbformat": 4,
  "nbformat_minor": 0,
  "metadata": {
    "colab": {
      "provenance": [],
      "authorship_tag": "ABX9TyPSQhJHLRm1Oc7E05lEqh6G",
      "include_colab_link": true
    },
    "kernelspec": {
      "name": "python3",
      "display_name": "Python 3"
    },
    "language_info": {
      "name": "python"
    }
  },
  "cells": [
    {
      "cell_type": "markdown",
      "metadata": {
        "id": "view-in-github",
        "colab_type": "text"
      },
      "source": [
        "<a href=\"https://colab.research.google.com/github/royn5618/Deep-Learning-Things/blob/main/Computer%20Vision/DCGAN.ipynb\" target=\"_parent\"><img src=\"https://colab.research.google.com/assets/colab-badge.svg\" alt=\"Open In Colab\"/></a>"
      ]
    },
    {
      "cell_type": "code",
      "source": [
        "%matplotlib inline\n",
        "\n",
        "import numpy as np\n",
        "import torch\n",
        "import matplotlib.pyplot as plt\n",
        "from torchvision import datasets\n",
        "import torchvision.transforms as transforms"
      ],
      "metadata": {
        "id": "vhhOuwMS_zjS"
      },
      "execution_count": 1,
      "outputs": []
    },
    {
      "cell_type": "code",
      "source": [
        "# number of subprocesses to use for data loading\n",
        "num_workers = 0\n",
        "# how many samples per batch to load\n",
        "batch_size = 64\n",
        "\n",
        "# convert data to torch.FloatTensor\n",
        "transform = transforms.ToTensor()\n",
        "\n",
        "# get the training datasets\n",
        "train_data = datasets.MNIST(root='data', train=True,\n",
        "                                   download=True, transform=transform)\n",
        "\n",
        "# prepare data loader\n",
        "train_loader = torch.utils.data.DataLoader(train_data, batch_size=batch_size,\n",
        "                                           num_workers=num_workers)"
      ],
      "metadata": {
        "id": "KkRMWRaPDL1k"
      },
      "execution_count": 2,
      "outputs": []
    },
    {
      "cell_type": "code",
      "source": [
        "# obtain one batch of training images\n",
        "dataiter = iter(train_loader)\n",
        "images, labels = dataiter.next()\n",
        "images = images.numpy()\n",
        "\n",
        "# get one image from the batch\n",
        "img = np.squeeze(images[0])\n",
        "\n",
        "fig = plt.figure(figsize = (3,3)) \n",
        "ax = fig.add_subplot(111)\n",
        "ax.imshow(img, cmap='gray')"
      ],
      "metadata": {
        "colab": {
          "base_uri": "https://localhost:8080/",
          "height": 229
        },
        "id": "By5GaYy8DXQn",
        "outputId": "d441ffc3-0dac-459a-e3aa-b5567f48f011"
      },
      "execution_count": 3,
      "outputs": [
        {
          "output_type": "execute_result",
          "data": {
            "text/plain": [
              "<matplotlib.image.AxesImage at 0x7fd9e742df50>"
            ]
          },
          "metadata": {},
          "execution_count": 3
        },
        {
          "output_type": "display_data",
          "data": {
            "text/plain": [
              "<Figure size 216x216 with 1 Axes>"
            ],
            "image/png": "[encoded data removed]"
          },
          "metadata": {
            "needs_background": "light"
          }
        }
      ]
    },
    {
      "cell_type": "code",
      "source": [
        "import torch.nn as nn\n",
        "import torch.nn.functional as F\n",
        "\n",
        "class Discriminator(nn.Module):\n",
        "\n",
        "    def __init__(self, input_size, hidden_dim, output_size):\n",
        "        super(Discriminator, self).__init__()\n",
        "        \n",
        "        # define hidden linear layers\n",
        "        self.fc1 = nn.Linear(input_size, hidden_dim*4)\n",
        "        self.fc2 = nn.Linear(hidden_dim*4, hidden_dim*2)\n",
        "        self.fc3 = nn.Linear(hidden_dim*2, hidden_dim)\n",
        "        \n",
        "        # final fully-connected layer\n",
        "        self.fc4 = nn.Linear(hidden_dim, output_size)\n",
        "        \n",
        "        # dropout layer \n",
        "        self.dropout = nn.Dropout(0.3)\n",
        "        \n",
        "        \n",
        "    def forward(self, x):\n",
        "        # flatten image\n",
        "        x = x.view(-1, 28*28)\n",
        "        # all hidden layers\n",
        "        x = F.leaky_relu(self.fc1(x), 0.2) # (input, negative_slope=0.2)\n",
        "        x = self.dropout(x)\n",
        "        x = F.leaky_relu(self.fc2(x), 0.2)\n",
        "        x = self.dropout(x)\n",
        "        x = F.leaky_relu(self.fc3(x), 0.2)\n",
        "        x = self.dropout(x)\n",
        "        # final layer\n",
        "        out = self.fc4(x)\n",
        "\n",
        "        return out"
      ],
      "metadata": {
        "id": "TNk4eZ45DaFP"
      },
      "execution_count": 4,
      "outputs": []
    },
    {
      "cell_type": "code",
      "source": [
        "class Generator(nn.Module):\n",
        "\n",
        "    def __init__(self, input_size, hidden_dim, output_size):\n",
        "        super(Generator, self).__init__()\n",
        "        \n",
        "        # define hidden linear layers\n",
        "        self.fc1 = nn.Linear(input_size, hidden_dim)\n",
        "        self.fc2 = nn.Linear(hidden_dim, hidden_dim*2)\n",
        "        self.fc3 = nn.Linear(hidden_dim*2, hidden_dim*4)\n",
        "        \n",
        "        # final fully-connected layer\n",
        "        self.fc4 = nn.Linear(hidden_dim*4, output_size)\n",
        "        \n",
        "        # dropout layer \n",
        "        self.dropout = nn.Dropout(0.3)\n",
        "\n",
        "    def forward(self, x):\n",
        "        # all hidden layers\n",
        "        x = F.leaky_relu(self.fc1(x), 0.2) # (input, negative_slope=0.2)\n",
        "        x = self.dropout(x)\n",
        "        x = F.leaky_relu(self.fc2(x), 0.2)\n",
        "        x = self.dropout(x)\n",
        "        x = F.leaky_relu(self.fc3(x), 0.2)\n",
        "        x = self.dropout(x)\n",
        "        # final layer with tanh applied\n",
        "        out = F.tanh(self.fc4(x))\n",
        "\n",
        "        return out              "
      ],
      "metadata": {
        "id": "nInTAgPYDNdE"
      },
      "execution_count": 5,
      "outputs": []
    },
    {
      "cell_type": "code",
      "source": [
        "# Discriminator hyperparams\n",
        "\n",
        "# Size of input image to discriminator (28*28)\n",
        "input_size = 784\n",
        "# Size of discriminator output (real or fake)\n",
        "d_output_size = 1\n",
        "# Size of last hidden layer in the discriminator\n",
        "d_hidden_size = 32\n",
        "\n",
        "# Generator hyperparams\n",
        "\n",
        "# Size of latent vector to give to generator\n",
        "z_size = 100\n",
        "# Size of discriminator output (generated image)\n",
        "g_output_size = 784\n",
        "# Size of first hidden layer in the generator\n",
        "g_hidden_size = 32"
      ],
      "metadata": {
        "id": "BwZKulGZ_pFf"
      },
      "execution_count": 6,
      "outputs": []
    },
    {
      "cell_type": "code",
      "source": [
        "# instantiate discriminator and generator\n",
        "D = Discriminator(input_size, d_hidden_size, d_output_size)\n",
        "G = Generator(z_size, g_hidden_size, g_output_size)\n",
        "\n",
        "# check that they are as you expect\n",
        "print(D)\n",
        "print()\n",
        "print(G)"
      ],
      "metadata": {
        "colab": {
          "base_uri": "https://localhost:8080/"
        },
        "id": "uEOHvjEM_krG",
        "outputId": "cd104a6b-52c3-4ec9-8149-7433b9c88162"
      },
      "execution_count": 7,
      "outputs": [
        {
          "output_type": "stream",
          "name": "stdout",
          "text": [
            "Discriminator(\n",
            "  (fc1): Linear(in_features=784, out_features=128, bias=True)\n",
            "  (fc2): Linear(in_features=128, out_features=64, bias=True)\n",
            "  (fc3): Linear(in_features=64, out_features=32, bias=True)\n",
            "  (fc4): Linear(in_features=32, out_features=1, bias=True)\n",
            "  (dropout): Dropout(p=0.3, inplace=False)\n",
            ")\n",
            "\n",
            "Generator(\n",
            "  (fc1): Linear(in_features=100, out_features=32, bias=True)\n",
            "  (fc2): Linear(in_features=32, out_features=64, bias=True)\n",
            "  (fc3): Linear(in_features=64, out_features=128, bias=True)\n",
            "  (fc4): Linear(in_features=128, out_features=784, bias=True)\n",
            "  (dropout): Dropout(p=0.3, inplace=False)\n",
            ")\n"
          ]
        }
      ]
    },
    {
      "cell_type": "code",
      "source": [
        "# Calculate losses\n",
        "def real_loss(D_out, smooth=False):\n",
        "    batch_size = D_out.size(0)\n",
        "    # label smoothing\n",
        "    if smooth:\n",
        "        # smooth, real labels = 0.9\n",
        "        labels = torch.ones(batch_size)*0.9\n",
        "    else:\n",
        "        labels = torch.ones(batch_size) # real labels = 1\n",
        "        \n",
        "    # numerically stable loss\n",
        "    criterion = nn.BCEWithLogitsLoss()\n",
        "    # calculate loss\n",
        "    loss = criterion(D_out.squeeze(), labels)\n",
        "    return loss\n",
        "\n",
        "def fake_loss(D_out):\n",
        "    batch_size = D_out.size(0)\n",
        "    labels = torch.zeros(batch_size) # fake labels = 0\n",
        "    criterion = nn.BCEWithLogitsLoss()\n",
        "    # calculate loss\n",
        "    loss = criterion(D_out.squeeze(), labels)\n",
        "    return loss"
      ],
      "metadata": {
        "id": "aZyapkaV_DDD"
      },
      "execution_count": 8,
      "outputs": []
    },
    {
      "cell_type": "code",
      "source": [
        "import torch.optim as optim\n",
        "\n",
        "# Optimizers\n",
        "lr = 0.002\n",
        "\n",
        "# Create optimizers for the discriminator and generator\n",
        "d_optimizer = optim.Adam(D.parameters(), lr) # D is an instance of Discriminator Class\n",
        "g_optimizer = optim.Adam(G.parameters(), lr) # G is an instance of Generator Class"
      ],
      "metadata": {
        "id": "kHQyunWg-8LP"
      },
      "execution_count": 9,
      "outputs": []
    },
    {
      "cell_type": "code",
      "source": [
        "import pickle as pkl\n",
        "\n",
        "# training hyperparams\n",
        "num_epochs = 100\n",
        "\n",
        "# keep track of loss and generated, \"fake\" samples\n",
        "samples = []\n",
        "losses = []\n",
        "\n",
        "print_every = 400\n",
        "\n",
        "# Get some fixed data for sampling. These are images that are held\n",
        "# constant throughout training, and allow us to inspect the model's performance\n",
        "sample_size=16\n",
        "fixed_z = np.random.uniform(-1, 1, size=(sample_size, z_size))\n",
        "fixed_z = torch.from_numpy(fixed_z).float()\n",
        "\n",
        "# train the network\n",
        "D.train()\n",
        "G.train()"
      ],
      "metadata": {
        "colab": {
          "base_uri": "https://localhost:8080/"
        },
        "id": "iF4Qn6Xf-62v",
        "outputId": "bd980a5c-6e87-4f12-b571-60a6375ecc69"
      },
      "execution_count": 10,
      "outputs": [
        {
          "output_type": "execute_result",
          "data": {
            "text/plain": [
              "Generator(\n",
              "  (fc1): Linear(in_features=100, out_features=32, bias=True)\n",
              "  (fc2): Linear(in_features=32, out_features=64, bias=True)\n",
              "  (fc3): Linear(in_features=64, out_features=128, bias=True)\n",
              "  (fc4): Linear(in_features=128, out_features=784, bias=True)\n",
              "  (dropout): Dropout(p=0.3, inplace=False)\n",
              ")"
            ]
          },
          "metadata": {},
          "execution_count": 10
        }
      ]
    },
    {
      "cell_type": "code",
      "source": [
        "# for batch_i, (real_images, _) in enumerate(train_loader):\n",
        "#   print(real_images.size())\n",
        "#   print(real_images.size(0)) \n",
        "#   print(real_images.size(1))\n",
        "#   print(real_images.size(2))\n",
        "#   print(real_images.size(3))\n",
        "#   print(real_images)\n",
        "#   real_images = real_images * 2 - 1\n",
        "#   print(real_images.size())\n",
        "#   print(real_images.size(0)) \n",
        "#   print(real_images.size(1))\n",
        "#   print(real_images.size(2))\n",
        "#   print(real_images.size(3))\n",
        "#   print(real_images)\n",
        "#   break"
      ],
      "metadata": {
        "id": "vDDoLXYpJCea"
      },
      "execution_count": 11,
      "outputs": []
    },
    {
      "cell_type": "code",
      "source": [
        "for epoch in range(num_epochs):\n",
        "    for batch_i, (real_images, _) in enumerate(train_loader):\n",
        "        batch_size = real_images.size(0)\n",
        "        \n",
        "        ## Important rescaling step ## \n",
        "        real_images = real_images * 2 - 1  # rescale input images from [0,1) to [-1, 1)\n",
        "        \n",
        "        # ============================================\n",
        "        #            TRAIN THE DISCRIMINATOR\n",
        "        # ============================================\n",
        "        \n",
        "        d_optimizer.zero_grad()\n",
        "        \n",
        "        # 1. Train with real images\n",
        "\n",
        "        # Compute the discriminator losses on real images \n",
        "        # smooth the real labels\n",
        "        D_real = D(real_images)\n",
        "        d_real_loss = real_loss(D_real, smooth=True)\n",
        "        \n",
        "        # 2. Train with fake images\n",
        "        \n",
        "        # Generate fake images\n",
        "        # gradients don't have to flow during this step\n",
        "        with torch.no_grad():\n",
        "            z = np.random.uniform(-1, 1, size=(batch_size, z_size))\n",
        "            z = torch.from_numpy(z).float()\n",
        "            fake_images = G(z)\n",
        "        \n",
        "        # Compute the discriminator losses on fake images        \n",
        "        D_fake = D(fake_images)\n",
        "        d_fake_loss = fake_loss(D_fake)\n",
        "        \n",
        "        # add up loss and perform backprop\n",
        "        d_loss = d_real_loss + d_fake_loss\n",
        "        d_loss.backward()\n",
        "        d_optimizer.step()\n",
        "        \n",
        "        \n",
        "        # =========================================\n",
        "        #            TRAIN THE GENERATOR\n",
        "        # =========================================\n",
        "        g_optimizer.zero_grad()\n",
        "        \n",
        "        # 1. Train with fake images and flipped labels\n",
        "        \n",
        "        # Generate fake images\n",
        "        z = np.random.uniform(-1, 1, size=(batch_size, z_size))\n",
        "        z = torch.from_numpy(z).float()\n",
        "        fake_images = G(z)\n",
        "        \n",
        "        # Compute the discriminator losses on fake images \n",
        "        # using flipped labels!\n",
        "        D_fake = D(fake_images)\n",
        "        g_loss = real_loss(D_fake) # use real loss to flip labels\n",
        "        \n",
        "        # perform backprop\n",
        "        g_loss.backward()\n",
        "        g_optimizer.step()\n",
        "\n",
        "        # Print some loss stats\n",
        "        if batch_i % print_every == 0:\n",
        "            # print discriminator and generator loss\n",
        "            print('Epoch [{:5d}/{:5d}] | d_loss: {:6.4f} | g_loss: {:6.4f}'.format(\n",
        "                    epoch+1, num_epochs, d_loss.item(), g_loss.item()))\n",
        "\n",
        "    \n",
        "    ## AFTER EACH EPOCH##\n",
        "    # append discriminator loss and generator loss\n",
        "    losses.append((d_loss.item(), g_loss.item()))\n",
        "    \n",
        "    # generate and save sample, fake images\n",
        "    G.eval() # eval mode for generating samples\n",
        "    samples_z = G(fixed_z)\n",
        "    samples.append(samples_z)\n",
        "    G.train() # back to train mode"
      ],
      "metadata": {
        "colab": {
          "base_uri": "https://localhost:8080/"
        },
        "id": "Bb97MHphH4Sq",
        "outputId": "b6def855-812d-4431-d809-3a458ef6db16"
      },
      "execution_count": null,
      "outputs": [
        {
          "output_type": "stream",
          "name": "stderr",
          "text": [
            "/usr/local/lib/python3.7/dist-packages/torch/nn/functional.py:1949: UserWarning: nn.functional.tanh is deprecated. Use torch.tanh instead.\n",
            "  warnings.warn(\"nn.functional.tanh is deprecated. Use torch.tanh instead.\")\n"
          ]
        },
        {
          "output_type": "stream",
          "name": "stdout",
          "text": [
            "Epoch [    1/  100] | d_loss: 1.4078 | g_loss: 0.7307\n",
            "Epoch [    1/  100] | d_loss: 1.6900 | g_loss: 0.4160\n",
            "Epoch [    1/  100] | d_loss: 1.3691 | g_loss: 0.7539\n",
            "Epoch [    2/  100] | d_loss: 1.3118 | g_loss: 0.8142\n",
            "Epoch [    2/  100] | d_loss: 1.3002 | g_loss: 0.6018\n",
            "Epoch [    2/  100] | d_loss: 1.2696 | g_loss: 1.7416\n",
            "Epoch [    3/  100] | d_loss: 1.0335 | g_loss: 1.9787\n",
            "Epoch [    3/  100] | d_loss: 1.0346 | g_loss: 1.4110\n",
            "Epoch [    3/  100] | d_loss: 1.3001 | g_loss: 1.4417\n",
            "Epoch [    4/  100] | d_loss: 0.9804 | g_loss: 2.4739\n",
            "Epoch [    4/  100] | d_loss: 1.1462 | g_loss: 0.9569\n",
            "Epoch [    4/  100] | d_loss: 1.7187 | g_loss: 0.8270\n",
            "Epoch [    5/  100] | d_loss: 1.4288 | g_loss: 1.3239\n",
            "Epoch [    5/  100] | d_loss: 1.0626 | g_loss: 1.2998\n",
            "Epoch [    5/  100] | d_loss: 1.1068 | g_loss: 1.2111\n",
            "Epoch [    6/  100] | d_loss: 1.7680 | g_loss: 1.9203\n",
            "Epoch [    6/  100] | d_loss: 0.9635 | g_loss: 2.6589\n",
            "Epoch [    6/  100] | d_loss: 0.5071 | g_loss: 18.7168\n",
            "Epoch [    7/  100] | d_loss: 0.4128 | g_loss: 22.5953\n",
            "Epoch [    7/  100] | d_loss: 0.3550 | g_loss: 26.5626\n",
            "Epoch [    7/  100] | d_loss: 0.3407 | g_loss: 33.1258\n",
            "Epoch [    8/  100] | d_loss: 0.3382 | g_loss: 20.3081\n",
            "Epoch [    8/  100] | d_loss: 0.3565 | g_loss: 15.6744\n",
            "Epoch [    8/  100] | d_loss: 0.3341 | g_loss: 22.3367\n",
            "Epoch [    9/  100] | d_loss: 0.3366 | g_loss: 22.5484\n",
            "Epoch [    9/  100] | d_loss: 0.3321 | g_loss: 27.5293\n",
            "Epoch [    9/  100] | d_loss: 0.3326 | g_loss: 18.2266\n",
            "Epoch [   10/  100] | d_loss: 0.3338 | g_loss: 25.7333\n",
            "Epoch [   10/  100] | d_loss: 0.3330 | g_loss: 20.4289\n",
            "Epoch [   10/  100] | d_loss: 0.3303 | g_loss: 25.7387\n",
            "Epoch [   11/  100] | d_loss: 0.3379 | g_loss: 31.5638\n",
            "Epoch [   11/  100] | d_loss: 0.3291 | g_loss: 23.4125\n",
            "Epoch [   11/  100] | d_loss: 0.3288 | g_loss: 20.5807\n",
            "Epoch [   12/  100] | d_loss: 0.3296 | g_loss: 34.3969\n",
            "Epoch [   12/  100] | d_loss: 0.3269 | g_loss: 16.4759\n",
            "Epoch [   12/  100] | d_loss: 0.3291 | g_loss: 25.2757\n",
            "Epoch [   13/  100] | d_loss: 0.3419 | g_loss: 15.7874\n",
            "Epoch [   13/  100] | d_loss: 0.3270 | g_loss: 25.8243\n",
            "Epoch [   13/  100] | d_loss: 0.3336 | g_loss: 17.3404\n",
            "Epoch [   14/  100] | d_loss: 0.3440 | g_loss: 11.7379\n",
            "Epoch [   14/  100] | d_loss: 0.3299 | g_loss: 10.7886\n",
            "Epoch [   14/  100] | d_loss: 0.3328 | g_loss: 18.3017\n",
            "Epoch [   15/  100] | d_loss: 0.3288 | g_loss: 18.9417\n",
            "Epoch [   15/  100] | d_loss: 0.3297 | g_loss: 12.4452\n",
            "Epoch [   15/  100] | d_loss: 0.3346 | g_loss: 12.1724\n",
            "Epoch [   16/  100] | d_loss: 0.3584 | g_loss: 20.6571\n",
            "Epoch [   16/  100] | d_loss: 0.3331 | g_loss: 15.1585\n",
            "Epoch [   16/  100] | d_loss: 0.4029 | g_loss: 12.1836\n",
            "Epoch [   17/  100] | d_loss: 0.3509 | g_loss: 15.9289\n",
            "Epoch [   17/  100] | d_loss: 0.3716 | g_loss: 24.9942\n",
            "Epoch [   17/  100] | d_loss: 0.3554 | g_loss: 12.4039\n",
            "Epoch [   18/  100] | d_loss: 0.4127 | g_loss: 14.6486\n",
            "Epoch [   18/  100] | d_loss: 0.4066 | g_loss: 9.2952\n",
            "Epoch [   18/  100] | d_loss: 0.3379 | g_loss: 18.4020\n",
            "Epoch [   19/  100] | d_loss: 0.3373 | g_loss: 12.9153\n",
            "Epoch [   19/  100] | d_loss: 0.3324 | g_loss: 15.1659\n",
            "Epoch [   19/  100] | d_loss: 0.3712 | g_loss: 13.5347\n",
            "Epoch [   20/  100] | d_loss: 0.3647 | g_loss: 15.9103\n",
            "Epoch [   20/  100] | d_loss: 0.3392 | g_loss: 10.5051\n",
            "Epoch [   20/  100] | d_loss: 0.3415 | g_loss: 17.1104\n",
            "Epoch [   21/  100] | d_loss: 0.3412 | g_loss: 16.6991\n",
            "Epoch [   21/  100] | d_loss: 0.3347 | g_loss: 13.4595\n",
            "Epoch [   21/  100] | d_loss: 0.3306 | g_loss: 12.6398\n",
            "Epoch [   22/  100] | d_loss: 0.3369 | g_loss: 15.6682\n",
            "Epoch [   22/  100] | d_loss: 0.3643 | g_loss: 11.0427\n",
            "Epoch [   22/  100] | d_loss: 0.3371 | g_loss: 25.5224\n",
            "Epoch [   23/  100] | d_loss: 0.4234 | g_loss: 11.4989\n",
            "Epoch [   23/  100] | d_loss: 0.3504 | g_loss: 12.9880\n",
            "Epoch [   23/  100] | d_loss: 0.3360 | g_loss: 17.5034\n",
            "Epoch [   24/  100] | d_loss: 0.3589 | g_loss: 17.6472\n",
            "Epoch [   24/  100] | d_loss: 0.3388 | g_loss: 16.8719\n",
            "Epoch [   24/  100] | d_loss: 0.3552 | g_loss: 15.5002\n",
            "Epoch [   25/  100] | d_loss: 0.3554 | g_loss: 13.3352\n",
            "Epoch [   25/  100] | d_loss: 0.3749 | g_loss: 13.1442\n",
            "Epoch [   25/  100] | d_loss: 0.3351 | g_loss: 16.4788\n",
            "Epoch [   26/  100] | d_loss: 0.4038 | g_loss: 14.3643\n",
            "Epoch [   26/  100] | d_loss: 0.3652 | g_loss: 12.5206\n",
            "Epoch [   26/  100] | d_loss: 0.3374 | g_loss: 10.0403\n",
            "Epoch [   27/  100] | d_loss: 0.3633 | g_loss: 10.9352\n",
            "Epoch [   27/  100] | d_loss: 0.3877 | g_loss: 13.5240\n",
            "Epoch [   27/  100] | d_loss: 0.3373 | g_loss: 14.5977\n",
            "Epoch [   28/  100] | d_loss: 0.3381 | g_loss: 15.8917\n",
            "Epoch [   28/  100] | d_loss: 0.3558 | g_loss: 12.5510\n",
            "Epoch [   28/  100] | d_loss: 0.3394 | g_loss: 12.4437\n",
            "Epoch [   29/  100] | d_loss: 0.3397 | g_loss: 12.6164\n",
            "Epoch [   29/  100] | d_loss: 0.3442 | g_loss: 10.6345\n",
            "Epoch [   29/  100] | d_loss: 0.3555 | g_loss: 17.7133\n",
            "Epoch [   30/  100] | d_loss: 0.4562 | g_loss: 12.8639\n",
            "Epoch [   30/  100] | d_loss: 0.4098 | g_loss: 10.9473\n",
            "Epoch [   30/  100] | d_loss: 0.3928 | g_loss: 12.3995\n",
            "Epoch [   31/  100] | d_loss: 0.3427 | g_loss: 14.8130\n",
            "Epoch [   31/  100] | d_loss: 0.4560 | g_loss: 14.4541\n",
            "Epoch [   31/  100] | d_loss: 0.3545 | g_loss: 12.5035\n",
            "Epoch [   32/  100] | d_loss: 0.4115 | g_loss: 12.4732\n",
            "Epoch [   32/  100] | d_loss: 0.3899 | g_loss: 11.7473\n",
            "Epoch [   32/  100] | d_loss: 0.3914 | g_loss: 15.2623\n",
            "Epoch [   33/  100] | d_loss: 0.3765 | g_loss: 12.0323\n",
            "Epoch [   33/  100] | d_loss: 0.4208 | g_loss: 10.9987\n",
            "Epoch [   33/  100] | d_loss: 0.3594 | g_loss: 14.2950\n",
            "Epoch [   34/  100] | d_loss: 0.3457 | g_loss: 13.9109\n",
            "Epoch [   34/  100] | d_loss: 0.3913 | g_loss: 9.7791\n",
            "Epoch [   34/  100] | d_loss: 0.4188 | g_loss: 11.0695\n",
            "Epoch [   35/  100] | d_loss: 0.3745 | g_loss: 10.8711\n",
            "Epoch [   35/  100] | d_loss: 0.3788 | g_loss: 10.4605\n",
            "Epoch [   35/  100] | d_loss: 0.3628 | g_loss: 10.9274\n",
            "Epoch [   36/  100] | d_loss: 0.3600 | g_loss: 10.3662\n",
            "Epoch [   36/  100] | d_loss: 0.3803 | g_loss: 11.1592\n",
            "Epoch [   36/  100] | d_loss: 0.3599 | g_loss: 14.4281\n",
            "Epoch [   37/  100] | d_loss: 0.3516 | g_loss: 10.4989\n",
            "Epoch [   37/  100] | d_loss: 0.3468 | g_loss: 14.8640\n",
            "Epoch [   37/  100] | d_loss: 0.3490 | g_loss: 15.1011\n",
            "Epoch [   38/  100] | d_loss: 0.3652 | g_loss: 12.8006\n",
            "Epoch [   38/  100] | d_loss: 0.4028 | g_loss: 12.5394\n",
            "Epoch [   38/  100] | d_loss: 0.3618 | g_loss: 13.9114\n",
            "Epoch [   39/  100] | d_loss: 0.3618 | g_loss: 14.4957\n",
            "Epoch [   39/  100] | d_loss: 0.3532 | g_loss: 12.6469\n",
            "Epoch [   39/  100] | d_loss: 0.3599 | g_loss: 15.0322\n",
            "Epoch [   40/  100] | d_loss: 0.3642 | g_loss: 11.2307\n",
            "Epoch [   40/  100] | d_loss: 0.4528 | g_loss: 4.8391\n",
            "Epoch [   40/  100] | d_loss: 0.3719 | g_loss: 14.0704\n",
            "Epoch [   41/  100] | d_loss: 0.3607 | g_loss: 11.1552\n",
            "Epoch [   41/  100] | d_loss: 0.3547 | g_loss: 11.8695\n",
            "Epoch [   41/  100] | d_loss: 0.3987 | g_loss: 11.6066\n",
            "Epoch [   42/  100] | d_loss: 0.3921 | g_loss: 12.8415\n",
            "Epoch [   42/  100] | d_loss: 0.3583 | g_loss: 12.2703\n",
            "Epoch [   42/  100] | d_loss: 0.3994 | g_loss: 11.4546\n",
            "Epoch [   43/  100] | d_loss: 0.3568 | g_loss: 14.9187\n",
            "Epoch [   43/  100] | d_loss: 0.3877 | g_loss: 9.0264\n",
            "Epoch [   43/  100] | d_loss: 0.3854 | g_loss: 13.1874\n",
            "Epoch [   44/  100] | d_loss: 0.3901 | g_loss: 12.7526\n",
            "Epoch [   44/  100] | d_loss: 0.3671 | g_loss: 11.7604\n",
            "Epoch [   44/  100] | d_loss: 0.3810 | g_loss: 11.7142\n",
            "Epoch [   45/  100] | d_loss: 0.3491 | g_loss: 12.7853\n",
            "Epoch [   45/  100] | d_loss: 0.3426 | g_loss: 10.1792\n",
            "Epoch [   45/  100] | d_loss: 0.3683 | g_loss: 13.4072\n",
            "Epoch [   46/  100] | d_loss: 0.3776 | g_loss: 13.0180\n",
            "Epoch [   46/  100] | d_loss: 0.3495 | g_loss: 9.2177\n",
            "Epoch [   46/  100] | d_loss: 0.3410 | g_loss: 11.6924\n",
            "Epoch [   47/  100] | d_loss: 0.4176 | g_loss: 13.4993\n",
            "Epoch [   47/  100] | d_loss: 0.3377 | g_loss: 9.7485\n",
            "Epoch [   47/  100] | d_loss: 0.3375 | g_loss: 12.6304\n",
            "Epoch [   48/  100] | d_loss: 0.3817 | g_loss: 10.4207\n",
            "Epoch [   48/  100] | d_loss: 0.3397 | g_loss: 10.8371\n",
            "Epoch [   48/  100] | d_loss: 0.3461 | g_loss: 14.0512\n",
            "Epoch [   49/  100] | d_loss: 0.3754 | g_loss: 15.8693\n",
            "Epoch [   49/  100] | d_loss: 0.3434 | g_loss: 13.3109\n",
            "Epoch [   49/  100] | d_loss: 0.3451 | g_loss: 13.0941\n",
            "Epoch [   50/  100] | d_loss: 0.3505 | g_loss: 10.0947\n",
            "Epoch [   50/  100] | d_loss: 0.3428 | g_loss: 11.2087\n",
            "Epoch [   50/  100] | d_loss: 0.3511 | g_loss: 13.7760\n",
            "Epoch [   51/  100] | d_loss: 0.3801 | g_loss: 9.9387\n",
            "Epoch [   51/  100] | d_loss: 0.3617 | g_loss: 12.2210\n",
            "Epoch [   51/  100] | d_loss: 0.3493 | g_loss: 9.1852\n",
            "Epoch [   52/  100] | d_loss: 0.3412 | g_loss: 16.6995\n",
            "Epoch [   52/  100] | d_loss: 0.3945 | g_loss: 11.7092\n",
            "Epoch [   52/  100] | d_loss: 0.3790 | g_loss: 15.7424\n",
            "Epoch [   53/  100] | d_loss: 0.3981 | g_loss: 9.6343\n",
            "Epoch [   53/  100] | d_loss: 0.3558 | g_loss: 12.6265\n",
            "Epoch [   53/  100] | d_loss: 0.3845 | g_loss: 15.4295\n",
            "Epoch [   54/  100] | d_loss: 0.3834 | g_loss: 11.1886\n",
            "Epoch [   54/  100] | d_loss: 0.3641 | g_loss: 9.5781\n",
            "Epoch [   54/  100] | d_loss: 0.3514 | g_loss: 15.0732\n",
            "Epoch [   55/  100] | d_loss: 0.3414 | g_loss: 12.3947\n",
            "Epoch [   55/  100] | d_loss: 0.3445 | g_loss: 10.7485\n",
            "Epoch [   55/  100] | d_loss: 0.3451 | g_loss: 13.6411\n",
            "Epoch [   56/  100] | d_loss: 0.4416 | g_loss: 14.6015\n",
            "Epoch [   56/  100] | d_loss: 0.3706 | g_loss: 8.9524\n",
            "Epoch [   56/  100] | d_loss: 0.3568 | g_loss: 8.8364\n",
            "Epoch [   57/  100] | d_loss: 0.5350 | g_loss: 15.2142\n",
            "Epoch [   57/  100] | d_loss: 0.3650 | g_loss: 13.1437\n",
            "Epoch [   57/  100] | d_loss: 0.3566 | g_loss: 12.5350\n",
            "Epoch [   58/  100] | d_loss: 0.3616 | g_loss: 10.8224\n",
            "Epoch [   58/  100] | d_loss: 0.3546 | g_loss: 11.3956\n",
            "Epoch [   58/  100] | d_loss: 0.3585 | g_loss: 15.0689\n",
            "Epoch [   59/  100] | d_loss: 0.3860 | g_loss: 13.3229\n",
            "Epoch [   59/  100] | d_loss: 0.3785 | g_loss: 9.9406\n",
            "Epoch [   59/  100] | d_loss: 0.3783 | g_loss: 10.6343\n",
            "Epoch [   60/  100] | d_loss: 0.3795 | g_loss: 13.7794\n",
            "Epoch [   60/  100] | d_loss: 0.3386 | g_loss: 8.1611\n",
            "Epoch [   60/  100] | d_loss: 0.3404 | g_loss: 12.7551\n",
            "Epoch [   61/  100] | d_loss: 0.3678 | g_loss: 12.7104\n",
            "Epoch [   61/  100] | d_loss: 0.3890 | g_loss: 12.0236\n",
            "Epoch [   61/  100] | d_loss: 0.4073 | g_loss: 14.0934\n",
            "Epoch [   62/  100] | d_loss: 0.3394 | g_loss: 15.3046\n",
            "Epoch [   62/  100] | d_loss: 0.3400 | g_loss: 12.0682\n",
            "Epoch [   62/  100] | d_loss: 0.3676 | g_loss: 11.6636\n",
            "Epoch [   63/  100] | d_loss: 0.5199 | g_loss: 13.7067\n",
            "Epoch [   63/  100] | d_loss: 0.3335 | g_loss: 13.6181\n",
            "Epoch [   63/  100] | d_loss: 0.4045 | g_loss: 12.4694\n",
            "Epoch [   64/  100] | d_loss: 0.3559 | g_loss: 10.4156\n",
            "Epoch [   64/  100] | d_loss: 0.3364 | g_loss: 11.2466\n",
            "Epoch [   64/  100] | d_loss: 0.3544 | g_loss: 13.2115\n",
            "Epoch [   65/  100] | d_loss: 0.3343 | g_loss: 11.1021\n",
            "Epoch [   65/  100] | d_loss: 0.3685 | g_loss: 14.9574\n",
            "Epoch [   65/  100] | d_loss: 0.3443 | g_loss: 11.3366\n",
            "Epoch [   66/  100] | d_loss: 0.3887 | g_loss: 14.3161\n",
            "Epoch [   66/  100] | d_loss: 0.3711 | g_loss: 11.2897\n",
            "Epoch [   66/  100] | d_loss: 0.3813 | g_loss: 12.6302\n",
            "Epoch [   67/  100] | d_loss: 0.3447 | g_loss: 13.6345\n",
            "Epoch [   67/  100] | d_loss: 0.3464 | g_loss: 12.9362\n",
            "Epoch [   67/  100] | d_loss: 0.3593 | g_loss: 15.2462\n",
            "Epoch [   68/  100] | d_loss: 0.4065 | g_loss: 15.5571\n",
            "Epoch [   68/  100] | d_loss: 0.3587 | g_loss: 9.6349\n",
            "Epoch [   68/  100] | d_loss: 0.3832 | g_loss: 8.9438\n",
            "Epoch [   69/  100] | d_loss: 0.3494 | g_loss: 12.1786\n",
            "Epoch [   69/  100] | d_loss: 0.3643 | g_loss: 10.4940\n",
            "Epoch [   69/  100] | d_loss: 0.3363 | g_loss: 13.0054\n",
            "Epoch [   70/  100] | d_loss: 0.3392 | g_loss: 12.1496\n",
            "Epoch [   70/  100] | d_loss: 0.3542 | g_loss: 12.1959\n",
            "Epoch [   70/  100] | d_loss: 0.3547 | g_loss: 15.2269\n",
            "Epoch [   71/  100] | d_loss: 0.3376 | g_loss: 10.9161\n",
            "Epoch [   71/  100] | d_loss: 0.3463 | g_loss: 13.8339\n",
            "Epoch [   71/  100] | d_loss: 0.3535 | g_loss: 10.7728\n",
            "Epoch [   72/  100] | d_loss: 0.3658 | g_loss: 13.0475\n",
            "Epoch [   72/  100] | d_loss: 0.3746 | g_loss: 17.7617\n",
            "Epoch [   72/  100] | d_loss: 0.3931 | g_loss: 12.1708\n",
            "Epoch [   73/  100] | d_loss: 0.3632 | g_loss: 11.6785\n",
            "Epoch [   73/  100] | d_loss: 0.3552 | g_loss: 15.1528\n",
            "Epoch [   73/  100] | d_loss: 0.3772 | g_loss: 11.1872\n",
            "Epoch [   74/  100] | d_loss: 0.3641 | g_loss: 13.3392\n",
            "Epoch [   74/  100] | d_loss: 0.3446 | g_loss: 14.6435\n",
            "Epoch [   74/  100] | d_loss: 0.3461 | g_loss: 11.9645\n",
            "Epoch [   75/  100] | d_loss: 0.3665 | g_loss: 8.6611\n",
            "Epoch [   75/  100] | d_loss: 0.3526 | g_loss: 11.1569\n",
            "Epoch [   75/  100] | d_loss: 0.3340 | g_loss: 17.1201\n",
            "Epoch [   76/  100] | d_loss: 0.4336 | g_loss: 15.0856\n",
            "Epoch [   76/  100] | d_loss: 0.3674 | g_loss: 14.0658\n",
            "Epoch [   76/  100] | d_loss: 0.3592 | g_loss: 18.1032\n",
            "Epoch [   77/  100] | d_loss: 0.4309 | g_loss: 13.5396\n",
            "Epoch [   77/  100] | d_loss: 0.3681 | g_loss: 10.3321\n",
            "Epoch [   77/  100] | d_loss: 0.3726 | g_loss: 13.5771\n",
            "Epoch [   78/  100] | d_loss: 0.3766 | g_loss: 19.3370\n",
            "Epoch [   78/  100] | d_loss: 0.3425 | g_loss: 13.1707\n",
            "Epoch [   78/  100] | d_loss: 0.3868 | g_loss: 15.5784\n",
            "Epoch [   79/  100] | d_loss: 0.3703 | g_loss: 14.4356\n",
            "Epoch [   79/  100] | d_loss: 0.3815 | g_loss: 11.1347\n",
            "Epoch [   79/  100] | d_loss: 0.3611 | g_loss: 13.3958\n",
            "Epoch [   80/  100] | d_loss: 0.4669 | g_loss: 15.3232\n",
            "Epoch [   80/  100] | d_loss: 0.3694 | g_loss: 11.9619\n",
            "Epoch [   80/  100] | d_loss: 0.3448 | g_loss: 12.6134\n",
            "Epoch [   81/  100] | d_loss: 0.3641 | g_loss: 14.3793\n",
            "Epoch [   81/  100] | d_loss: 0.3381 | g_loss: 12.2517\n",
            "Epoch [   81/  100] | d_loss: 0.3995 | g_loss: 14.4067\n",
            "Epoch [   82/  100] | d_loss: 0.3639 | g_loss: 13.6980\n",
            "Epoch [   82/  100] | d_loss: 0.3635 | g_loss: 14.4348\n",
            "Epoch [   82/  100] | d_loss: 0.3702 | g_loss: 12.9676\n",
            "Epoch [   83/  100] | d_loss: 0.3658 | g_loss: 18.3330\n",
            "Epoch [   83/  100] | d_loss: 0.3628 | g_loss: 10.5651\n",
            "Epoch [   83/  100] | d_loss: 0.3964 | g_loss: 16.0720\n",
            "Epoch [   84/  100] | d_loss: 0.3704 | g_loss: 10.2866\n",
            "Epoch [   84/  100] | d_loss: 0.3639 | g_loss: 12.2365\n",
            "Epoch [   84/  100] | d_loss: 0.3558 | g_loss: 14.9587\n",
            "Epoch [   85/  100] | d_loss: 0.3373 | g_loss: 14.9389\n",
            "Epoch [   85/  100] | d_loss: 0.3416 | g_loss: 16.3572\n",
            "Epoch [   85/  100] | d_loss: 0.3532 | g_loss: 13.0897\n",
            "Epoch [   86/  100] | d_loss: 0.3597 | g_loss: 14.9548\n",
            "Epoch [   86/  100] | d_loss: 0.3823 | g_loss: 12.2272\n",
            "Epoch [   86/  100] | d_loss: 0.3642 | g_loss: 12.8553\n",
            "Epoch [   87/  100] | d_loss: 0.4082 | g_loss: 18.3008\n",
            "Epoch [   87/  100] | d_loss: 0.3840 | g_loss: 13.4424\n",
            "Epoch [   87/  100] | d_loss: 0.3640 | g_loss: 16.4073\n",
            "Epoch [   88/  100] | d_loss: 0.4064 | g_loss: 16.1102\n",
            "Epoch [   88/  100] | d_loss: 0.3430 | g_loss: 13.4806\n",
            "Epoch [   88/  100] | d_loss: 0.3364 | g_loss: 12.5617\n",
            "Epoch [   89/  100] | d_loss: 0.4195 | g_loss: 17.8195\n",
            "Epoch [   89/  100] | d_loss: 0.3334 | g_loss: 13.1923\n",
            "Epoch [   89/  100] | d_loss: 0.3371 | g_loss: 10.5418\n",
            "Epoch [   90/  100] | d_loss: 0.3412 | g_loss: 14.9822\n",
            "Epoch [   90/  100] | d_loss: 0.3382 | g_loss: 11.8569\n",
            "Epoch [   90/  100] | d_loss: 0.3760 | g_loss: 14.9855\n",
            "Epoch [   91/  100] | d_loss: 0.3615 | g_loss: 11.2111\n",
            "Epoch [   91/  100] | d_loss: 0.3388 | g_loss: 16.1110\n",
            "Epoch [   91/  100] | d_loss: 0.3724 | g_loss: 12.3702\n",
            "Epoch [   92/  100] | d_loss: 0.4209 | g_loss: 18.3953\n",
            "Epoch [   92/  100] | d_loss: 0.3361 | g_loss: 13.7854\n",
            "Epoch [   92/  100] | d_loss: 0.3605 | g_loss: 13.7614\n",
            "Epoch [   93/  100] | d_loss: 0.3539 | g_loss: 14.6120\n",
            "Epoch [   93/  100] | d_loss: 0.3554 | g_loss: 14.0195\n",
            "Epoch [   93/  100] | d_loss: 0.3479 | g_loss: 14.3690\n",
            "Epoch [   94/  100] | d_loss: 0.3778 | g_loss: 21.5370\n",
            "Epoch [   94/  100] | d_loss: 0.3464 | g_loss: 12.7459\n",
            "Epoch [   94/  100] | d_loss: 0.3502 | g_loss: 12.2694\n",
            "Epoch [   95/  100] | d_loss: 0.3692 | g_loss: 14.4256\n",
            "Epoch [   95/  100] | d_loss: 0.3578 | g_loss: 14.8336\n"
          ]
        }
      ]
    },
    {
      "cell_type": "code",
      "source": [
        "# Save training generator samples\n",
        "with open('train_samples.pkl', 'wb') as f:\n",
        "    pkl.dump(samples, f)"
      ],
      "metadata": {
        "id": "agCp-gl9H4U-"
      },
      "execution_count": null,
      "outputs": []
    },
    {
      "cell_type": "code",
      "source": [
        "fig, ax = plt.subplots()\n",
        "losses = np.array(losses)\n",
        "plt.plot(losses.T[0], label='Discriminator')\n",
        "plt.plot(losses.T[1], label='Generator')\n",
        "plt.title(\"Training Losses\")\n",
        "plt.legend()"
      ],
      "metadata": {
        "colab": {
          "base_uri": "https://localhost:8080/",
          "height": 298
        },
        "id": "fIKNmQvtH4XI",
        "outputId": "32c01a32-23b1-4b15-868b-a4ceb155110c"
      },
      "execution_count": 21,
      "outputs": [
        {
          "output_type": "execute_result",
          "data": {
            "text/plain": [
              "<matplotlib.legend.Legend at 0x7fd9e53c2cd0>"
            ]
          },
          "metadata": {},
          "execution_count": 21
        },
        {
          "output_type": "display_data",
          "data": {
            "text/plain": [
              "<Figure size 432x288 with 1 Axes>"
            ],
            "image/png": "[encoded data removed]"
          },
          "metadata": {
            "needs_background": "light"
          }
        }
      ]
    },
    {
      "cell_type": "code",
      "source": [
        "# helper function for viewing a list of passed in sample images\n",
        "def view_samples(epoch, samples):\n",
        "    fig, axes = plt.subplots(figsize=(7,7), nrows=4, ncols=4, sharey=True, sharex=True)\n",
        "    for ax, img in zip(axes.flatten(), samples[epoch]):\n",
        "        img = img.detach()\n",
        "        ax.xaxis.set_visible(False)\n",
        "        ax.yaxis.set_visible(False)\n",
        "        im = ax.imshow(img.reshape((28,28)), cmap='Greys_r')"
      ],
      "metadata": {
        "id": "eLjJywvcdl5K"
      },
      "execution_count": 22,
      "outputs": []
    },
    {
      "cell_type": "code",
      "source": [
        "# Load samples from generator, taken while training\n",
        "with open('train_samples.pkl', 'rb') as f:\n",
        "    samples = pkl.load(f)"
      ],
      "metadata": {
        "id": "PL2VVAVSdl3C"
      },
      "execution_count": 23,
      "outputs": []
    },
    {
      "cell_type": "code",
      "source": [
        "# -1 indicates final epoch's samples (the last in the list)\n",
        "view_samples(-1, samples)"
      ],
      "metadata": {
        "colab": {
          "base_uri": "https://localhost:8080/",
          "height": 415
        },
        "id": "kIYCdr_bdl0q",
        "outputId": "78e6b404-c710-4958-ef1d-c0f37188d6af"
      },
      "execution_count": 28,
      "outputs": [
        {
          "output_type": "display_data",
          "data": {
            "text/plain": [
              "<Figure size 504x504 with 16 Axes>"
            ],
            "image/png": "[encoded data removed]"
          },
          "metadata": {
            "needs_background": "light"
          }
        }
      ]
    },
    {
      "cell_type": "code",
      "source": [
        "rows = 10 # split epochs into 10, so 100/10 = every 10 epochs\n",
        "cols = 6\n",
        "fig, axes = plt.subplots(figsize=(7,12), nrows=rows, ncols=cols, sharex=True, sharey=True)\n",
        "\n",
        "for sample, ax_row in zip(samples[::int(len(samples)/rows)], axes):\n",
        "    for img, ax in zip(sample[::int(len(sample)/cols)], ax_row):\n",
        "        img = img.detach()\n",
        "        ax.imshow(img.reshape((28,28)), cmap='Greys_r')\n",
        "        ax.xaxis.set_visible(False)\n",
        "        ax.yaxis.set_visible(False)"
      ],
      "metadata": {
        "colab": {
          "base_uri": "https://localhost:8080/",
          "height": 687
        },
        "id": "EQtzGI4rfZpB",
        "outputId": "fd59dde9-d061-4ca9-9223-59f0454a13fc"
      },
      "execution_count": 25,
      "outputs": [
        {
          "output_type": "display_data",
          "data": {
            "text/plain": [
              "<Figure size 504x864 with 60 Axes>"
            ],
            "image/png": "[encoded data removed]"
          },
          "metadata": {
            "needs_background": "light"
          }
        }
      ]
    },
    {
      "cell_type": "code",
      "source": [
        "# randomly generated, new latent vectors\n",
        "sample_size=16\n",
        "rand_z = np.random.uniform(-1, 1, size=(sample_size, z_size))\n",
        "rand_z = torch.from_numpy(rand_z).float()\n",
        "\n",
        "G.eval() # eval mode\n",
        "# generated samples\n",
        "rand_images = G(rand_z)\n",
        "\n",
        "# 0 indicates the first set of samples in the passed in list\n",
        "# and we only have one batch of samples, here\n",
        "view_samples(0, [rand_images])"
      ],
      "metadata": {
        "colab": {
          "base_uri": "https://localhost:8080/",
          "height": 470
        },
        "id": "TdlWyDZ_fZkB",
        "outputId": "87fd75e2-3aa5-463d-979b-8311075eee1e"
      },
      "execution_count": 26,
      "outputs": [
        {
          "output_type": "stream",
          "name": "stderr",
          "text": [
            "/usr/local/lib/python3.7/dist-packages/torch/nn/functional.py:1949: UserWarning: nn.functional.tanh is deprecated. Use torch.tanh instead.\n",
            "  warnings.warn(\"nn.functional.tanh is deprecated. Use torch.tanh instead.\")\n"
          ]
        },
        {
          "output_type": "display_data",
          "data": {
            "text/plain": [
              "<Figure size 504x504 with 16 Axes>"
            ],
            "image/png": "[encoded data removed]"
          },
          "metadata": {
            "needs_background": "light"
          }
        }
      ]
    },
    {
      "cell_type": "code",
      "source": [],
      "metadata": {
        "id": "pINFaYbsfZhp"
      },
      "execution_count": null,
      "outputs": []
    }
  ]
}